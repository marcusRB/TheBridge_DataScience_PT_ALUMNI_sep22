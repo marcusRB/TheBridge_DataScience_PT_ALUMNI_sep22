{
 "cells": [
  {
   "cell_type": "markdown",
   "metadata": {},
   "source": [
    "# Ejercicios para practicar - Estructura de datos\n",
    "\n",
    "A continuación encontraréis un conjunto de problemas que pueden servir para practicar los conceptos explicados en esta primera unidad, así como para refrescar los conceptos básicos de programación. Os recomendamos que intentéis realizar estos problemas vosotros mismos y que, una vez realizados, comparéis la solución que proponemos con vuestra solución. No dudéis en dirigir todas las dudas que surjan de la resolución de estos ejercicios, o bien de las soluciones propuestas, al foro del aula.\n",
    "\n",
    "1. Decidid cuál es la estructura de datos más adecuada para responder a cada una de las preguntas siguientes y escribid el código que permita responderlas.\n",
    "\n",
    "Disponemos de datos de un conjunto de ciudades del mundo. De cada ciudad, sabemos si tiene más de 14 millones de habitantes, si es capital del país donde se encuentra y si tiene una densidad de población por encima de los 20.000 habitantes por $km^2$:\n",
    "* Las ciudades Shanghai, Beijing, Delhi, Estambul, Karachi, Guangzhou y Kinshasa tienen más de 14 millones de habitantes. El resto de las ciudades de las que tenemos datos tienen 14 millones o menos de habitantes.\n",
    "* Las ciudades Delhi, Beijing, Kinshasa, Tokio, Moscow, Jakarta, Seoul y El Cairo son capitales del país donde se encuentran. El resto de las ciudades de las que tenemos datos no son capitales.\n",
    "* Las ciudades El Cairo, Kinshasa, Delhi y Tokio tienen una densidad de población por encima de los 20.000 habitantes por $km^2$. El resto de las ciudades de las que tenemos datos no superan los 20.000 habitantes por $km^2$. \n",
    "\n",
    "1.1. ¿De cuántas ciudades (diferentes) tenemos datos? Asumiremos que no hay ninguna ciudad que no cumpla al menos una de las propiedades anteriores.\n"
   ]
  },
  {
   "cell_type": "code",
   "execution_count": 5,
   "metadata": {},
   "outputs": [
    {
     "name": "stdout",
     "output_type": "stream",
     "text": [
      "Ciudades diferentes:  12\n"
     ]
    }
   ],
   "source": [
    "# Respuesta\n",
    "\n",
    "import pandas as pd;\n",
    "\n",
    "ciudades = {'ciudad': ['Shanghai','Beijing','Delhi','Estambul','Karachi','Guangzhou','Kinshasa','Tokio','Moscow','Jakarta','Seoul','El Cairo'],\n",
    "        'mayor_hab': [True,True,True,True,True,True,True,False,False,False,False,False],\n",
    "        'capital' : [False,True,True,False,False,False,False,True,True,True,True,True],\n",
    "        'mayor_densidad': [False,False,True,False,False,False,True,True,False,False,False,True]}\n",
    "df = pd.DataFrame(data=ciudades)\n",
    "\n",
    "print('Ciudades diferentes: ',df.shape[0])"
   ]
  },
  {
   "cell_type": "markdown",
   "metadata": {},
   "source": [
    "1.2. ¿Cuántas ciudades tienen más de 14 millones de habitantes y una densidad de población por encima de los 20.000 habitantes por $ km ^ 2 $?\n"
   ]
  },
  {
   "cell_type": "code",
   "execution_count": 6,
   "metadata": {},
   "outputs": [
    {
     "data": {
      "text/html": [
       "<div>\n",
       "<style scoped>\n",
       "    .dataframe tbody tr th:only-of-type {\n",
       "        vertical-align: middle;\n",
       "    }\n",
       "\n",
       "    .dataframe tbody tr th {\n",
       "        vertical-align: top;\n",
       "    }\n",
       "\n",
       "    .dataframe thead th {\n",
       "        text-align: right;\n",
       "    }\n",
       "</style>\n",
       "<table border=\"1\" class=\"dataframe\">\n",
       "  <thead>\n",
       "    <tr style=\"text-align: right;\">\n",
       "      <th></th>\n",
       "      <th>ciudad</th>\n",
       "      <th>mayor_hab</th>\n",
       "      <th>capital</th>\n",
       "      <th>mayor_densidad</th>\n",
       "    </tr>\n",
       "  </thead>\n",
       "  <tbody>\n",
       "    <tr>\n",
       "      <th>2</th>\n",
       "      <td>Delhi</td>\n",
       "      <td>True</td>\n",
       "      <td>True</td>\n",
       "      <td>True</td>\n",
       "    </tr>\n",
       "    <tr>\n",
       "      <th>6</th>\n",
       "      <td>Kinshasa</td>\n",
       "      <td>True</td>\n",
       "      <td>False</td>\n",
       "      <td>True</td>\n",
       "    </tr>\n",
       "  </tbody>\n",
       "</table>\n",
       "</div>"
      ],
      "text/plain": [
       "     ciudad  mayor_hab  capital  mayor_densidad\n",
       "2     Delhi       True     True            True\n",
       "6  Kinshasa       True    False            True"
      ]
     },
     "execution_count": 6,
     "metadata": {},
     "output_type": "execute_result"
    }
   ],
   "source": [
    "# Respuesta\n",
    "df[(df['mayor_hab']==True) & (df['mayor_densidad']==True)]"
   ]
  },
  {
   "cell_type": "markdown",
   "metadata": {},
   "source": [
    "1.3. ¿Qué ciudades tienen una densidad de población por encima de los 20.000 habitantes por $ km ^ 2 $ pero no más de 14 millones de habitantes?\n"
   ]
  },
  {
   "cell_type": "code",
   "execution_count": 7,
   "metadata": {},
   "outputs": [
    {
     "data": {
      "text/html": [
       "<div>\n",
       "<style scoped>\n",
       "    .dataframe tbody tr th:only-of-type {\n",
       "        vertical-align: middle;\n",
       "    }\n",
       "\n",
       "    .dataframe tbody tr th {\n",
       "        vertical-align: top;\n",
       "    }\n",
       "\n",
       "    .dataframe thead th {\n",
       "        text-align: right;\n",
       "    }\n",
       "</style>\n",
       "<table border=\"1\" class=\"dataframe\">\n",
       "  <thead>\n",
       "    <tr style=\"text-align: right;\">\n",
       "      <th></th>\n",
       "      <th>ciudad</th>\n",
       "      <th>mayor_hab</th>\n",
       "      <th>capital</th>\n",
       "      <th>mayor_densidad</th>\n",
       "    </tr>\n",
       "  </thead>\n",
       "  <tbody>\n",
       "    <tr>\n",
       "      <th>7</th>\n",
       "      <td>Tokio</td>\n",
       "      <td>False</td>\n",
       "      <td>True</td>\n",
       "      <td>True</td>\n",
       "    </tr>\n",
       "    <tr>\n",
       "      <th>11</th>\n",
       "      <td>El Cairo</td>\n",
       "      <td>False</td>\n",
       "      <td>True</td>\n",
       "      <td>True</td>\n",
       "    </tr>\n",
       "  </tbody>\n",
       "</table>\n",
       "</div>"
      ],
      "text/plain": [
       "      ciudad  mayor_hab  capital  mayor_densidad\n",
       "7      Tokio      False     True            True\n",
       "11  El Cairo      False     True            True"
      ]
     },
     "execution_count": 7,
     "metadata": {},
     "output_type": "execute_result"
    }
   ],
   "source": [
    "# Respuesta\n",
    "df[(df['mayor_hab']!=True) & (df['mayor_densidad']==True)]"
   ]
  },
  {
   "cell_type": "markdown",
   "metadata": {},
   "source": [
    "1.4. ¿Cuál es el país con mayor número de ciudades por encima de 14 millones de habitantes? ¿Cuántas ciudades de estas características hay en cada país?\n",
    "\n",
    "Para responder a estas preguntas, nos faltará añadir información al conjunto de datos de ciudades disponible para realizar la actividad. Pensad cuál sería la estructura de datos más adecuada para almacenar esta información extra y calcular la respuesta a la pregunta planteada.\n"
   ]
  },
  {
   "cell_type": "code",
   "execution_count": 60,
   "metadata": {},
   "outputs": [
    {
     "name": "stdout",
     "output_type": "stream",
     "text": [
      "Pais con mas ciudades:  China\n",
      "Ciudades de estas caracteristicas en cada pais: \n",
      "           ciudad\n",
      "pais            \n",
      "China          3\n",
      "Congo          1\n",
      "India          1\n",
      "Pakistan       1\n",
      "Turquia        1\n"
     ]
    }
   ],
   "source": [
    "# Respuesta\n",
    "paises = ['China','China','India','Turquia','Pakistan','China','Congo','Japon','Rusia','Indonesia','Corea del sur','Egipto']\n",
    "df['pais'] = paises\n",
    "grouped = df.groupby(['pais','ciudad']).filter(lambda x: (x['mayor_hab'] == True).any())[['pais','ciudad']]\n",
    "\n",
    "pais_group=grouped.groupby('pais').count().sort_values(by='pais')\n",
    "\n",
    "print('Pais con mas ciudades: ',pais_group.iloc[0].name)\n",
    "print('Ciudades de estas caracteristicas en cada pais: \\n',pais_group)\n"
   ]
  },
  {
   "cell_type": "markdown",
   "metadata": {},
   "source": [
    "1.5. ¿Cuáles son los dos países adyacentes que tienen el mayor número de ciudades por encima de 14 millones de habitantes?\n",
    "\n",
    "Para responder a esta pregunta, nos faltará añadir más información al conjunto de datos de ciudades disponible para realizar la actividad. De nuevo, pensad cuál sería la estructura de datos más adecuada para almacenar esta información extra y calcular la respuesta a la pregunta planteada.\n",
    "\n"
   ]
  },
  {
   "cell_type": "code",
   "execution_count": 97,
   "metadata": {},
   "outputs": [],
   "source": [
    "# Respuesta"
   ]
  },
  {
   "cell_type": "markdown",
   "metadata": {},
   "source": [
    "2. Calculad cuántas horas ha trabajado la persona que ha escrito la siguiente frase:\n",
    "\n",
    "\"I started working at 17:22:42 and finished at 22:00:00\"\n",
    "\n"
   ]
  },
  {
   "cell_type": "code",
   "execution_count": 107,
   "metadata": {},
   "outputs": [
    {
     "name": "stdout",
     "output_type": "stream",
     "text": [
      "Tiempo trabajado:  4:37:56\n"
     ]
    }
   ],
   "source": [
    "sentence = \"I started working at 17:22:42 and finished at 22:00:00\"\n",
    "import datetime;\n",
    "# Respuesta\n",
    "aux = sentence.split(' ')\n",
    "tiempo1 = '00:00:00'\n",
    "tiempo2 = '00:00:00'\n",
    "\n",
    "for i in aux:\n",
    "    if i[:1].isnumeric():\n",
    "        if tiempo1 != '00:00:00':\n",
    "            tiempo2 = i\n",
    "        else:\n",
    "            tiempo1 = i\n",
    "tiempo = datetime.timedelta(hours=int(tiempo2[:2]),minutes = int(tiempo2[3:5]),seconds= int(tiempo2[6:7])) - datetime.timedelta(hours=int(tiempo1[:2]),minutes = int(tiempo1[3:5]),seconds= int(tiempo1[6:7]))\n",
    "\n",
    "print('Tiempo trabajado: ',str(tiempo))"
   ]
  },
  {
   "cell_type": "markdown",
   "metadata": {},
   "source": [
    "3. Dada la cadena de caracteres `sentence`, reemplazad todos los espacios en blanco por puntos.\n"
   ]
  },
  {
   "cell_type": "code",
   "execution_count": 109,
   "metadata": {},
   "outputs": [
    {
     "data": {
      "text/plain": [
       "'.From.....time.to.time,.Python.makes..an....incompatible.change..to.the...advertised.semantics.of.core.language.constructs...'"
      ]
     },
     "execution_count": 109,
     "metadata": {},
     "output_type": "execute_result"
    }
   ],
   "source": [
    "sentence = \" From     time to time, Python makes  an    incompatible change \" \\\n",
    "    \" to the   advertised semantics of core language constructs   \"\n",
    "\n",
    "# Respuesta\n",
    "aux=sentence.replace(' ','.')\n",
    "aux"
   ]
  },
  {
   "cell_type": "markdown",
   "metadata": {},
   "source": [
    "4. Dada la misma cadena de caracteres del ejercicio anterior, reemplazad todos los espacios en blanco contiguos por un único punto. Es decir, si encontráis tres espacios en blanco consecutivos, estos se deben reemplazar por un único punto, y no por tres puntos como implementábamos en el ejercicio anterior. Eliminad los espacios que se encuentran al inicio y al final de la cadena antes de sustituirlos por puntos.\n"
   ]
  },
  {
   "cell_type": "code",
   "execution_count": 113,
   "metadata": {},
   "outputs": [
    {
     "data": {
      "text/plain": [
       "'From.time.to.time,.Python.makes.an.incompatible.change.to.the.advertised.semantics.of.core.language.constructs'"
      ]
     },
     "execution_count": 113,
     "metadata": {},
     "output_type": "execute_result"
    }
   ],
   "source": [
    "# Respuesta\n",
    "aux = sentence.split()\n",
    "res=\".\".join(aux)\n",
    "res"
   ]
  },
  {
   "cell_type": "markdown",
   "metadata": {},
   "source": [
    "5. Proporcionad una lista con todas las palabras de cuatro letras de la cadena de caracteres `sentence` que empiecen por `t` o `F`.\n"
   ]
  },
  {
   "cell_type": "code",
   "execution_count": 120,
   "metadata": {},
   "outputs": [
    {
     "data": {
      "text/plain": [
       "['From', 'time']"
      ]
     },
     "execution_count": 120,
     "metadata": {},
     "output_type": "execute_result"
    }
   ],
   "source": [
    "# Respuesta\n",
    "aux = sentence.split()\n",
    "lista=[]\n",
    "\n",
    "[lista.append(i) for i in aux if len(i) == 4 and (i[:1]=='t' or i[:1]=='F')]\n",
    "\n",
    "lista"
   ]
  },
  {
   "cell_type": "markdown",
   "metadata": {},
   "source": [
    "6. Reemplazad todas las mayúsculas de la cadena `sentence` por interrogantes.\n"
   ]
  },
  {
   "cell_type": "code",
   "execution_count": 134,
   "metadata": {},
   "outputs": [
    {
     "data": {
      "text/plain": [
       "'from time to time, python makes an incompatible change to the advertised semantics of core language constructs'"
      ]
     },
     "execution_count": 134,
     "metadata": {},
     "output_type": "execute_result"
    }
   ],
   "source": [
    "# Respuesta\n",
    "aux = sentence.split()\n",
    "newlist = []\n",
    "\n",
    "[newlist.append(palabra.lower()) for palabra in aux]\n",
    "resultado = ' '.join(newlist)\n",
    "resultado"
   ]
  },
  {
   "cell_type": "markdown",
   "metadata": {},
   "source": [
    "7. Una aerolínea nos contrata para ayudarla a optimizar el procedimiento de embarque de sus aviones. La aerolínea dispone de tres clases de billetes: primera, *business* y turista. A la hora de embarcar, los clientes se sitúan en tres colas, una para cada clase. Después, sin embargo, solo hay dos azafatas que les validen la tarjeta de embarque, por lo que las tres colas iniciales se convierten en dos, a partir de las cuales los pasajeros acceden a los aviones.\n",
    "\n",
    "Actualmente, la aerolínea utiliza la siguiente estrategia para convertir las tres colas iniciales (por clase) en las dos colas que embarcan (una por cada azafata):\n",
    "\n",
    "Por un lado, los clientes de primera y *business* van a parar a la cola 1 (cola prioritaria), intercalando un cliente de cada tipo en la cola prioritaria siempre que haya suficientes clientes para hacerlo, y asignando después todos los clientes restantes a la nueva cola. Así, el primer cliente que se asigna a la cola prioritaria es el primer cliente de la clase primera, el segundo cliente de la cola prioritaria será el primer cliente de la cola de *business*, el tercer cliente de la cola prioritaria será el segundo cliente de la clase primera, etc.\n",
    "\n",
    "Por otra parte, los clientes de clase turista van a parar a la cola 2 (cola no prioritaria), siguiendo el orden que tenían en la cola de la clase turista. Ahora bien, si un cliente de clase turista tiene movilidad reducida o va acompañado de niños, entonces este se sitúa al frente de la cola prioritaria. Si hay más de un cliente en estas condiciones, el orden que siguen en la cola de la clase turista se mantiene.\n",
    "\n",
    "Para evaluar cómo de buena es la estrategia, la aerolínea utiliza dos métricas:\n",
    "1. El tiempo que se tarda en embarcar el avión es de 30 segundos por pasajero, considerando que las dos colas (1 y 2) embarcan a la vez. Es decir, si la cola 1 tiene un pasajero y la cola 2 tiene dos, se tardará un minuto en embarcar.\n",
    "2. La satisfacción global de sus clientes, que se calcula haciendo la media de la satisfacción de cada cliente, considerando que:\n"
   ]
  },
  {
   "cell_type": "markdown",
   "metadata": {},
   "source": [
    "* Los clientes de primera tienen una satisfacción de -25 veces el número de posiciones que han perdido en la cola prioritaria respecto a su posición original en la cola de primera. Es decir, un cliente que estaba en tercera posición en la cola de primera y que ocupa la quinta posición de la cola prioritaria, tendrá una satisfacción de -50.\n",
    "* Los clientes de *business* siempre tienen una satisfacción de 0.\n",
    "* Los clientes con billete de clase turista que han sido movidos a la cola prioritaria tienen una satisfacción de 100. En cambio, los que han sido movidos a la cola no prioritaria tienen una satisfacción de 25 si han avanzado alguna posición en la cola 2 respecto a su posición inicial en la cola de la clase turista, o de 0 en cualquier otro caso.\n",
    "\n",
    "Como analistas de datos, evaluaremos la satisfacción y el tiempo de embarque del avión del vuelo 714.\n"
   ]
  },
  {
   "cell_type": "markdown",
   "metadata": {},
   "source": [
    "7.1 Cargad los datos de los pasajeros del vuelo 714 que encontraréis en el dataset `data/flight714.csv` y cread las tres colas, primera, *business* y turista, con los datos de los pasajeros. Los clientes se encuentran ordenados según su posición en la cola, con la columna `client_class` indicando a cuál de las colas pertenecen.\n"
   ]
  },
  {
   "cell_type": "code",
   "execution_count": 144,
   "metadata": {},
   "outputs": [
    {
     "data": {
      "text/html": [
       "<div>\n",
       "<style scoped>\n",
       "    .dataframe tbody tr th:only-of-type {\n",
       "        vertical-align: middle;\n",
       "    }\n",
       "\n",
       "    .dataframe tbody tr th {\n",
       "        vertical-align: top;\n",
       "    }\n",
       "\n",
       "    .dataframe thead th {\n",
       "        text-align: right;\n",
       "    }\n",
       "</style>\n",
       "<table border=\"1\" class=\"dataframe\">\n",
       "  <thead>\n",
       "    <tr style=\"text-align: right;\">\n",
       "      <th></th>\n",
       "      <th>client_id</th>\n",
       "      <th>client_class</th>\n",
       "      <th>has_children</th>\n",
       "      <th>has_reduced_mobility</th>\n",
       "    </tr>\n",
       "  </thead>\n",
       "  <tbody>\n",
       "    <tr>\n",
       "      <th>0</th>\n",
       "      <td>1</td>\n",
       "      <td>p</td>\n",
       "      <td>0</td>\n",
       "      <td>0</td>\n",
       "    </tr>\n",
       "    <tr>\n",
       "      <th>1</th>\n",
       "      <td>2</td>\n",
       "      <td>p</td>\n",
       "      <td>0</td>\n",
       "      <td>0</td>\n",
       "    </tr>\n",
       "    <tr>\n",
       "      <th>2</th>\n",
       "      <td>3</td>\n",
       "      <td>p</td>\n",
       "      <td>0</td>\n",
       "      <td>0</td>\n",
       "    </tr>\n",
       "    <tr>\n",
       "      <th>3</th>\n",
       "      <td>4</td>\n",
       "      <td>b</td>\n",
       "      <td>0</td>\n",
       "      <td>0</td>\n",
       "    </tr>\n",
       "    <tr>\n",
       "      <th>4</th>\n",
       "      <td>5</td>\n",
       "      <td>b</td>\n",
       "      <td>0</td>\n",
       "      <td>0</td>\n",
       "    </tr>\n",
       "    <tr>\n",
       "      <th>5</th>\n",
       "      <td>6</td>\n",
       "      <td>b</td>\n",
       "      <td>0</td>\n",
       "      <td>0</td>\n",
       "    </tr>\n",
       "    <tr>\n",
       "      <th>6</th>\n",
       "      <td>7</td>\n",
       "      <td>b</td>\n",
       "      <td>0</td>\n",
       "      <td>0</td>\n",
       "    </tr>\n",
       "    <tr>\n",
       "      <th>7</th>\n",
       "      <td>8</td>\n",
       "      <td>b</td>\n",
       "      <td>0</td>\n",
       "      <td>0</td>\n",
       "    </tr>\n",
       "    <tr>\n",
       "      <th>8</th>\n",
       "      <td>9</td>\n",
       "      <td>b</td>\n",
       "      <td>0</td>\n",
       "      <td>0</td>\n",
       "    </tr>\n",
       "    <tr>\n",
       "      <th>9</th>\n",
       "      <td>10</td>\n",
       "      <td>b</td>\n",
       "      <td>0</td>\n",
       "      <td>0</td>\n",
       "    </tr>\n",
       "    <tr>\n",
       "      <th>10</th>\n",
       "      <td>11</td>\n",
       "      <td>b</td>\n",
       "      <td>0</td>\n",
       "      <td>0</td>\n",
       "    </tr>\n",
       "    <tr>\n",
       "      <th>11</th>\n",
       "      <td>12</td>\n",
       "      <td>b</td>\n",
       "      <td>0</td>\n",
       "      <td>0</td>\n",
       "    </tr>\n",
       "    <tr>\n",
       "      <th>12</th>\n",
       "      <td>13</td>\n",
       "      <td>b</td>\n",
       "      <td>0</td>\n",
       "      <td>0</td>\n",
       "    </tr>\n",
       "  </tbody>\n",
       "</table>\n",
       "</div>"
      ],
      "text/plain": [
       "    client_id client_class  has_children  has_reduced_mobility\n",
       "0           1            p             0                     0\n",
       "1           2            p             0                     0\n",
       "2           3            p             0                     0\n",
       "3           4            b             0                     0\n",
       "4           5            b             0                     0\n",
       "5           6            b             0                     0\n",
       "6           7            b             0                     0\n",
       "7           8            b             0                     0\n",
       "8           9            b             0                     0\n",
       "9          10            b             0                     0\n",
       "10         11            b             0                     0\n",
       "11         12            b             0                     0\n",
       "12         13            b             0                     0"
      ]
     },
     "execution_count": 144,
     "metadata": {},
     "output_type": "execute_result"
    }
   ],
   "source": [
    "# Respuesta\n",
    "df = pd.DataFrame()\n",
    "df = pd.read_csv('flight714.csv')\n",
    "\n",
    "df_colaturista = df[df['client_class']=='t']\n",
    "df_colaprioritaria = df[df['client_class'].isin(['p','b'])]"
   ]
  },
  {
   "cell_type": "markdown",
   "metadata": {},
   "source": [
    "7.2 Mostrad cuántos pasajeros hay en cada cola, con el detalle de cuántos de ellos tienen o bien niños o bien movilidad reducida.\n"
   ]
  },
  {
   "cell_type": "code",
   "execution_count": 147,
   "metadata": {},
   "outputs": [
    {
     "name": "stdout",
     "output_type": "stream",
     "text": [
      "Cola prioritaria:  13  Tiene movilidad reducida o niños:  0\n",
      "Cola turista:  37  Tiene movilidad reducida o niños:  6\n"
     ]
    }
   ],
   "source": [
    "# Respuesta\n",
    "esp_prio = len(df_colaprioritaria[(df_colaprioritaria['has_reduced_mobility']==1) | (df_colaprioritaria['has_children']==1)])\n",
    "esp_turis = len(df_colaturista[(df_colaturista['has_reduced_mobility']==1) | (df_colaturista['has_children']==1)])\n",
    "print('Cola prioritaria: ',df_colaprioritaria.shape[0],' Tiene movilidad reducida o niños: ',esp_prio)\n",
    "print('Cola turista: ',df_colaturista.shape[0],' Tiene movilidad reducida o niños: ',esp_turis)"
   ]
  },
  {
   "cell_type": "markdown",
   "metadata": {},
   "source": [
    "7.3 Implementad una función que genere las dos colas de embarque (cola prioritaria y cola no prioritaria) a partir de las tres colas obtenidas según la clase del billete del pasajero.\n"
   ]
  },
  {
   "cell_type": "code",
   "execution_count": 105,
   "metadata": {},
   "outputs": [],
   "source": [
    "# Respuesta"
   ]
  },
  {
   "cell_type": "markdown",
   "metadata": {},
   "source": [
    "7.4 Implementad una función que calcule el tiempo que se tarda en embarcar el avión y una función que calcule la satisfacción de los pasajeros.\n"
   ]
  },
  {
   "cell_type": "code",
   "execution_count": 106,
   "metadata": {},
   "outputs": [],
   "source": [
    "# Respuesta"
   ]
  },
  {
   "cell_type": "markdown",
   "metadata": {},
   "source": [
    "7.5 Calculad el tiempo que se tarda en embarcar el vuelo 714 y la satisfacción de los clientes.\n"
   ]
  },
  {
   "cell_type": "code",
   "execution_count": 107,
   "metadata": {},
   "outputs": [],
   "source": [
    "# Respuesta"
   ]
  }
 ],
 "metadata": {
  "kernelspec": {
   "display_name": "Python 3.9.13 ('rampup_py39')",
   "language": "python",
   "name": "python3"
  },
  "language_info": {
   "codemirror_mode": {
    "name": "ipython",
    "version": 3
   },
   "file_extension": ".py",
   "mimetype": "text/x-python",
   "name": "python",
   "nbconvert_exporter": "python",
   "pygments_lexer": "ipython3",
   "version": "3.9.13"
  },
  "pycharm": {
   "stem_cell": {
    "cell_type": "raw",
    "metadata": {
     "collapsed": false
    },
    "source": []
   }
  },
  "vscode": {
   "interpreter": {
    "hash": "eaaea08649847d1cf7de1c352d4531d9c9dcf06d1d28c4a1fbe7a87a200e4d41"
   }
  }
 },
 "nbformat": 4,
 "nbformat_minor": 4
}
