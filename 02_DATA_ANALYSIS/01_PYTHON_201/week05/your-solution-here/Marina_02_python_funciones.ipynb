{
 "cells": [
  {
   "cell_type": "markdown",
   "metadata": {},
   "source": [
    "Programación para *Data Science*\n",
    "============================\n",
    "\n",
    "Intro101 - week5\n",
    " Conceptos avanzados de Python\n",
    "--------------------------------------\n",
    "\n",
    "En este Notebook encontraréis dos conjuntos de ejercicios de Python."
   ]
  },
  {
   "cell_type": "markdown",
   "metadata": {},
   "source": [
    "### Ejercicio 1\n",
    "\n",
    "Al final de la Edad Media, en Francia, el diplomático francés Blaise de Vigenère desarrollo un algoritmo para cifrar mensajes que nadie fue capaz de romper durante aproximadamente 250 años. El algoritmo se conoce con el nombre de [cifrado de Vigenère](https://es.wikipedia.org/wiki/Cifrado_de_Vigen%C3%A8re).\n",
    "\n",
    "El cifrado de Vigenère consiste en añadir a cada una de las letras de un texto un desplazamiento a partir de una clave secreta para conseguir una nueva letra diferente de la original. Veamos un ejemplo:\n",
    "\n",
    "Si asignamos el número 1 a la primera letra del abecedario, A, 2 a la siguiente, B, etc., imaginad que tenemos el siguiente mensaje:\n",
    "<code>\n",
    "ABC\n",
    "123\n",
    "</code>\n",
    "\n",
    "y la siguiente clave secreta:\n",
    "<code>\n",
    "DEF\n",
    "456\n",
    "</code>\n",
    "\n",
    "A cada letra del mensaje original aplicamos un desplazamiento en función de la misma posición dentro de la clave secreta. Por lo tanto, el mensaje cifrado quedaría de la siguiente forma:\n",
    "<code>\n",
    "   E       G       I\n",
    "(1 + 4) (2 + 5) (3 + 6)\n",
    "</code>\n",
    "\n",
    "Escribid una función que, dado un mensaje y una clave secreta, calcule y devuelva el mensaje cifrado.\n",
    "\n",
    "*Consideraciones.*\n",
    "\n",
    "- Utilizad como alfabeto de entrada **el alfabeto inglés en mayúsculas**.\n",
    "- El valor por defecto de la clave secreta será **DATASCI**."
   ]
  },
  {
   "cell_type": "code",
   "execution_count": null,
   "metadata": {},
   "outputs": [],
   "source": [
    "def cifrado_vigenere(mensaje, clave=\"DATASCI\"):\n",
    "    \"\"\"\n",
    "    Cifra el mensaje utilizando el cifrado de Vigenère\n",
    "    \"\"\"\n",
    "    mensaje_cifrado = \"\"\n",
    "    abecedario= \"ABCDEFGHIJKLMNOPQRSTVWXYZ\"\n",
    "\n",
    "    # Código que hay que completar\n",
    "\n",
    "    ordenclave=0\n",
    "    for i in range(len(mensaje)):\n",
    "        if ordenclave > len(clave)-1:\n",
    "            ordenClave =0\n",
    "        if mensaje[i]== \" \":\n",
    "            mensaje_cifrado+= \" \"\n",
    "        else:\n",
    "            \n",
    "\n",
    "    return mensaje_cifrado\n",
    "\n",
    "# Aquí podéis añadir más ejemplos:\n",
    "print(cifrado_vigenere(\"ATACAREMOS AL AMANECER\"))"
   ]
  },
  {
   "cell_type": "markdown",
   "metadata": {},
   "source": [
    "### Ejercicio 2\n",
    "\n",
    "Completad las siguientes funciones y documentad el código si lo consideráis oportuno. Finalmente, escribid al menos un ejemplo de uso para cada función."
   ]
  },
  {
   "cell_type": "code",
   "execution_count": 1,
   "metadata": {},
   "outputs": [
    {
     "name": "stdout",
     "output_type": "stream",
     "text": [
      "El objeto se ha dejado caer des de una altura de 490.000000 metros\n",
      "El objeto se ha dejado caer des de una altura de 11.025000 metros\n",
      "Las coordenadas en el sistema cartesiano del punto (13, 23) son (5.079505, 11.966563).\n",
      "Las coordenadas en el sistema cartesiano del punto (5, 90) son (5.000000, 0.000000).\n"
     ]
    }
   ],
   "source": [
    "# Completad las funciones matemáticas siguientes\n",
    "import math\n",
    "\n",
    "\"\"\"Función que calcula la altura en un movimiento de caída libre\n",
    "\n",
    "Suponemos que dejamos caer un objeto des de un edificio de altura desconocida.\n",
    "El parámetro duracion_caida nos indica el tiempo (en segundos) que tarda el objeto en llegar a \n",
    "la tierra. La función debería calcular la altura del edificio des del cual se ha \n",
    "lanzado el objeto.\n",
    "\n",
    "Podéis encontrar más información sobre el movimiento de caída libre en el siguiente \n",
    "enlace: https://www.fisicalab.com/apartado/caida-libre#contenidos.\n",
    "\"\"\"\n",
    "\n",
    "def calcular_altura_caida_libre(duracion_caida):\n",
    "    gravedad=9.8\n",
    "    altura=0.5 * gravedad * (duracion_caida**2)\n",
    "\n",
    "    return altura\n",
    "    \n",
    "\n",
    "\n",
    "\n",
    "\n",
    "\"\"\"Función que calcula las coordenadas cartesianas de un punto representado en coordenadas polares\n",
    "\n",
    "Dado un punto representado por sus coordenadas polares (radio y angulo), la función debería calcular \n",
    "las correspondientes coordenadas cartesianas y devolver una tupla con su valor.\n",
    "\n",
    "Podéis encontrar más información sobre el sistema de coordenadas polares y su conversión al sistema \n",
    "cartesiano en el siguiente enlace: https://es.wikipedia.org/wiki/Coordenadas_polares.\n",
    "\"\"\"\n",
    "\n",
    "def calcular_coordenadas_cartesianas(radio, angulo_en_grados):\n",
    "    # Convertimos el ángulo a radianes\n",
    "    angulo_radianes = math.radians(angulo_en_grados)\n",
    "    x= radio* math.sin(angulo_radianes)\n",
    "    y= radio * math.cos(angulo_radianes)\n",
    "    \n",
    "    return x,y\n",
    "\n",
    "# Escribid aquí al menos un ejemplo de uso utilizando las funciones anteriores. Por ejemplo:\n",
    "print(\"El objeto se ha dejado caer des de una altura de %f metros\" % calcular_altura_caida_libre(10))\n",
    "print(\"El objeto se ha dejado caer des de una altura de %f metros\" % calcular_altura_caida_libre(1.5))\n",
    "\n",
    "\n",
    "print(\"Las coordenadas en el sistema cartesiano del punto (13, 23) son (%f, %f).\" % calcular_coordenadas_cartesianas(13, 23))\n",
    "print(\"Las coordenadas en el sistema cartesiano del punto (5, 90) son (%f, %f).\" % calcular_coordenadas_cartesianas(5, 90))"
   ]
  },
  {
   "cell_type": "code",
   "execution_count": null,
   "metadata": {},
   "outputs": [],
   "source": []
  }
 ],
 "metadata": {
  "kernelspec": {
   "display_name": "Python 3.9.13 ('rumpup_py39')",
   "language": "python",
   "name": "python3"
  },
  "language_info": {
   "codemirror_mode": {
    "name": "ipython",
    "version": 3
   },
   "file_extension": ".py",
   "mimetype": "text/x-python",
   "name": "python",
   "nbconvert_exporter": "python",
   "pygments_lexer": "ipython3",
   "version": "3.9.13"
  },
  "orig_nbformat": 4,
  "vscode": {
   "interpreter": {
    "hash": "0b7ff2697a00a2a5e3da6c7165035c5ec7bbab9dfa9d13d2dd067d69dac00012"
   }
  }
 },
 "nbformat": 4,
 "nbformat_minor": 2
}
