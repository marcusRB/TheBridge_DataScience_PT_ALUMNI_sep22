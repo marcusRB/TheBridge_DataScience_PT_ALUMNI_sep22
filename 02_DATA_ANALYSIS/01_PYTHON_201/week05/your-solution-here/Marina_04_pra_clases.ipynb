{
 "cells": [
  {
   "cell_type": "markdown",
   "metadata": {},
   "source": [
    "## Ejercicio 1\n",
    "Somos una empresa que tiene varias tiendas de electrodomesticos. Necesitamos un programa para manejar las tiendas, ver las ventas que han tenido, cuántos empleados hay, etc... Para ello vamos a modelizar la tienda en una clase, que tendrá las siguientes características:\n",
    "\n",
    "* Nombre clase: \"Tienda\"\n",
    "* Atributos comunes:\n",
    "    * Tipo: \"Electrodomésticos\"\n",
    "    * Abierta: True\n",
    "* Atributos propios de cada tienda:\n",
    "    * Nombre - String\n",
    "    * Dirección - String\n",
    "    * Número de empleados - int\n",
    "    * Ventas ultimos 3 meses - Lista de 3 numeros\n",
    "* Método para calcular las ventas de todos los meses, que devuelva un numero con todas las ventas.\n",
    "* Método que calcula la media de ventas de los ultimos meses, por empleado\n",
    "* Método que devuelve en un string el nombre de la tienda, junto con su dirección.\n",
    "* Método que obtiene las ventas del último mes.\n",
    "* Método para dar una proyección de las ventas en caso de haber invertido X dinero en marketing en esa tienda. Siendo X el parámetro de entrada. Si X es menor de 1000, las ventas de los ultimos 3 meses hubiesen sido de (1.2 x ventas), si es mayor o igual de 1000, las ventas hubiesen sido de (1.5 x venta). El método reescribe el atributo de ventas en los últimos 3 meses, y además devuelve las ventas con el aumento.\n",
    "\n",
    "* Se pide:\n",
    "1. Implementar la clase \"Tienda\"\n",
    "2. Crear tres tiendas con datos inventados\n",
    "3. Comprueba en al menos una de ellas, todo lo implementado en la clase tienda (sus atributos, media de ventas, ventas/empleado...)\n",
    "4. Calcular las ventas del último mes de todas las tiendas. Para ello usa el bucle `for`\n",
    "5. Imprime por pantalla los nombres de las tiendas cuya dirección lleve el string \"Avenida\"\n",
    "6. Utilizad este notebook para ejecutar y un fichero para definir vuestras clases, métodos y funciones.\n",
    "7. Seguro que ya has hecho este apartado... Documenta la clase :)"
   ]
  },
  {
   "cell_type": "code",
   "execution_count": 23,
   "metadata": {},
   "outputs": [],
   "source": [
    "import numpy as np\n",
    "\n",
    "# Implementar la clase Tienda\n",
    "\n",
    "class Tienda:\n",
    "    \"\"\"  \n",
    "    Descripcion\n",
    "        Clase tienda\n",
    "        Varias tiendas de electrodomesticos.\n",
    "        Todas son de tipo electrodomesticos y abiertas\n",
    "    \n",
    "    \"\"\"\n",
    "\n",
    "    def __init__(self,nombre,direccion,num_empleados, ventas_meses):\n",
    "        \"\"\" \n",
    "        Metodo constructor de tiendas\n",
    "        \n",
    "        Args:\n",
    "            nombre str\n",
    "            direccion str\n",
    "            empleados int\n",
    "            ventas list[int]\n",
    "        \"\"\"\n",
    "        self.tipo = \"Electrodomesticos\"\n",
    "        self.abierta = True\n",
    "        self.nombre = nombre\n",
    "        self.direccion = direccion\n",
    "        self.empleados = num_empleados\n",
    "        self.ventas = ventas_meses\n",
    "        print(\"Tienda \" , nombre , \"inicializada\")\n",
    "\n",
    "    def total_ventas(self):\n",
    "        \"\"\" \n",
    "        Calcula la suma de las ventas\n",
    "\n",
    "        return:\n",
    "            Suma de ventas\n",
    "        \n",
    "        \"\"\"\n",
    "\n",
    "        return sum([i for i in self.ventas])\n",
    "\n",
    "    def media_ventas_empleados(self):\n",
    "        \"\"\" \n",
    "        Calcula la media de ventas por empleados\n",
    "\n",
    "        return:\n",
    "            sum(ventas)/empleados\n",
    "        \"\"\"\n",
    "\n",
    "        return sum([i for i in self.ventas])/self.empleados\n",
    "\n",
    "    def info_tienda(self):\n",
    "        \"\"\" \n",
    "        Muestra el nombre y direccion de la tienda\n",
    "\n",
    "        return:\n",
    "            string nombre + direccion        \n",
    "        \"\"\"\n",
    "\n",
    "        return self.nombre + \" \" + self.direccion\n",
    "\n",
    "    def ventas_ult_mes(self):\n",
    "        \"\"\"  \n",
    "        Muestra ventas del ultimo mes\n",
    "        \n",
    "        return:\n",
    "            float: ventas ultimo mes\n",
    "        \"\"\"\n",
    "\n",
    "        return self.ventas[-1]\n",
    "\n",
    "    def proyeccion(self,inversion):\n",
    "        \"\"\"Calcula la proyección de las ventas\n",
    "        basada en una inversión en marketing\n",
    "\n",
    "        Args:\n",
    "            inversion (float): pos - Cantidad invertida\n",
    "\n",
    "        Returns:\n",
    "            list: Lista con los valores de las ventas modificados\n",
    "        \"\"\"\n",
    "        if inversion < 1000:\n",
    "            self.ventas = [i*1.2 for i in self.ventas]\n",
    "            return self.ventas\n",
    "            \n",
    "        else:\n",
    "            self.ventas = [i*1.5 for i in self.ventas]\n",
    "            return self.ventas\n",
    "   "
   ]
  },
  {
   "cell_type": "code",
   "execution_count": 24,
   "metadata": {},
   "outputs": [
    {
     "name": "stdout",
     "output_type": "stream",
     "text": [
      "Tienda  Villalon inicializada\n",
      "Tienda  SanJuan inicializada\n",
      "Tienda  Michu inicializada\n"
     ]
    }
   ],
   "source": [
    "# Crear tiendas con datos inventados\n",
    "\n",
    "tienda_uno = Tienda(\"Villalon\",\"Calle Jacinto\",20, [13500,12958,1335])\n",
    "tienda_dos = Tienda(\"SanJuan\",\"Calle Marmoles\",34, [26400,25874,24448])\n",
    "tienda_tres = Tienda(\"Michu\",\"Calle Granada\",31, [19753,18768,1999])"
   ]
  },
  {
   "cell_type": "code",
   "execution_count": 25,
   "metadata": {},
   "outputs": [
    {
     "name": "stdout",
     "output_type": "stream",
     "text": [
      "Villalon\n",
      "Electrodomesticos\n",
      "True\n",
      "Calle Jacinto\n",
      "20\n",
      "[13500, 12958, 1335]\n",
      "Total ventas:  27793\n",
      "Ventas por empleado:  1389.65\n",
      "Datos tienda:  Villalon Calle Jacinto\n",
      "Ventas ultimo mes:  1335\n",
      "Proyeccion  [20250.0, 19437.0, 2002.5]\n",
      "Ventas tras proyeccion:  [20250.0, 19437.0, 2002.5]\n"
     ]
    }
   ],
   "source": [
    "# Comprueba lo implementado en la clase tienda (tienda_uno)\n",
    "\n",
    "print(tienda_uno.nombre)\n",
    "print(tienda_uno.tipo)\n",
    "print(tienda_uno.abierta)\n",
    "print(tienda_uno.direccion)\n",
    "print(tienda_uno.empleados)\n",
    "print(tienda_uno.ventas)\n",
    "\n",
    "print('Total ventas: ',tienda_uno.total_ventas())\n",
    "print('Ventas por empleado: ',tienda_uno.media_ventas_empleados())\n",
    "print('Datos tienda: ',tienda_uno.info_tienda())\n",
    "print('Ventas ultimo mes: ',tienda_uno.ventas_ult_mes())\n",
    "print('Proyeccion ',tienda_uno.proyeccion(1400))\n",
    "print('Ventas tras proyeccion: ', tienda_uno.ventas)"
   ]
  },
  {
   "cell_type": "code",
   "execution_count": 28,
   "metadata": {},
   "outputs": [
    {
     "name": "stdout",
     "output_type": "stream",
     "text": [
      "Villalon Calle Jacinto  :  2002.5\n",
      "SanJuan Calle Marmoles  :  24448\n",
      "Michu Calle Granada  :  1999\n"
     ]
    }
   ],
   "source": [
    "# Calcular las ventas del ultimo mes de cada tienda\n",
    "\n",
    "tiendas = [tienda_uno,tienda_dos,tienda_tres]\n",
    "\n",
    "for tienda in tiendas:\n",
    "    print(tienda.info_tienda() , \" : \" , str(tienda.ventas_ult_mes()))"
   ]
  },
  {
   "cell_type": "code",
   "execution_count": 33,
   "metadata": {},
   "outputs": [
    {
     "name": "stdout",
     "output_type": "stream",
     "text": [
      "Ninguna tienda esta en una Avenida\n",
      "Ninguna tienda esta en una Avenida\n",
      "Ninguna tienda esta en una Avenida\n"
     ]
    }
   ],
   "source": [
    "for tienda in tiendas:\n",
    "\n",
    "    if \"Avenida\" in tienda.direccion:\n",
    "        print(tienda.info_tienda())\n",
    "\n",
    "    else:\n",
    "        print(\"Ninguna tienda esta en una Avenida\")"
   ]
  },
  {
   "cell_type": "code",
   "execution_count": null,
   "metadata": {},
   "outputs": [],
   "source": []
  }
 ],
 "metadata": {
  "kernelspec": {
   "display_name": "Python 3.9.13 ('rumpup_py39')",
   "language": "python",
   "name": "python3"
  },
  "language_info": {
   "codemirror_mode": {
    "name": "ipython",
    "version": 3
   },
   "file_extension": ".py",
   "mimetype": "text/x-python",
   "name": "python",
   "nbconvert_exporter": "python",
   "pygments_lexer": "ipython3",
   "version": "3.9.13"
  },
  "orig_nbformat": 4,
  "vscode": {
   "interpreter": {
    "hash": "0b7ff2697a00a2a5e3da6c7165035c5ec7bbab9dfa9d13d2dd067d69dac00012"
   }
  }
 },
 "nbformat": 4,
 "nbformat_minor": 2
}
