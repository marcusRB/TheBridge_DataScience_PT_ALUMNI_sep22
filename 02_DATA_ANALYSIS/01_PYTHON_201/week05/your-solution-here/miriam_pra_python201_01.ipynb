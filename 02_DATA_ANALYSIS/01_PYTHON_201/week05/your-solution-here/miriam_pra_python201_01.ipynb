{
 "cells": [
  {
   "cell_type": "markdown",
   "metadata": {},
   "source": [
    "### Pregunta 1\n",
    "\n",
    "¿Cuál es el valor final de a, b y c? (atención a los tipos de número decimal y entero)\n",
    "\n",
    "a = 5 * 11\n",
    "\n",
    "b = a / 2.\n",
    "\n",
    "c, a = b * 2, b + 1"
   ]
  },
  {
   "cell_type": "code",
   "execution_count": 3,
   "metadata": {},
   "outputs": [
    {
     "name": "stdout",
     "output_type": "stream",
     "text": [
      "a =  28.5 ; b =  27.5 ; c =  55.0\n"
     ]
    }
   ],
   "source": [
    "# Respuesta\n",
    "a = 5 * 11\n",
    "\n",
    "b = a / 2.\n",
    "\n",
    "c, a = b * 2, b + 1\n",
    "\n",
    "print('a = ',a,'; b = ',b,'; c = ',c)"
   ]
  },
  {
   "cell_type": "markdown",
   "metadata": {},
   "source": [
    "### Pregunta 2\n",
    "\n",
    "Identifica tres tipos de datos de Python y explica brevemente en qué se diferencian. Explica la diferencia entre el tipo lista y el tipo tupla."
   ]
  },
  {
   "cell_type": "code",
   "execution_count": 10,
   "metadata": {},
   "outputs": [
    {
     "name": "stdout",
     "output_type": "stream",
     "text": [
      "<class 'bool'>\n",
      "<class 'int'>\n",
      "<class 'int'>\n",
      "<class 'int'>\n",
      "<class 'int'>\n",
      "<class 'float'>\n"
     ]
    }
   ],
   "source": [
    "# Respuesta\n",
    "\n",
    "#La diferencia entre estos tres tipos de datos es que cada uno se utiliza para representar un tipo de datos diferente.\n",
    "# 1. Tipo Booleano: solo puede tener valores True or False. Se utiliza para comprobar si algo es verdadero o falso\n",
    "print(type(True))\n",
    "\n",
    "# 2. int: valor de numero entero que también puede representarse en formato binario, octao o hexadecimal.\n",
    "print(type(2))\n",
    "print(type(0b10)) #binario\n",
    "print(type(0o14)) #octal\n",
    "print(type(0xaab)) #hexadecimal\n",
    "\n",
    "# 3. float: valor de número en coma flotante para representar numeros reales\n",
    "print(type(1.2))\n",
    "\n",
    "# La diferencia entre listas y tuplas es que las listas son mutables, pero las tuplas no. \n",
    "# Es decir, las listas pueden modificarse después de haberse creado, pero las tuplas no pueden alterar su contenido una vez creadas.\n",
    "# Como consecuencia de esta diferencia, trabajar con tuplas es más rápido que trabajar con listas. Además las tuplas también ocupan menos espacio en memoria."
   ]
  },
  {
   "cell_type": "markdown",
   "metadata": {},
   "source": [
    "### Pregunta 3\n",
    "\n",
    "¿Cuál es el resultado de la operación lógica ` 'manzana'> 'casa'`? Explica por qué. \n",
    "\n",
    "**Nota**: Consultad en estándar [Unicode](https://es.wikipedia.org/wiki/Unicode) para la codificación de caracteres."
   ]
  },
  {
   "cell_type": "code",
   "execution_count": 24,
   "metadata": {},
   "outputs": [
    {
     "data": {
      "text/plain": [
       "True"
      ]
     },
     "execution_count": 24,
     "metadata": {},
     "output_type": "execute_result"
    }
   ],
   "source": [
    "# Respuesta\n",
    "\n",
    "'manzana' > 'casa'\n",
    "\n",
    "# El resultado es True porque si pasamos los strings a estándar Unicode, manzana sería mayor que casa solo porque empieza con 'm' y 'm' en Unicode es mayor que 'c'.\n",
    "# Si compararamos 'banzana' > 'casa', el resultado sería False ya solo porque 'b' es menor que 'c' en Unicode"
   ]
  },
  {
   "cell_type": "markdown",
   "metadata": {},
   "source": [
    "### Ejercicio 1\n",
    "\n",
    "Escribir un programa que seleccione la cadena \"analista\" a partir de la cadena: \"Ana es buena analista de datos.\". Mostrar el resultado por pantalla."
   ]
  },
  {
   "cell_type": "code",
   "execution_count": 92,
   "metadata": {},
   "outputs": [
    {
     "name": "stdout",
     "output_type": "stream",
     "text": [
      "Se ha encontrado la palabra analista\n"
     ]
    }
   ],
   "source": [
    "# Respuesta\n",
    "\n",
    "def fencuentra(cadena,palabra):\n",
    "    return cadena.lower().find(palabra) > 0\n",
    "\n",
    "if fencuentra('Ana es buena analista de datos','analista'):\n",
    "    print('Se ha encontrado la palabra analista')\n",
    "else:\n",
    "    print('No se ha encontrado la pabla analista')"
   ]
  },
  {
   "cell_type": "markdown",
   "metadata": {},
   "source": [
    "### Ejercicio 2\n",
    "\n",
    "Qué expresión en Python necesitamos para conseguir el _string_\n",
    "\"nohtyPythonython\" utilizando sólo la palabra \"Python\"? "
   ]
  },
  {
   "cell_type": "code",
   "execution_count": 87,
   "metadata": {},
   "outputs": [
    {
     "name": "stdout",
     "output_type": "stream",
     "text": [
      "nohtyPythonython\n"
     ]
    }
   ],
   "source": [
    "# Respuesta\n",
    "def fpython(s):\n",
    "    alreves=[s[i] for i in range(len(s)-1,-1,-1)]\n",
    "    return ''.join(c for c in alreves) + 2 * s[1:len(s)]\n",
    "\n",
    "print(fpython('Python'))"
   ]
  },
  {
   "cell_type": "markdown",
   "metadata": {},
   "source": [
    "### Ejercicio 3\n",
    "\n",
    "Escribe un programa que asigne dos valores enteros cualquiera (elije un número entero aleatorio) a dos variables con nombre `a` y `b`. Utiliza las variables definidas anteriormente para evaluar la siguiente expresión matemática:\n",
    "\n",
    "( a<sup>2</sup> + b<sup>2</sup> )<sup>2</sup>\n"
   ]
  },
  {
   "cell_type": "code",
   "execution_count": 86,
   "metadata": {},
   "outputs": [
    {
     "name": "stdout",
     "output_type": "stream",
     "text": [
      "69755904\n"
     ]
    }
   ],
   "source": [
    "# Respuesta\n",
    "\n",
    "import random as rd\n",
    "def frandom(a,b):\n",
    "    return (a**2 + b**2)**2\n",
    "\n",
    "a = rd.randint(1,100)\n",
    "b = rd.randint(1,100)\n",
    "print(frandom(a,b))"
   ]
  },
  {
   "cell_type": "markdown",
   "metadata": {},
   "source": [
    "### Ejercicio 4\n",
    "\n",
    "Escribir un programa que calcule el volumen de una pirámide cuadrangular con una base de 4x5 metros de longitud y anchura respectivamente, y con una altura de 7,5 m. Recuerda que la fórmula para calcular el volumen es <img src=\"https://wikimedia.org/api/rest_v1/media/math/render/svg/5bbc1ec5d10639d395ebc85e74cbf697d2220035\" title=\"EquacioVolumPiramide\" />\n",
    "\n",
    "donde _l_ y _w_ son la longitud y la anchura de la base, y _h_ es la altura."
   ]
  },
  {
   "cell_type": "code",
   "execution_count": 93,
   "metadata": {},
   "outputs": [
    {
     "name": "stdout",
     "output_type": "stream",
     "text": [
      "Volumen triangulo cuadrado:  50.0\n"
     ]
    }
   ],
   "source": [
    "# Respuesta\n",
    "def ftriangulo(l,w,h):\n",
    "    return (1/3)*(l*w*h)\n",
    "\n",
    "print('Volumen triangulo cuadrado: ',ftriangulo(4,5,7.5))"
   ]
  },
  {
   "cell_type": "markdown",
   "metadata": {},
   "source": [
    "### Ejercicio 5\n",
    "\n",
    "Escribe un programa que defina una lista con el nombre de todos los meses del año. Haz que muestre los meses que corresponden a otoño."
   ]
  },
  {
   "cell_type": "code",
   "execution_count": 98,
   "metadata": {},
   "outputs": [
    {
     "name": "stdout",
     "output_type": "stream",
     "text": [
      "Meses de otoño:  October  y  November\n"
     ]
    }
   ],
   "source": [
    "# Respuesta\n",
    "import calendar\n",
    "\n",
    "meses = [calendar.month_name[i] for i in range(1,12)]\n",
    "\n",
    "print('Meses de otoño: ',meses[9],' y ',meses[10])"
   ]
  },
  {
   "cell_type": "markdown",
   "metadata": {},
   "source": [
    "### Ejercicio 6\n",
    "\n",
    "Escribe un programa que a partir de la lista de números dada muestre por pantalla una cadena de caracteres con todos los números, separados entre sí por un guión, y duplicando el primero y el último elemento de la lista.\n",
    "\n",
    "Así, por ejemplo, para la lista ['1', '2', '3'] , el programa debería mostrar la cadena: '1-1-2-3-3'.\n"
   ]
  },
  {
   "cell_type": "code",
   "execution_count": 100,
   "metadata": {},
   "outputs": [
    {
     "name": "stdout",
     "output_type": "stream",
     "text": [
      "1 - 1 - 2 - 3 - 3\n"
     ]
    }
   ],
   "source": [
    "# Respuesta\n",
    "\n",
    "def flista(lista):\n",
    "    return lista[0]+' - ' +' - '.join(e for e in lista)+' - ' + lista[len(lista)-1]\n",
    "\n",
    "print(flista(['1','2','3']))"
   ]
  },
  {
   "cell_type": "markdown",
   "metadata": {},
   "source": [
    "### Ejercicio 7\n",
    "\n",
    "Ordena la siguiente lista de cadenas de caracteres:\n",
    "\n",
    "1. Invirtiendo el orden original\n",
    "2. En orden alfabético inverso\n",
    "\n",
    "**Nota**: Puedes consultar la documentación oficial de la función [`sorted ()`](https://docs.python.org/3/library/functions.html#sorted) para ver qué parámetros puedes utilizar para resolver la segunda parte de la actividad.\n"
   ]
  },
  {
   "cell_type": "code",
   "execution_count": 12,
   "metadata": {},
   "outputs": [
    {
     "name": "stdout",
     "output_type": "stream",
     "text": [
      "['Jadzia Dax', 'Quark', 'Odo', 'Kira Nerys', 'Benjamin Sisko']\n",
      "['Quark', 'Odo', 'Kira Nerys', 'Jadzia Dax', 'Benjamin Sisko']\n"
     ]
    }
   ],
   "source": [
    "st_chars = [\"Benjamin Sisko\", \"Kira Nerys\", \"Odo\", \"Quark\", \"Jadzia Dax\"]\n",
    "\n",
    "# 1. Al revés:\n",
    "st_chars_aux = []\n",
    "for i in range(len(st_chars)-1,-1,-1):\n",
    "    st_chars_aux.append(st_chars[i])\n",
    "\n",
    "st_chars = st_chars_aux\n",
    "print(st_chars)\n",
    "\n",
    "# 2. En orden alfabetico inverso\n",
    "st_chars_aux = sorted(st_chars, key = lambda orden: orden[0], reverse = True)\n",
    "print(st_chars_aux)\n"
   ]
  },
  {
   "cell_type": "markdown",
   "metadata": {},
   "source": [
    "### Ejercicio 8\n",
    "\n",
    "A partir de la siguiente lista,\n",
    "\n",
    "```A_list = [42, 7.5, \"Answer to the Ultimate Question\", \"Dave\", 7.5]```\n",
    "\n",
    "proporciona expresiones que retornen:\n",
    "\n",
    "1. El número de veces que aparece el elemento `7.5` en la lista.\n",
    "2. La posición de la primera aparición del valor `7.5`.\n",
    "3. La misma lista sin el último elemento.\n",
    "\n",
    "**Nota**: En el notebook de teoría hemos visto que son las listas y algunas operaciones sobre ellas. Para hacer la actividad, necesitaréis investigar algunas operaciones adicionales que podemos realizar sobre listas. Para ello podéis consultar la documentación oficial de Python sobre listas ([intro](https://docs.python.org/3/tutorial/introduction.html#lists) y [más sobre listas](https://docs.python.org/3/tutorial/datastructures.html#more-on-lists))."
   ]
  },
  {
   "cell_type": "code",
   "execution_count": 15,
   "metadata": {},
   "outputs": [
    {
     "data": {
      "text/plain": [
       "2"
      ]
     },
     "execution_count": 15,
     "metadata": {},
     "output_type": "execute_result"
    }
   ],
   "source": [
    "# Respuesta\n",
    "\n",
    "A_list = [42, 7.5, \"Answer to the Ultimate Question\", \"Dave\", 7.5]\n",
    "\n",
    "print('7.5 se repite ', A_list.count(7.5), ' veces')\n"
   ]
  },
  {
   "cell_type": "markdown",
   "metadata": {},
   "source": [
    "### Ejercicio 9\n",
    "\n",
    "¿Qué expresión en Python necesitamos para conseguir la _string_ `Learning Python` utilizando sólo las variables` str1` y `str2` definidas?"
   ]
  },
  {
   "cell_type": "code",
   "execution_count": null,
   "metadata": {},
   "outputs": [],
   "source": [
    "# Respuesta"
   ]
  },
  {
   "cell_type": "markdown",
   "metadata": {},
   "source": [
    "### Ejercicio 10\n",
    "\n",
    "El codigo que se presenta a continuación no funciona: \n",
    "\n",
    "Corrige el error y explica por qué sucede."
   ]
  },
  {
   "cell_type": "code",
   "execution_count": 2,
   "metadata": {},
   "outputs": [
    {
     "ename": "TypeError",
     "evalue": "%d format: a number is required, not str",
     "output_type": "error",
     "traceback": [
      "\u001b[1;31m---------------------------------------------------------------------------\u001b[0m",
      "\u001b[1;31mTypeError\u001b[0m                                 Traceback (most recent call last)",
      "\u001b[1;32mc:\\Users\\mrusso\\THE_BRIDGE_FEB22_local\\02_PYTHON\\week05\\pra\\pra_python_01.ipynb Cell 18'\u001b[0m in \u001b[0;36m<module>\u001b[1;34m\u001b[0m\n\u001b[0;32m      <a href='vscode-notebook-cell:/c%3A/Users/mrusso/THE_BRIDGE_FEB22_local/02_PYTHON/week05/pra/pra_python_01.ipynb#ch0000018?line=0'>1</a>\u001b[0m name \u001b[39m=\u001b[39m \u001b[39m\"\u001b[39m\u001b[39mAlex\u001b[39m\u001b[39m\"\u001b[39m\n\u001b[0;32m      <a href='vscode-notebook-cell:/c%3A/Users/mrusso/THE_BRIDGE_FEB22_local/02_PYTHON/week05/pra/pra_python_01.ipynb#ch0000018?line=2'>3</a>\u001b[0m age \u001b[39m=\u001b[39m \u001b[39m20\u001b[39m\n\u001b[1;32m----> <a href='vscode-notebook-cell:/c%3A/Users/mrusso/THE_BRIDGE_FEB22_local/02_PYTHON/week05/pra/pra_python_01.ipynb#ch0000018?line=4'>5</a>\u001b[0m \u001b[39mprint\u001b[39m(\u001b[39m\"\u001b[39;49m\u001b[39mHello, my name is \u001b[39;49m\u001b[39m%d\u001b[39;49;00m\u001b[39m and I\u001b[39;49m\u001b[39m'\u001b[39;49m\u001b[39mm \u001b[39;49m\u001b[39m%d\u001b[39;49;00m\u001b[39m years old!\u001b[39;49m\u001b[39m\"\u001b[39;49m \u001b[39m%\u001b[39;49m (name, age))\n",
      "\u001b[1;31mTypeError\u001b[0m: %d format: a number is required, not str"
     ]
    }
   ],
   "source": [
    "name = \"Alex\"\n",
    "\n",
    "age = 20\n",
    "\n",
    "print(\"Hello, my name is %d and I'm %d years old!\" % (name, age))"
   ]
  },
  {
   "cell_type": "markdown",
   "metadata": {},
   "source": [
    "### Ejercicio 11\n",
    "\n",
    "En este ejercicio utilizaremos la frase: La paciencia es la madre de la ciencia.\n",
    "\n",
    "a) Extrae las palabras paciencia y ciencia de la cadena de strings definida anteriormente.\n",
    "\n",
    "b) Crea la palabra ciencia a partir de paciencia, y la palabra paciencia a partir de ciencia.\n",
    "\n",
    "c) Separa la frase en las diferentes palabras que la forman (e.g. \"La\", \"paciencia,\" es \", etc). ¿Cuál es el separador que debemos usar?\n",
    "\n",
    "d) Vuelve a unir los elementos de la frase mediante \"-\" (e.g. \"La-paciencia-es ...\").\n"
   ]
  },
  {
   "cell_type": "code",
   "execution_count": null,
   "metadata": {},
   "outputs": [],
   "source": [
    "# Respuesta"
   ]
  }
 ],
 "metadata": {
  "kernelspec": {
   "display_name": "Python 3.9.13 ('rampup_py39')",
   "language": "python",
   "name": "python3"
  },
  "language_info": {
   "codemirror_mode": {
    "name": "ipython",
    "version": 3
   },
   "file_extension": ".py",
   "mimetype": "text/x-python",
   "name": "python",
   "nbconvert_exporter": "python",
   "pygments_lexer": "ipython3",
   "version": "3.9.13"
  },
  "orig_nbformat": 4,
  "vscode": {
   "interpreter": {
    "hash": "2268c0819e120910e15d6a7ca6dc2f13f8e901a44fa31ae594d3c5c2319b0223"
   }
  }
 },
 "nbformat": 4,
 "nbformat_minor": 2
}
