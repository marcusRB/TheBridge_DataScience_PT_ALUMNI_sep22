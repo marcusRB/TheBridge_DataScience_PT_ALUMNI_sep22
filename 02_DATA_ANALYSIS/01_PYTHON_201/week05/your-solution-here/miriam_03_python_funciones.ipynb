{
 "cells": [
  {
   "cell_type": "markdown",
   "metadata": {},
   "source": [
    "## Programación Data Science"
   ]
  },
  {
   "cell_type": "markdown",
   "metadata": {},
   "source": [
    "## Ejercicio 1\n",
    "\n",
    "Definid una función que pueda recibir un número de parámetros cualquiera, superior a 1, y que devuelva el resultado de sumar el resultado de aplicar la función que recibe como primer parámetro a cada uno de los otros parámetros.\n",
    "\n",
    "Por ejemplo, si la función recibe como primer argumento una función que calcula cuadrados, como segundo argumento un 5, y como tercer argumento un 10, debería devolver $5^2 + 10^2 = 125$\n",
    "\n",
    "Llamad a la función definida con los valores del ejemplo mencionado en el enunciado, y comprobad que se obtiene el resultado correcto. Comprobad también que la función devuelve los resultados esperados para una llamada con dos argumentos y con cinco argumentos.\n"
   ]
  },
  {
   "cell_type": "code",
   "execution_count": 16,
   "metadata": {},
   "outputs": [
    {
     "name": "stdout",
     "output_type": "stream",
     "text": [
      "125\n",
      "138\n"
     ]
    }
   ],
   "source": [
    "## Respuesta\n",
    "\n",
    "def suma_cuadrados(x, *args):\n",
    "    sum_args = sum(e**2 for e in args)\n",
    "    return x**2 + sum_args\n",
    "\n",
    "print(suma_cuadrados(5,10))\n",
    "print(suma_cuadrados(2,5,10,3))"
   ]
  },
  {
   "cell_type": "markdown",
   "metadata": {},
   "source": [
    "## Ejercicio 2\n",
    "\n",
    "Definid una función que reciba dos parámetros, una lista de enteros y un entero, y devuelva una lista con los mismos elementos que la lista original eliminando todas las apariciones del entero especificado.\n",
    "\n",
    " Implementad una función que modifique la lista original. Haced una llamada a la función definida y mostrad que, efectivamente, la lista original se modifica."
   ]
  },
  {
   "cell_type": "code",
   "execution_count": 23,
   "metadata": {},
   "outputs": [
    {
     "name": "stdout",
     "output_type": "stream",
     "text": [
      "[5, 25, 77, 52, 145, 5, 6]\n"
     ]
    }
   ],
   "source": [
    "## Respuesta\n",
    "def lista_sin_entero(listaint,k):    \n",
    "    return [entero for entero in listaint if k!=entero]\n",
    "\n",
    "print(lista_sin_entero([1,5,25,77,52,145,1,5,6],1))"
   ]
  },
  {
   "cell_type": "markdown",
   "metadata": {},
   "source": [
    "## Ejercicio 3\n",
    "\n",
    "Implementad una función que no modifique la lista original. Haced una llamada a la función definida y mostrad que, efectivamente, no se modifica la lista original."
   ]
  },
  {
   "cell_type": "code",
   "execution_count": 24,
   "metadata": {},
   "outputs": [
    {
     "name": "stdout",
     "output_type": "stream",
     "text": [
      "[1, 5, 25, 77, 52, 145, 1, 5, 6]\n"
     ]
    }
   ],
   "source": [
    "## Respuesta\n",
    "print(lista_sin_entero([1,5,25,77,52,145,1,5,6],2))"
   ]
  }
 ],
 "metadata": {
  "kernelspec": {
   "display_name": "Python 3.9.13 ('rampup_py39')",
   "language": "python",
   "name": "python3"
  },
  "language_info": {
   "codemirror_mode": {
    "name": "ipython",
    "version": 3
   },
   "file_extension": ".py",
   "mimetype": "text/x-python",
   "name": "python",
   "nbconvert_exporter": "python",
   "pygments_lexer": "ipython3",
   "version": "3.9.13"
  },
  "orig_nbformat": 4,
  "vscode": {
   "interpreter": {
    "hash": "eaaea08649847d1cf7de1c352d4531d9c9dcf06d1d28c4a1fbe7a87a200e4d41"
   }
  }
 },
 "nbformat": 4,
 "nbformat_minor": 2
}
