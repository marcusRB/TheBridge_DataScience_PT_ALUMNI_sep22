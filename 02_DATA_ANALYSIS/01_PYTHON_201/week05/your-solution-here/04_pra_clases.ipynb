{
 "cells": [
  {
   "cell_type": "markdown",
   "metadata": {},
   "source": [
    "## Ejercicio 1\n",
    "Somos una empresa que tiene varias tiendas de electrodomesticos. Necesitamos un programa para manejar las tiendas, ver las ventas que han tenido, cuántos empleados hay, etc... Para ello vamos a modelizar la tienda en una clase, que tendrá las siguientes características:\n",
    "\n",
    "* Nombre clase: \"Tienda\"\n",
    "* Atributos comunes:\n",
    "    * Tipo: \"Electrodomésticos\"\n",
    "    * Abierta: True\n",
    "* Atributos propios de cada tienda:\n",
    "    * Nombre - String\n",
    "    * Dirección - String\n",
    "    * Número de empleados - int\n",
    "    * Ventas ultimos 3 meses - Lista de 3 numeros\n",
    "* Método para calcular las ventas de todos los meses, que devuelva un numero con todas las ventas.\n",
    "* Método que calcula la media de ventas de los ultimos meses, por empleado\n",
    "* Método que devuelve en un string el nombre de la tienda, junto con su dirección.\n",
    "* Método que obtiene las ventas del último mes.\n",
    "* Método para dar una proyección de las ventas en caso de haber invertido X dinero en marketing en esa tienda. Siendo X el parámetro de entrada. Si X es menor de 1000, las ventas de los ultimos 3 meses hubiesen sido de (1.2 x ventas), si es mayor o igual de 1000, las ventas hubiesen sido de (1.5 x venta). El método reescribe el atributo de ventas en los últimos 3 meses, y además devuelve las ventas con el aumento.\n",
    "\n",
    "* Se pide:\n",
    "1. Implementar la clase \"Tienda\"\n",
    "2. Crear tres tiendas con datos inventados\n",
    "3. Comprueba en al menos una de ellas, todo lo implementado en la clase tienda (sus atributos, media de ventas, ventas/empleado...)\n",
    "4. Calcular las ventas del último mes de todas las tiendas. Para ello usa el bucle `for`\n",
    "5. Imprime por pantalla los nombres de las tiendas cuya dirección lleve el string \"Avenida\"\n",
    "6. Utilizad este notebook para ejecutar y un fichero para definir vuestras clases, métodos y funciones.\n",
    "7. Seguro que ya has hecho este apartado... Documenta la clase :)"
   ]
  },
  {
   "cell_type": "code",
   "execution_count": 2,
   "metadata": {},
   "outputs": [],
   "source": [
    "class Tienda:\n",
    "    \"\"\"\n",
    "    Descripcion\n",
    "        Clase tienda.\n",
    "    Attribs:\n",
    "        tipo:       str   = 'Electrodomesticos'\n",
    "        abierta:    bool  = True\n",
    "        \n",
    "        nombre:     str     pos Nombre de la tienda\n",
    "        direccion:  str     pos Direccion de la tienda\n",
    "        empleados:  int     pos Nº empleados\n",
    "        ventas:     list    pos Lista 3 valores float\n",
    "        \n",
    "    \"\"\"\n",
    "    \n",
    "    def __init__(self,nombre:str, direccion:str, empleados:int, ventas:list):\n",
    "        self.tipo = 'Electrodomesticos'\n",
    "        self.abierta = True\n",
    "        \n",
    "        self.nombre = nombre\n",
    "        self.direccion = direccion\n",
    "        self.empleados = empleados\n",
    "        self.ventas = ventas\n",
    "\n",
    "    def ventas_meses(self):\n",
    "        \"\"\"Calcula la suma de las ventas\n",
    "\n",
    "        Returns:\n",
    "            Suma de ventas\n",
    "        \"\"\"\n",
    "        return sum([cantidad for cantidad in self.ventas])\n",
    "    \n",
    "    def ventas_meses_empleado(self):\n",
    "        \"\"\"Calcula la media de ventas por empleado\n",
    "\n",
    "        Returns:\n",
    "            sum(ventas)/empleados\n",
    "        \"\"\"\n",
    "        return sum([cantidad for cantidad in self.ventas])/self.empleados\n",
    "    \n",
    "    def nombre_direccion(self):\n",
    "        \"\"\"Muestra nombre y dirección de la tienda\n",
    "\n",
    "        Returns:\n",
    "            String nombre + dirección\n",
    "        \"\"\"\n",
    "        return print(self.nombre + ' ' + self.direccion)\n",
    "    \n",
    "    def ventas_ult_mes(self):\n",
    "        \"\"\"Muestra ventas del último mes\n",
    "\n",
    "        Returns:\n",
    "            float: Ventas del último mes\n",
    "        \"\"\"\n",
    "        return self.ventas[-1]\n",
    "    \n",
    "    def proyeccion_ventas(self, inversion:float):\n",
    "        \"\"\"Calcula la proyección de las ventas\n",
    "        basada en una inversión en marketing\n",
    "\n",
    "        Args:\n",
    "            inversion (float): pos - Cantidad invertida\n",
    "\n",
    "        Returns:\n",
    "            list: Lista con los valores de las ventas modificados\n",
    "        \"\"\"\n",
    "        if inversion < 1000:\n",
    "            self.ventas = [cantidad*1.2 for cantidad in self.ventas]\n",
    "            return self.ventas\n",
    "            \n",
    "        else:\n",
    "            self.ventas = [cantidad*1.5 for cantidad in self.ventas]\n",
    "            return self.ventas"
   ]
  },
  {
   "cell_type": "code",
   "execution_count": 8,
   "metadata": {},
   "outputs": [],
   "source": [
    "tienda_madrid = Tienda(\"Tienda de Madrid\", \"Calle de Madrid 1\", 4, [1200, 2350, 2000])\n",
    "tienda_galicia = Tienda(\"Tienda de Galicia\", \"Avenida de Galicia 1\", 7, [4200, 4350, 8000])\n",
    "tienda_murcia = Tienda(\"Tienda de urcia\", \"Calle de Murcia 1\", 3, [2200, 2350, 5000])\n",
    "tiendas=[tienda_madrid,tienda_galicia,tienda_murcia]"
   ]
  },
  {
   "cell_type": "code",
   "execution_count": 4,
   "metadata": {},
   "outputs": [
    {
     "name": "stdout",
     "output_type": "stream",
     "text": [
      "5550\n",
      "1387.5\n",
      "Tienda de Madrid Calle de Madrid 1\n",
      "None\n",
      "2000\n",
      "[1800.0, 3525.0, 3000.0]\n"
     ]
    }
   ],
   "source": [
    "print(tienda_madrid.ventas_meses())\n",
    "print(tienda_madrid.ventas_meses_empleado())\n",
    "print(tienda_madrid.nombre_direccion())\n",
    "print(tienda_madrid.ventas_ult_mes())\n",
    "print(tienda_madrid.proyeccion_ventas(1250.50))"
   ]
  },
  {
   "cell_type": "code",
   "execution_count": 10,
   "metadata": {},
   "outputs": [
    {
     "name": "stdout",
     "output_type": "stream",
     "text": [
      "31650\n"
     ]
    }
   ],
   "source": [
    "ventas_totales = sum(tienda.ventas_meses() for tienda in tiendas)\n",
    "print(ventas_totales)"
   ]
  },
  {
   "cell_type": "code",
   "execution_count": 23,
   "metadata": {},
   "outputs": [
    {
     "name": "stdout",
     "output_type": "stream",
     "text": [
      "Tienda de Galicia Avenida de Galicia 1\n",
      "None\n",
      "<generator object <genexpr> at 0x000001E9361B92E0>\n"
     ]
    }
   ],
   "source": [
    "for tienda in tiendas:\n",
    "    if 'Avenida' in tienda.direccion:\n",
    "        print(tienda.nombre_direccion())\n",
    "        \n",
    "print(tienda.nombre_direccion() for tienda in tiendas if 'Avenida' in tienda.direccion)\n"
   ]
  }
 ],
 "metadata": {
  "kernelspec": {
   "display_name": "Python 3.9.13 ('rampup_py39')",
   "language": "python",
   "name": "python3"
  },
  "language_info": {
   "codemirror_mode": {
    "name": "ipython",
    "version": 3
   },
   "file_extension": ".py",
   "mimetype": "text/x-python",
   "name": "python",
   "nbconvert_exporter": "python",
   "pygments_lexer": "ipython3",
   "version": "3.9.13"
  },
  "orig_nbformat": 4,
  "vscode": {
   "interpreter": {
    "hash": "6a099939abd9aeb901add972a81dd3ff5591506d46c99cdd12b2bd4f66ef287c"
   }
  }
 },
 "nbformat": 4,
 "nbformat_minor": 2
}
