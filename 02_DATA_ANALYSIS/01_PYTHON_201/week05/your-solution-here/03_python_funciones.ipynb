{
 "cells": [
  {
   "cell_type": "markdown",
   "metadata": {},
   "source": [
    "## Programación Data Science"
   ]
  },
  {
   "cell_type": "markdown",
   "metadata": {},
   "source": [
    "## Ejercicio 1\n",
    "\n",
    "Definid una función que pueda recibir un número de parámetros cualquiera, superior a 1, y que devuelva el resultado de sumar el resultado de aplicar la función que recibe como primer parámetro a cada uno de los otros parámetros.\n",
    "\n",
    "Por ejemplo, si la función recibe como primer argumento una función que calcula cuadrados, como segundo argumento un 5, y como tercer argumento un 10, debería devolver $5^2 + 10^2 = 125$\n",
    "\n",
    "Llamad a la función definida con los valores del ejemplo mencionado en el enunciado, y comprobad que se obtiene el resultado correcto. Comprobad también que la función devuelve los resultados esperados para una llamada con dos argumentos y con cinco argumentos.\n"
   ]
  },
  {
   "cell_type": "code",
   "execution_count": 14,
   "metadata": {},
   "outputs": [
    {
     "name": "stdout",
     "output_type": "stream",
     "text": [
      "125\n"
     ]
    }
   ],
   "source": [
    "## Respuesta\n",
    "\n",
    "def calcula_cuadrados(x:int):\n",
    "    \"\"\"\n",
    "    Descripcion\n",
    "    -----------\n",
    "        Calcula el cuadrado del nº pasado por parámetro\n",
    "\n",
    "    Parameters:\n",
    "        x:  float  pos\n",
    "    \n",
    "    Return:\n",
    "        x^2\n",
    "    \"\"\"\n",
    "    return x**2\n",
    "\n",
    "\n",
    "def aplica_funcion_y_suma(funcion:str, *args):\n",
    "    \"\"\"\n",
    "    Descripcion\n",
    "        Suma el resultado de aplicar una función a cada uno de los otros parámetros\n",
    "\n",
    "    Args:\n",
    "        funcion: string  pos  Nombre de la función a aplicar\n",
    "    \n",
    "    Return:\n",
    "        Suma de los resultados de aplicar la funcion a los parámetros\n",
    "    \"\"\"\n",
    "    return sum(list(map(lambda x: funcion(x), args)))\n",
    "\n",
    "print(aplica_funcion_y_suma(calcula_cuadrados, 5, 10))"
   ]
  },
  {
   "cell_type": "markdown",
   "metadata": {},
   "source": [
    "## Ejercicio 2\n",
    "\n",
    "Definid una función que reciba dos parámetros, una lista de enteros y un entero, y devuelva una lista con los mismos elementos que la lista original eliminando todas las apariciones del entero especificado.\n",
    "\n",
    " Implementad una función que modifique la lista original. Haced una llamada a la función definida y mostrad que, efectivamente, la lista original se modifica."
   ]
  },
  {
   "cell_type": "code",
   "execution_count": 20,
   "metadata": {},
   "outputs": [
    {
     "name": "stdout",
     "output_type": "stream",
     "text": [
      "Devolver lista nueva.\n",
      "[1, 2, 3, 4, 6]\n",
      "[10, 1, 2, 3, 4, 10, 6, 10]\n",
      "\n",
      "\n",
      "Eliminar ocurrencias de lista original.\n",
      "[1, 2, 3, 4, 6]\n"
     ]
    }
   ],
   "source": [
    "## Respuesta\n",
    "\n",
    "def lista_sin_numero(lista:list, numero:int):\n",
    "    return [elemento for elemento in lista if elemento != numero]\n",
    "\n",
    "\n",
    "def elimina_ocurrencias(numero:int):\n",
    "    global lista\n",
    "    lista = [elemento for elemento in lista if elemento != numero]\n",
    "    \n",
    "    \n",
    "\n",
    "lista = [10,1,2,3,4,10,6,10]\n",
    "num = 10\n",
    "print(\"Devolver lista nueva.\")\n",
    "print(lista_sin_numero(lista, num))\n",
    "print(lista)\n",
    "print(\"\\n\")\n",
    "print(\"Eliminar ocurrencias de lista original.\")\n",
    "elimina_ocurrencias(num)\n",
    "print(lista)"
   ]
  },
  {
   "cell_type": "markdown",
   "metadata": {},
   "source": [
    "## Ejercicio 3\n",
    "\n",
    "Implementad una función que no modifique la lista original. Haced una llamada a la función definida y mostrad que, efectivamente, no se modifica la lista original."
   ]
  },
  {
   "cell_type": "code",
   "execution_count": 23,
   "metadata": {},
   "outputs": [
    {
     "name": "stdout",
     "output_type": "stream",
     "text": [
      "Devolver lista nueva.\n",
      "[1, 2, 3, 4, 6]\n",
      "[10, 1, 2, 3, 4, 10, 6, 10]\n"
     ]
    }
   ],
   "source": [
    "def elimina_ocurrencias(numero:int):\n",
    "    global lista\n",
    "    return [elemento for elemento in lista if elemento != numero]\n",
    "    \n",
    "lista = [10,1,2,3,4,10,6,10]\n",
    "num = 10\n",
    "\n",
    "print(\"Devolver lista nueva.\")\n",
    "print(elimina_ocurrencias(num))\n",
    "print(lista)"
   ]
  }
 ],
 "metadata": {
  "kernelspec": {
   "display_name": "Python 3.9.13 ('rampup_py39')",
   "language": "python",
   "name": "python3"
  },
  "language_info": {
   "codemirror_mode": {
    "name": "ipython",
    "version": 3
   },
   "file_extension": ".py",
   "mimetype": "text/x-python",
   "name": "python",
   "nbconvert_exporter": "python",
   "pygments_lexer": "ipython3",
   "version": "3.9.13"
  },
  "orig_nbformat": 4,
  "vscode": {
   "interpreter": {
    "hash": "6a099939abd9aeb901add972a81dd3ff5591506d46c99cdd12b2bd4f66ef287c"
   }
  }
 },
 "nbformat": 4,
 "nbformat_minor": 2
}
