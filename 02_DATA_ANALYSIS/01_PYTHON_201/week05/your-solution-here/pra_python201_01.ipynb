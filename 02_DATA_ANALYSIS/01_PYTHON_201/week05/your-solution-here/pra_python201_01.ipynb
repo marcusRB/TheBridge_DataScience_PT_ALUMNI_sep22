{
 "cells": [
  {
   "cell_type": "markdown",
   "metadata": {},
   "source": [
    "### Pregunta 1\n",
    "\n",
    "¿Cuál es el valor final de a, b y c? (atención a los tipos de número decimal y entero)\n",
    "\n",
    "a = 5 * 11\n",
    "\n",
    "b = a / 2.\n",
    "\n",
    "c, a = b * 2, b + 1"
   ]
  },
  {
   "cell_type": "code",
   "execution_count": null,
   "metadata": {},
   "outputs": [],
   "source": [
    "# Respuesta\n",
    "# a = ((5*11)/2) + 1 = 28.5\n",
    "# b = ((5*11)/2) = 27.5\n",
    "# c = 27.5*2 = 55.0"
   ]
  },
  {
   "cell_type": "markdown",
   "metadata": {},
   "source": [
    "### Pregunta 2\n",
    "\n",
    "Identifica tres tipos de datos de Python y explica brevemente en qué se diferencian. Explica la diferencia entre el tipo lista y el tipo tupla."
   ]
  },
  {
   "cell_type": "code",
   "execution_count": 6,
   "metadata": {},
   "outputs": [],
   "source": [
    "# Respuesta\n",
    "# integer - Almacena números enteros, tanto positivos como negativos\n",
    "# string - Almacena cadenas de caracteres.\n",
    "# boolean - Almacena los valores True y False\n",
    "\n",
    "\n",
    "# Una lista es un conjunto de elementos ordenados, separados por comas y escritos entre corchetes [ ].\n",
    "##  Son heterogéneas y mutables.\n",
    "\n",
    "# Una tupla es también un conjunto de elementos ordenados y separados por comas, pero van escritos entre paréntesis ( ).\n",
    "##  Son heterogéneas e inmutables."
   ]
  },
  {
   "cell_type": "markdown",
   "metadata": {},
   "source": [
    "### Pregunta 3\n",
    "\n",
    "¿Cuál es el resultado de la operación lógica ` 'manzana'> 'casa'`? Explica por qué. \n",
    "\n",
    "**Nota**: Consultad en estándar [Unicode](https://es.wikipedia.org/wiki/Unicode) para la codificación de caracteres."
   ]
  },
  {
   "cell_type": "code",
   "execution_count": null,
   "metadata": {},
   "outputs": [],
   "source": [
    "# Respuesta\n",
    "# La operación devuelve True, pues la longitud en caracteres de la palabra \"manzana\" es mayor que la de \"casa\"\n",
    "# Habitualmente, cada caracter es una unidad de código; pero en ocasiones, dependiendo de la codificación\n",
    "# hay caracteres que pueden contar como 2 unidades. "
   ]
  },
  {
   "cell_type": "markdown",
   "metadata": {},
   "source": [
    "### Ejercicio 1\n",
    "\n",
    "Escribir un programa que seleccione la cadena \"analista\" a partir de la cadena: \"Ana es buena analista de datos.\". Mostrar el resultado por pantalla."
   ]
  },
  {
   "cell_type": "code",
   "execution_count": 24,
   "metadata": {},
   "outputs": [
    {
     "data": {
      "text/plain": [
       "'analista'"
      ]
     },
     "execution_count": 24,
     "metadata": {},
     "output_type": "execute_result"
    }
   ],
   "source": [
    "# Respuesta\n",
    "def localizaPalabra (palabra:str, cadena:str):\n",
    "    localizada = palabra if palabra in cadena else \"No localizada.\"\n",
    "    return localizada\n",
    "    \n",
    "localizaPalabra(\"analista\", \"Ana es buena analista de datos.\")"
   ]
  },
  {
   "cell_type": "markdown",
   "metadata": {},
   "source": [
    "### Ejercicio 2\n",
    "\n",
    "Qué expresión en Python necesitamos para conseguir el _string_\n",
    "\"nohtyPythonython\" utilizando sólo la palabra \"Python\"? "
   ]
  },
  {
   "cell_type": "code",
   "execution_count": null,
   "metadata": {},
   "outputs": [],
   "source": [
    "# Respuesta"
   ]
  },
  {
   "cell_type": "markdown",
   "metadata": {},
   "source": [
    "### Ejercicio 3\n",
    "\n",
    "Escribe un programa que asigne dos valores enteros cualquiera (elije un número entero aleatorio) a dos variables con nombre `a` y `b`. Utiliza las variables definidas anteriormente para evaluar la siguiente expresión matemática:\n",
    "\n",
    "( a<sup>2</sup> + b<sup>2</sup> )<sup>2</sup>\n"
   ]
  },
  {
   "cell_type": "code",
   "execution_count": 29,
   "metadata": {},
   "outputs": [
    {
     "name": "stdout",
     "output_type": "stream",
     "text": [
      "Siendo a= 4  y b =  6 \n",
      "(a^2 + b^2)^2 =  2704\n"
     ]
    }
   ],
   "source": [
    "# Respuesta\n",
    "import random\n",
    "def evalExpresion (a:int, b:int):\n",
    "    print(\"Siendo a=\", a, \" y b = \", b, '\\n'\n",
    "          \"(a^2 + b^2)^2 = \",(a**2 + b**2)**2)\n",
    "\n",
    "evalExpresion(random.randint(0,9), random.randint(0,9))"
   ]
  },
  {
   "cell_type": "markdown",
   "metadata": {},
   "source": [
    "### Ejercicio 4\n",
    "\n",
    "Escribir un programa que calcule el volumen de una pirámide cuadrangular con una base de 4x5 metros de longitud y anchura respectivamente, y con una altura de 7,5 m. Recuerda que la fórmula para calcular el volumen es <img src=\"https://wikimedia.org/api/rest_v1/media/math/render/svg/5bbc1ec5d10639d395ebc85e74cbf697d2220035\" title=\"EquacioVolumPiramide\" />\n",
    "\n",
    "donde _l_ y _w_ son la longitud y la anchura de la base, y _h_ es la altura."
   ]
  },
  {
   "cell_type": "code",
   "execution_count": 63,
   "metadata": {},
   "outputs": [
    {
     "data": {
      "text/plain": [
       "50.0"
      ]
     },
     "execution_count": 63,
     "metadata": {},
     "output_type": "execute_result"
    }
   ],
   "source": [
    "# Respuesta\n",
    "# El volumen de una pirámide es 1/3 del área de la Base, multiplicada por la altura.\n",
    "# Siendo una base cuadrangular, el área de la base es lado * lado.\n",
    "# Por tanto la fórmula final será 1/3 * (lado*lado*altura)\n",
    "\n",
    "def volumenPiramide (lado1:float, lado2:float, altura:float):\n",
    "    try:\n",
    "        return (lado1*lado2*altura)/3\n",
    "    except:\n",
    "        print(\"Error. Los parámetros de entrada deben ser números positivos.\")\n",
    "\n",
    "volumenPiramide(4,5,7.5)"
   ]
  },
  {
   "cell_type": "markdown",
   "metadata": {},
   "source": [
    "### Ejercicio 5\n",
    "\n",
    "Escribe un programa que defina una lista con el nombre de todos los meses del año. Haz que muestre los meses que corresponden a otoño."
   ]
  },
  {
   "cell_type": "code",
   "execution_count": 57,
   "metadata": {},
   "outputs": [
    {
     "data": {
      "text/plain": [
       "['September', 'October', 'November', 'December']"
      ]
     },
     "execution_count": 57,
     "metadata": {},
     "output_type": "execute_result"
    }
   ],
   "source": [
    "# Respuesta\n",
    "import calendar\n",
    "def mesesEstacion(estacion:str):\n",
    "    if type(estacion) is not str:\n",
    "        raise TypeError(\"El parámetro debe ser una estación del año\") \n",
    "    try:\n",
    "        if estacion.lower().capitalize() == \"Primavera\":\n",
    "            return list(calendar.month_name)[3:7]\n",
    "        elif estacion.lower().capitalize() == \"Verano\":\n",
    "            return list(calendar.month_name)[6:10]\n",
    "        elif estacion.lower().capitalize() == \"Otoño\":\n",
    "            return list(calendar.month_name)[9:13]\n",
    "        elif estacion.lower().capitalize() == \"Invierno\":\n",
    "            return [list(calendar.month_name)[ind] for ind in [12,1,2,3]]\n",
    "        else:\n",
    "            print(\"Nombre no corresponde a una estación.\")\n",
    "    except:\n",
    "        print(\"Ha ocurrido un error.\")\n",
    "\n",
    "mesesEstacion(\"otoño\")\n"
   ]
  },
  {
   "cell_type": "markdown",
   "metadata": {},
   "source": [
    "### Ejercicio 6\n",
    "\n",
    "Escribe un programa que a partir de la lista de números dada muestre por pantalla una cadena de caracteres con todos los números, separados entre sí por un guión, y duplicando el primero y el último elemento de la lista.\n",
    "\n",
    "Así, por ejemplo, para la lista ['1', '2', '3'] , el programa debería mostrar la cadena: '1-1-2-3-3'.\n"
   ]
  },
  {
   "cell_type": "code",
   "execution_count": 67,
   "metadata": {},
   "outputs": [
    {
     "data": {
      "text/plain": [
       "'001234567899'"
      ]
     },
     "execution_count": 67,
     "metadata": {},
     "output_type": "execute_result"
    }
   ],
   "source": [
    "# Respuesta\n",
    "def numerosCaracteres(lista:list):\n",
    "    cadena =''   \n",
    "    for numero in lista:\n",
    "        if lista.index(numero) == 0 or lista.index(numero) == len(lista)-1:\n",
    "            cadena += str(numero)*2\n",
    "        else:\n",
    "            cadena += str(numero)\n",
    "    return cadena\n",
    "\n",
    "listaNumeros = list(range(10))\n",
    "numerosCaracteres(listaNumeros)"
   ]
  },
  {
   "cell_type": "markdown",
   "metadata": {},
   "source": [
    "### Ejercicio 7\n",
    "\n",
    "Ordena la siguiente lista de cadenas de caracteres:\n",
    "\n",
    "1. Invirtiendo el orden original\n",
    "2. En orden alfabético inverso\n",
    "\n",
    "**Nota**: Puedes consultar la documentación oficial de la función [`sorted ()`](https://docs.python.org/3/library/functions.html#sorted) para ver qué parámetros puedes utilizar para resolver la segunda parte de la actividad.\n"
   ]
  },
  {
   "cell_type": "code",
   "execution_count": 71,
   "metadata": {},
   "outputs": [
    {
     "name": "stdout",
     "output_type": "stream",
     "text": [
      "['Jadzia Dax', 'Quark', 'Odo', 'Kira Nerys', 'Benjamin Sisko']\n",
      "['Quark', 'Odo', 'Kira Nerys', 'Jadzia Dax', 'Benjamin Sisko']\n"
     ]
    }
   ],
   "source": [
    "st_chars = [\"Benjamin Sisko\", \"Kira Nerys\", \"Odo\", \"Quark\", \"Jadzia Dax\"]\n",
    "print(st_chars[::-1])\n",
    "print(sorted(st_chars, reverse=True))"
   ]
  },
  {
   "cell_type": "markdown",
   "metadata": {},
   "source": [
    "### Ejercicio 8\n",
    "\n",
    "A partir de la siguiente lista,\n",
    "\n",
    "```A_list = [42, 7.5, \"Answer to the Ultimate Question\", \"Dave\", 7.5]```\n",
    "\n",
    "proporciona expresiones que retornen:\n",
    "\n",
    "1. El número de veces que aparece el elemento `7.5` en la lista.\n",
    "2. La posición de la primera aparición del valor `7.5`.\n",
    "3. La misma lista sin el último elemento.\n",
    "\n",
    "**Nota**: En el notebook de teoría hemos visto que son las listas y algunas operaciones sobre ellas. Para hacer la actividad, necesitaréis investigar algunas operaciones adicionales que podemos realizar sobre listas. Para ello podéis consultar la documentación oficial de Python sobre listas ([intro](https://docs.python.org/3/tutorial/introduction.html#lists) y [más sobre listas](https://docs.python.org/3/tutorial/datastructures.html#more-on-lists))."
   ]
  },
  {
   "cell_type": "code",
   "execution_count": 79,
   "metadata": {},
   "outputs": [
    {
     "name": "stdout",
     "output_type": "stream",
     "text": [
      "7.5 aparece un total de:  2  veces\n",
      "7.5 está en el índice:  1 que corresponde a la posición  2\n",
      "La lista sin el último elemento:  [42, 7.5, 'Answer to the Ultimate Question', 'Dave']\n"
     ]
    }
   ],
   "source": [
    "# Respuesta\n",
    "A_list = [42, 7.5, \"Answer to the Ultimate Question\", \"Dave\", 7.5]\n",
    "# 1 .count es un método muy lento para contar, salvo en listas pequeñas. Es mejor usar counter, en la libreria collections\n",
    "print(\"7.5 aparece un total de: \",A_list.count(7.5), \" veces\")\n",
    "\n",
    "# 2\n",
    "print(\"7.5 está en el índice: \", A_list.index(7.5), \"que corresponde a la posición \", A_list.index(7.5)+1)\n",
    "\n",
    "# 3\n",
    "A_list.pop(-1)\n",
    "print(\"La lista sin el último elemento: \", A_list)"
   ]
  },
  {
   "cell_type": "markdown",
   "metadata": {},
   "source": [
    "### Ejercicio 9\n",
    "\n",
    "¿Qué expresión en Python necesitamos para conseguir la _string_ `Learning Python` utilizando sólo las variables` str1` y `str2` definidas?"
   ]
  },
  {
   "cell_type": "code",
   "execution_count": 1,
   "metadata": {},
   "outputs": [
    {
     "data": {
      "text/plain": [
       "'Learning Python'"
      ]
     },
     "execution_count": 1,
     "metadata": {},
     "output_type": "execute_result"
    }
   ],
   "source": [
    "# Respuesta\n",
    "str1 = \"Learning\"\n",
    "str2 = \"Python\"\n",
    "\" \".join([str1,str2])"
   ]
  },
  {
   "cell_type": "markdown",
   "metadata": {},
   "source": [
    "### Ejercicio 10\n",
    "\n",
    "El codigo que se presenta a continuación no funciona: \n",
    "\n",
    "Corrige el error y explica por qué sucede."
   ]
  },
  {
   "cell_type": "code",
   "execution_count": 86,
   "metadata": {},
   "outputs": [
    {
     "name": "stdout",
     "output_type": "stream",
     "text": [
      "Hello, my name is Alex and I'm 20 years old!\n"
     ]
    }
   ],
   "source": [
    "name = \"Alex\"\n",
    "\n",
    "age = 20\n",
    "\n",
    "#print(\"Hello, my name is %d and I'm %d years old!\" % (name, age))\n",
    "print(\"Hello, my name is %s and I'm %d years old!\" % (name, age))\n",
    "# %d sólo se puede usar cuando vamos a insertar un valor int en la cadena. En el primer caso, name es un string\n",
    "#   por lo que es necesario usar %s"
   ]
  },
  {
   "cell_type": "markdown",
   "metadata": {},
   "source": [
    "### Ejercicio 11\n",
    "\n",
    "En este ejercicio utilizaremos la frase: La paciencia es la madre de la ciencia.\n",
    "\n",
    "a) Extrae las palabras paciencia y ciencia de la cadena de strings definida anteriormente.\n",
    "\n",
    "b) Crea la palabra ciencia a partir de paciencia, y la palabra paciencia a partir de ciencia.\n",
    "\n",
    "c) Separa la frase en las diferentes palabras que la forman (e.g. \"La\", \"paciencia,\" es \", etc). ¿Cuál es el separador que debemos usar?\n",
    "\n",
    "d) Vuelve a unir los elementos de la frase mediante \"-\" (e.g. \"La-paciencia-es ...\").\n"
   ]
  },
  {
   "cell_type": "code",
   "execution_count": 103,
   "metadata": {},
   "outputs": [],
   "source": [
    "# Respuesta\n",
    "cadena = \"La paciencia es la madre de la ciencia\"\n",
    "extracted = []\n",
    "cadenaSeparada = []\n",
    "cadenaGuiones = []\n",
    "if \"paciencia\" in cadena:\n",
    "    extracted.append(\"paciencia\")\n",
    "if \"ciencia\" in cadena:\n",
    "    extracted.append(\"ciencia\")\n",
    "\n",
    "palabraCiencia = extracted[0][2:]\n",
    "palabraPaciencia = 'pa'+extracted[1]\n",
    "cadenaSeparada = cadena.split(' ')\n",
    "cadenaGuiones = '-'.join(cadenaSeparada)\n"
   ]
  }
 ],
 "metadata": {
  "kernelspec": {
   "display_name": "Python 3.9.13 ('rampup_py39')",
   "language": "python",
   "name": "python3"
  },
  "language_info": {
   "codemirror_mode": {
    "name": "ipython",
    "version": 3
   },
   "file_extension": ".py",
   "mimetype": "text/x-python",
   "name": "python",
   "nbconvert_exporter": "python",
   "pygments_lexer": "ipython3",
   "version": "3.9.13"
  },
  "orig_nbformat": 4,
  "vscode": {
   "interpreter": {
    "hash": "6a099939abd9aeb901add972a81dd3ff5591506d46c99cdd12b2bd4f66ef287c"
   }
  }
 },
 "nbformat": 4,
 "nbformat_minor": 2
}
