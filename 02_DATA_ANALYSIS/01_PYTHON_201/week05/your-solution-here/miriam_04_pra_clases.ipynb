{
 "cells": [
  {
   "cell_type": "markdown",
   "metadata": {},
   "source": [
    "## Ejercicio 1\n",
    "Somos una empresa que tiene varias tiendas de electrodomesticos. Necesitamos un programa para manejar las tiendas, ver las ventas que han tenido, cuántos empleados hay, etc... Para ello vamos a modelizar la tienda en una clase, que tendrá las siguientes características:\n",
    "\n",
    "* Nombre clase: \"Tienda\"\n",
    "* Atributos comunes:\n",
    "    * Tipo: \"Electrodomésticos\"\n",
    "    * Abierta: True\n",
    "* Atributos propios de cada tienda:\n",
    "    * Nombre - String\n",
    "    * Dirección - String\n",
    "    * Número de empleados - int\n",
    "    * Ventas ultimos 3 meses - Lista de 3 numeros\n",
    "* Método para calcular las ventas de todos los meses, que devuelva un numero con todas las ventas.\n",
    "* Método que calcula la media de ventas de los ultimos meses, por empleado\n",
    "* Método que devuelve en un string el nombre de la tienda, junto con su dirección.\n",
    "* Método que obtiene las ventas del último mes.\n",
    "* Método para dar una proyección de las ventas en caso de haber invertido X dinero en marketing en esa tienda. Siendo X el parámetro de entrada. Si X es menor de 1000, las ventas de los ultimos 3 meses hubiesen sido de (1.2 x ventas), si es mayor o igual de 1000, las ventas hubiesen sido de (1.5 x venta). El método reescribe el atributo de ventas en los últimos 3 meses, y además devuelve las ventas con el aumento.\n",
    "\n",
    "* Se pide:\n",
    "1. Implementar la clase \"Tienda\"\n",
    "2. Crear tres tiendas con datos inventados\n",
    "3. Comprueba en al menos una de ellas, todo lo implementado en la clase tienda (sus atributos, media de ventas, ventas/empleado...)\n",
    "4. Calcular las ventas del último mes de todas las tiendas. Para ello usa el bucle `for`\n",
    "5. Imprime por pantalla los nombres de las tiendas cuya dirección lleve el string \"Avenida\"\n",
    "6. Utilizad este notebook para ejecutar y un fichero para definir vuestras clases, métodos y funciones.\n",
    "7. Seguro que ya has hecho este apartado... Documenta la clase :)"
   ]
  },
  {
   "cell_type": "code",
   "execution_count": 60,
   "metadata": {},
   "outputs": [],
   "source": [
    "class Tienda():\n",
    "    '''\n",
    "    Doc String\n",
    "        Varias tiendas de electrodomésticos. \n",
    "        Todas son de tipo Electrodoméstico y están Abiertas.\n",
    "    '''\n",
    "    tipo = 'Electrodoméstico'\n",
    "    abierta = True\n",
    "    \n",
    "    def __init__(self,nombre,direccion,empleados,ventas_tresmeses):\n",
    "        '''\n",
    "        Método constructor de tiendas\n",
    "\n",
    "        Args:\n",
    "        ----\n",
    "            nombre str\n",
    "            direccion str\n",
    "            empleados int\n",
    "            ventas_tresmeses list[int]\n",
    "        '''\n",
    "        self.nombre = nombre\n",
    "        self.direccion = direccion\n",
    "        self.empleados = empleados\n",
    "        self.ventas_tresmeses = ventas_tresmeses\n",
    "        print('Tienda {} creada'.format(nombre))\n",
    "\n",
    "    def total_ventas(self):\n",
    "        '''\n",
    "        Función que devuelve la suma de las ventas de todos los meses\n",
    "        \n",
    "        Return:\n",
    "        ------\n",
    "            Suma de las ventas de la tienda\n",
    "        '''\n",
    "        return sum(self.ventas_tresmeses)\n",
    "    \n",
    "    def ventas_empleado(self):\n",
    "        '''\n",
    "        Funcion que devuelve la media de ventas totales por empleado\n",
    "        \n",
    "        Return:\n",
    "        ------\n",
    "            Media de ventas por empleado\n",
    "        '''\n",
    "        return sum(self.ventas_tresmeses)/self.empleados\n",
    "\n",
    "    def datos_tienda(self):\n",
    "        '''\n",
    "        Función que devuelve el nombre y la direccion de la tienda\n",
    "        \n",
    "        Return:\n",
    "        ------\n",
    "            Str nombre + direccion\n",
    "        '''\n",
    "        return self.nombre + ' ' + self.direccion\n",
    "    \n",
    "    def ventas_ultmes(self):\n",
    "        '''\n",
    "        Función que devuelve las ventas del ultimo mes\n",
    "        \n",
    "        Return:\n",
    "        ------\n",
    "            Ventas del último mes (de total de 3 meses)\n",
    "        '''\n",
    "        return self.ventas_tresmeses[2]\n",
    "    \n",
    "    def forecast(self,x):\n",
    "        '''\n",
    "        Funcion que toma como parametro el dinero invertido y, en función de ello, opera sobre las ventas por mes \n",
    "            y calcula la previsión de ventas\n",
    "\n",
    "        Args:\n",
    "        ----\n",
    "            x int \n",
    "        \n",
    "        Return:\n",
    "        ------\n",
    "            Previsión de ventas según factor de 1.2 si la inversión < 1000 o factor de 1.5 si > 1000\n",
    "        '''\n",
    "        ventas_forecast = 0\n",
    "        if x < 1000:\n",
    "            ventas_forecast = 1.2 * sum(self.ventas_tresmeses)\n",
    "            for i in range(len(self.ventas_tresmeses)):\n",
    "               self.ventas_tresmeses[i] = self.ventas_tresmeses[i] *1.2\n",
    "        else:         \n",
    "            ventas_forecast = 1.5 * sum(self.ventas_tresmeses)       \n",
    "            for i in range(len(self.ventas_tresmeses)):\n",
    "               self.ventas_tresmeses[i] = self.ventas_tresmeses[i] *1.5 \n",
    "        return ventas_forecast"
   ]
  },
  {
   "cell_type": "code",
   "execution_count": 36,
   "metadata": {},
   "outputs": [
    {
     "name": "stdout",
     "output_type": "stream",
     "text": [
      "Tienda mediak creada\n",
      "Tienda worton creada\n",
      "Tienda urender creada\n"
     ]
    }
   ],
   "source": [
    "tienda_uno = Tienda('mediak','avenida de la plata',125,[12000,32145,15222])\n",
    "tienda_dos = Tienda('worton','calle fontanelles',250,[45712,44221,32142])\n",
    "tienda_tres = Tienda('urender','calle colon',356,[25412,32563,52365])"
   ]
  },
  {
   "cell_type": "code",
   "execution_count": 37,
   "metadata": {},
   "outputs": [
    {
     "name": "stdout",
     "output_type": "stream",
     "text": [
      "mediak\n",
      "Electrodoméstico\n",
      "True\n",
      "avenida de la plata\n",
      "125\n",
      "[12000, 32145, 15222]\n",
      "Total ventas:  59367\n",
      "Ventas por empleado:  474.936\n",
      "Datos tienda:  mediak avenida de la plata\n",
      "Ventas ultimo mes:  15222\n",
      "Forecast:  89050.5\n",
      "Ventas tras forecast:  [18000.0, 48217.5, 22833.0]\n"
     ]
    }
   ],
   "source": [
    "print(tienda_uno.nombre)\n",
    "print(tienda_uno.tipo)\n",
    "print(tienda_uno.abierta)\n",
    "print(tienda_uno.direccion)\n",
    "print(tienda_uno.empleados)\n",
    "print(tienda_uno.ventas_tresmeses)\n",
    "\n",
    "print('Total ventas: ',tienda_uno.total_ventas())\n",
    "print('Ventas por empleado: ',tienda_uno.ventas_empleado())\n",
    "print('Datos tienda: ',tienda_uno.datos_tienda())\n",
    "print('Ventas ultimo mes: ',tienda_uno.ventas_ultmes())\n",
    "print('Forecast: ',tienda_uno.forecast(1500))\n",
    "print('Ventas tras forecast: ', tienda_uno.ventas_tresmeses)"
   ]
  },
  {
   "cell_type": "code",
   "execution_count": 55,
   "metadata": {},
   "outputs": [
    {
     "name": "stdout",
     "output_type": "stream",
     "text": [
      "mediak avenida de la plata : 22833.0\n",
      "worton calle fontanelles : 32142\n",
      "urender calle colon : 52365\n"
     ]
    }
   ],
   "source": [
    "# Ventas ultimo mes de todas las tiendas\n",
    "tiendas = [tienda_uno,tienda_dos,tienda_tres]\n",
    "\n",
    "for tienda in tiendas:\n",
    "    print(tienda.datos_tienda() + ' : '+ str(tienda.ventas_ultmes()))\n",
    "\n"
   ]
  },
  {
   "cell_type": "code",
   "execution_count": 57,
   "metadata": {},
   "outputs": [
    {
     "name": "stdout",
     "output_type": "stream",
     "text": [
      "mediak avenida de la plata\n"
     ]
    }
   ],
   "source": [
    "for tienda in tiendas:\n",
    "    if tienda.datos_tienda().lower().find('avenida')>=0:\n",
    "        print(tienda.datos_tienda())"
   ]
  }
 ],
 "metadata": {
  "kernelspec": {
   "display_name": "Python 3.9.13 ('rampup_py39')",
   "language": "python",
   "name": "python3"
  },
  "language_info": {
   "codemirror_mode": {
    "name": "ipython",
    "version": 3
   },
   "file_extension": ".py",
   "mimetype": "text/x-python",
   "name": "python",
   "nbconvert_exporter": "python",
   "pygments_lexer": "ipython3",
   "version": "3.9.13"
  },
  "orig_nbformat": 4,
  "vscode": {
   "interpreter": {
    "hash": "eaaea08649847d1cf7de1c352d4531d9c9dcf06d1d28c4a1fbe7a87a200e4d41"
   }
  }
 },
 "nbformat": 4,
 "nbformat_minor": 2
}
