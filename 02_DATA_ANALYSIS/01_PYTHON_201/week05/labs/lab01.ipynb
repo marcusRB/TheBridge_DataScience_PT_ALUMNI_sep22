{
 "cells": [
  {
   "cell_type": "markdown",
   "metadata": {},
   "source": [
    "# Lab 1\n",
    "\n",
    "Definid una función que reciba como parámetros dos valores (x e y) que serán dos vectores de enteros, y devuelva la distancia euclídea entre los puntos representados por los vectores. Es necesario que el cuerpo de la función contenga una única expresión, que calcule y devuelva el resultado. Los vectores pueden tener un tamaño arbitrario, pero ambos vectores tendrán el mismo número de elementos. Solo se pueden utilizar funciones de la librería estándar de Python.\n",
    "\n",
    "\n",
    "```\n",
    "import math\n",
    "import numpy as np\n",
    "\n",
    "def eucl_dist(x, y):\n",
    "    pass\n",
    "```"
   ]
  },
  {
   "cell_type": "code",
   "execution_count": 9,
   "metadata": {},
   "outputs": [
    {
     "data": {
      "text/plain": [
       "1.4142135623730951"
      ]
     },
     "execution_count": 9,
     "metadata": {},
     "output_type": "execute_result"
    }
   ],
   "source": [
    "import math\n",
    "import numpy as np\n",
    "\n",
    "def eucl_dist(x:list, y:list):\n",
    "    \"\"\"\n",
    "    Description:\n",
    "    ------------\n",
    "        Calcula la distancia euclidiana entre dos puntos\n",
    "\n",
    "    Parameters:\n",
    "    -----\n",
    "        x: list pos vector1\n",
    "        y: list pos vector2\n",
    "    \n",
    "    Return:\n",
    "    -------\n",
    "        Devuelve el resultado de la fórmula de la dist. euclidiana\n",
    "    \"\"\"\n",
    "    #dist = 0\n",
    "    #for i in range(len(x)):\n",
    "    #    dist += (y[i]-x[i])**2\n",
    "    #dist = dist**(1/2)\n",
    "    #print(dist)\n",
    "    \n",
    "    return sum((y[i]-x[i])**2 for i in range(len(x)))**(1/2)\n",
    "\n",
    "eucl_dist([0,0], [1,1])\n"
   ]
  }
 ],
 "metadata": {
  "kernelspec": {
   "display_name": "Python 3.9.13 ('rampup_py39')",
   "language": "python",
   "name": "python3"
  },
  "language_info": {
   "codemirror_mode": {
    "name": "ipython",
    "version": 3
   },
   "file_extension": ".py",
   "mimetype": "text/x-python",
   "name": "python",
   "nbconvert_exporter": "python",
   "pygments_lexer": "ipython3",
   "version": "3.9.13"
  },
  "orig_nbformat": 4,
  "vscode": {
   "interpreter": {
    "hash": "6a099939abd9aeb901add972a81dd3ff5591506d46c99cdd12b2bd4f66ef287c"
   }
  }
 },
 "nbformat": 4,
 "nbformat_minor": 2
}
