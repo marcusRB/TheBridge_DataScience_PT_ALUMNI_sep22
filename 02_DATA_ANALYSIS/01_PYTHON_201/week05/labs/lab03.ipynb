{
 "cells": [
  {
   "cell_type": "markdown",
   "metadata": {},
   "source": [
    "# Lab 03\n",
    "\n",
    "Definid una función compute_all_distances que reciba como parámetros dos valores (x e y) que serán dos vectores de enteros, y devuelva una tupla de dos elementos, con las distancias euclidiana y de Manhattan entre los puntos representados por los vectores. Los vectores pueden tener un tamaño arbitrario, pero ambos vectores tendrán el mismo número de elementos. Solo se pueden utilizar funciones de la librería estándar de Python.\n",
    "\n",
    "Para ello, encapsulad el código de las funciones de las actividades anteriores dentro de la función compute_all_distances.\n",
    "\n",
    "```\n",
    "def compute_all_distances(x, y): \n",
    "    # TODO\n",
    "    pass\n",
    "\n",
    "\n",
    "\n",
    "```"
   ]
  },
  {
   "cell_type": "code",
   "execution_count": 3,
   "metadata": {},
   "outputs": [
    {
     "data": {
      "text/plain": [
       "(1.4142135623730951, 2)"
      ]
     },
     "execution_count": 3,
     "metadata": {},
     "output_type": "execute_result"
    }
   ],
   "source": [
    "def compute_all_distances(x:list, y:list):\n",
    "    \"\"\"\n",
    "    Description:\n",
    "    ------------\n",
    "        Calcula la distancia euclidian y la distancia de Manhattan\n",
    "        para dos vectores de entrada\n",
    "\n",
    "    Parameters:\n",
    "    -----------\n",
    "        x list: vector 1 pos\n",
    "        y list: vector 2 pos\n",
    "        \n",
    "    Return:\n",
    "    -------\n",
    "        Devuelve una tupla formada por los cálculos de las distancias\n",
    "        euclidianas y de Manhattan.\n",
    "    \"\"\"\n",
    "    \n",
    "    def eucl_dist(x:list, y:list):\n",
    "        \"\"\"\n",
    "        Description:\n",
    "        ------------\n",
    "            Calcula la distancia euclidiana entre dos puntos\n",
    "\n",
    "        Parameters:\n",
    "        -----\n",
    "            x: list pos vector1\n",
    "            y: list pos vector2\n",
    "        \n",
    "        Return:\n",
    "        -------\n",
    "            Devuelve el resultado de la fórmula de la dist. euclidiana\n",
    "        \"\"\"\n",
    "        #dist = 0\n",
    "        #for i in range(len(x)):\n",
    "        #    dist += (y[i]-x[i])**2\n",
    "        #dist = dist**(1/2)\n",
    "        \n",
    "        return sum((y[i]-x[i])**2 for i in range(len(x)))**(1/2)\n",
    "    \n",
    "    def manh_dist(x:list,y:list):\n",
    "        \"\"\"\n",
    "        Description:\n",
    "        -------------\n",
    "        Calcula la distancia de Manhattan entre dos vectores.\n",
    "\n",
    "        Parameters:\n",
    "        ----------\n",
    "            x: list vector 1 pos\n",
    "            y: list vector 2 pos\n",
    "            \n",
    "        Return:\n",
    "        -------\n",
    "            Devuelve el resultado de la fórmula de la distancia de Manhattan,\n",
    "            siendo esta d = abs(x1-y1) + abs(x2-y2) para dos vectores de dimension 2\n",
    "        \"\"\"\n",
    "        \n",
    "        #dist = 0\n",
    "        #for i in range(len(x)):\n",
    "        #    dist += abs((x[i]-y[i]))\n",
    "        #print(dist)\n",
    "        \n",
    "        return sum(abs(x[i]-y[i]) for i in range(len(x)))\n",
    "    \n",
    "    return (eucl_dist(x,y), manh_dist(x,y))\n",
    "\n",
    "compute_all_distances([0,0], [1,1])\n",
    "  "
   ]
  }
 ],
 "metadata": {
  "kernelspec": {
   "display_name": "Python 3.9.13 ('rampup_py39')",
   "language": "python",
   "name": "python3"
  },
  "language_info": {
   "codemirror_mode": {
    "name": "ipython",
    "version": 3
   },
   "file_extension": ".py",
   "mimetype": "text/x-python",
   "name": "python",
   "nbconvert_exporter": "python",
   "pygments_lexer": "ipython3",
   "version": "3.9.13"
  },
  "orig_nbformat": 4,
  "vscode": {
   "interpreter": {
    "hash": "6a099939abd9aeb901add972a81dd3ff5591506d46c99cdd12b2bd4f66ef287c"
   }
  }
 },
 "nbformat": 4,
 "nbformat_minor": 2
}
