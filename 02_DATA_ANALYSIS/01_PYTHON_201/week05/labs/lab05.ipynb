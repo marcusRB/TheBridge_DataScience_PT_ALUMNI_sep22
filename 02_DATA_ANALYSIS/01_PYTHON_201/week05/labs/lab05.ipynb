{
 "cells": [
  {
   "cell_type": "markdown",
   "metadata": {},
   "source": [
    "# Lab 05\n",
    "\n",
    "Ejercicio 5\n",
    "Al final de la Edad Media, en Francia, el diplomático francés Blaise de Vigenère desarrolló un algoritmo para cifrar mensajes que nadie fue capaz de romper durante aproximadamente 250 años. Este algoritmo se conoce con el nombre de cifrado de Vigenère.El cifrado de Vigenère consiste en añadir a cada una de las letras de un texto un desplazamiento a partir de una clave secreta para conseguir una nueva letra diferente del original. Veamos un ejemplo:Si asignamos el número 1 en la primera letra del abecedario, A, 2 a la siguiente, B, etc., imaginad que tenemos el siguiente mensaje:\n",
    "\n",
    "ABC 123 y la siguiente clave secreta:\n",
    "\n",
    "DEF 456 A cada letra del mensaje original le aplicamos un desplazamiento en función de la misma posición dentro de la clave secreta. Por lo tanto, el mensaje cifrado quedaría de la siguiente forma:\n",
    "\n",
    "E G I (1 + 4) (2 + 5) (3 + 6) Escribid una función que, dado un mensaje y una clave secreta, calcule y devuelva el mensaje cifrado.Consideraciones: Utilizad como alfabeto de entrada el alfabeto inglés en mayúsculas.El valor predeterminado de la clave secreta será DATASCI.\n",
    "\n",
    "```\n",
    "# TODO\n",
    "\n",
    "```"
   ]
  },
  {
   "cell_type": "code",
   "execution_count": null,
   "metadata": {},
   "outputs": [],
   "source": [
    "def cifrado_vigenere(mensaje, clave=\"DATASCI\"):\n",
    "    \"\"\"\n",
    "    Cifra el mensaje utilizando el cifrado de Vigenère\n",
    "    \"\"\"\n",
    "    abecedario = 'ABCDEFGHIJKLMNOPQRSTUVWXYZ'\n",
    "    mensaje_cifrado = \"\"\n",
    "\n",
    "    # Código que hay que completar\n",
    "    ordenClave = 0 # Inicializamos el orden en que vamos comprobando la letra de la clave\n",
    "    for i in range(len(mensaje)):\n",
    "        if ordenClave > len(clave)-1: # Si hemos superado la longitud de la clave\n",
    "                ordenClave = 0 # Volvemos a empezar desde el índice 0\n",
    "        if mensaje[i] == \" \": # Si el caracter es un espacio no lo ciframos\n",
    "            mensaje_cifrado += \" \"\n",
    "        else:\n",
    "            posLetraMsg = abecedario.find(mensaje[i]) # Calculamos la posición que corresponde a la letra del mensaje \n",
    "            posLetraClave = abecedario.find(clave[ordenClave]) # Calculamos la posición que corresponde a la letra de la clave\n",
    "            # Sumamos ambas posiciones (+1 para compensar índices 0) y calculamos el módulo para evitar que superemos\n",
    "            # la longitud del abecedario\n",
    "            posLetraCifrada = (posLetraMsg+posLetraClave+1)%len(abecedario)\n",
    "\n",
    "            # Concatenamos la letra en la posición obtenida.\n",
    "            mensaje_cifrado += abecedario[posLetraCifrada]\n",
    "            # Avanzamos en 1 la clave\n",
    "            ordenClave += 1\n",
    "    return mensaje_cifrado"
   ]
  }
 ],
 "metadata": {
  "kernelspec": {
   "display_name": "Python 3.9.13 ('rampup_py39')",
   "language": "python",
   "name": "python3"
  },
  "language_info": {
   "name": "python",
   "version": "3.9.13"
  },
  "orig_nbformat": 4,
  "vscode": {
   "interpreter": {
    "hash": "6a099939abd9aeb901add972a81dd3ff5591506d46c99cdd12b2bd4f66ef287c"
   }
  }
 },
 "nbformat": 4,
 "nbformat_minor": 2
}
