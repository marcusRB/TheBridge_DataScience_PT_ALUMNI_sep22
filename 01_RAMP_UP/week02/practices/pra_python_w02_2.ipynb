{
 "cells": [
  {
   "cell_type": "markdown",
   "metadata": {},
   "source": [
    "Programación para *Data Science*\n",
    "============================\n",
    "\n",
    "Intro101 - 02.2: Conceptos de Python\n",
    "--------------------------------------\n",
    "\n",
    "En este Notebook encontraréis dos conjuntos de ejercicios: un primer conjunto de ejercicios para practicar y que no puntuan, pero que recomendamos intentar resolver y un segundo conjunto que evaluaremos como actividad.\n",
    "\n",
    "\n",
    "Además, veréis que todas las actividades tienen una etiqueta que indica los recursos necesarios para llevarla a cabo. Hay tres posibles etiquetas:\n",
    "\n",
    "* <span style=\"font-family: Courier New; background-color: #82b74b; color: #000000; padding: 3px; \">NM</span> **Sólo materiales**: las herramientas necesarias para realizar la actividad se pueden encontrar en los materiales de la asignatura. \n",
    "\n",
    "* <span style=\"font-family: Courier New; background-color: #ffcc5c; color: #000000; padding: 3px; \">EG</span> **Consulta externa guiada**: la actividad puede requerir hacer uso de herramientas que no se encuentran en los materiales de la asignatura, pero el enunciado contiene indicaciones de dónde o cómo encontrar la información adicional necesaria para resolver la actividad.\n",
    "\n",
    "* <span style=\"font-family: Courier New; background-color: #f2ae72; color: #000000; padding: 3px; \">EI</span> **Consulta externa independente**: la actividad puede requerir hacer uso de herramientas que no se encuentran en los materiales de la asignatura, y el enunciado puede no incluir la descripción de dónde o cómo encontrar esta información adicional. Será necesario que el estudiante busque esta información utilizando los recursos que se han explicado en la asignatura.\n",
    "\n",
    "Es importante notar que estas etiquetas no indican el nivel de dificultad del ejercicio, sino únicamente la necesidad de consulta de documentación externa para su resolución. Además, recordad que las **etiquetas son informativas**, pero podréis consultar referencias externas en cualquier momento (aunque no se indique explícitamente) o puede ser que podáis hacer una actividad sin consultar ningún tipo de documentación. Por ejemplo, para resolver una actividad que sólo requiera los materiales de la asignatura, puedéis consultar referencias externas si queréis, ya sea tanto para ayudaros en la resolución como para ampliar el conocimiento!\n"
   ]
  },
  {
   "cell_type": "markdown",
   "metadata": {},
   "source": [
    "---\n",
    "\n",
    "## Ejercicios y preguntas teóricas para la actividad\n",
    "\n",
    "A continuación, encontraréis los **ejercicios y preguntas teóricas que debéis completar en esta actividad** y que forman parte de la evaluación de esta unidad."
   ]
  },
  {
   "cell_type": "markdown",
   "metadata": {},
   "source": [
    "### Ejercicio 1\n",
    "\n",
    "Un número primo es aquél que solo es divisible por él mismo y por 1.\n",
    "\n",
    "a) Escribe un código que compruebe si un número `x = 15` es solo divisible por 1 o por el mismo.  Escribe este código usando un iterador (un `for` o un `while`) que barra todos los valores desde `2` a `x-1`. Crea una variable `divisible`  que tenga por defecto valor `False` y asigne el valor `True` si a lo largo de la iteración encuentra un número natural divisible. Puedes usar el operador modulo `a % b` para saber si un numero `b` es divisible por `a`.\n",
    "\n",
    "<span style=\"font-family: Courier New; background-color: #82b74b; color: #000000; padding: 2px; \">NM</span>"
   ]
  },
  {
   "cell_type": "code",
   "execution_count": 15,
   "metadata": {},
   "outputs": [
    {
     "name": "stdout",
     "output_type": "stream",
     "text": [
      "El número ES primo.\n"
     ]
    }
   ],
   "source": [
    "# Respuesta\n",
    "try:\n",
    "    \n",
    "    comprobar = int(input(\"Introduzca número entero positivo: \"))\n",
    "    divisible = False\n",
    "\n",
    "    for i in range(2,comprobar-1):\n",
    "        if comprobar%i == 0:\n",
    "            divisible = True\n",
    "            break\n",
    "\n",
    "    if divisible == False:\n",
    "        print(\"El número ES primo.\")\n",
    "    else:\n",
    "        print(\"El número NO ES primo.\")\n",
    "            \n",
    "except ValueError:\n",
    "    print(\"ERROR. El dato introducido debe ser un número entero positivo.\")\n",
    "\n"
   ]
  },
  {
   "cell_type": "markdown",
   "metadata": {},
   "source": [
    "\n",
    "b) Convierte tu código anterior en una función que compruebe si el número del argumento es primo o no, devolviendo True is es primo y False si no es primo. Comprueba tu función con los valores 492366587, 492366585, 48947 y 2,\n",
    "\n",
    "<span style=\"font-family: Courier New; background-color: #82b74b; color: #000000; padding: 2px; \">NM</span>"
   ]
  },
  {
   "cell_type": "code",
   "execution_count": 2,
   "metadata": {},
   "outputs": [
    {
     "name": "stdout",
     "output_type": "stream",
     "text": [
      "True\n",
      "False\n",
      "True\n"
     ]
    }
   ],
   "source": [
    "# Respuesta\n",
    "def esNumeroPrimo (comprobar:int):\n",
    "    \n",
    "    for i in range(2,int(comprobar/2)):\n",
    "        if comprobar%i == 0:\n",
    "            return False\n",
    "        \n",
    "    return True\n",
    "\n",
    "print(esNumeroPrimo(492366587))\n",
    "print(esNumeroPrimo(492366585))\n",
    "print(esNumeroPrimo(2))"
   ]
  },
  {
   "cell_type": "code",
   "execution_count": 4,
   "metadata": {},
   "outputs": [
    {
     "name": "stdout",
     "output_type": "stream",
     "text": [
      "True\n",
      "False\n",
      "True\n"
     ]
    }
   ],
   "source": [
    "# Podría ser más rápido acotando la comprobacón hasta la raíz cuadrada del nº a comprobar\n",
    "# pero necesitamos importar la librería math\n",
    "import math\n",
    "def esNumeroPrimo_Raiz (comprobar:int):\n",
    "    \n",
    "    for i in range(2,int(math.sqrt(comprobar))):\n",
    "        if comprobar%i == 0:\n",
    "            return False\n",
    "        \n",
    "    return True\n",
    "\n",
    "print(esNumeroPrimo_Raiz(492366587))\n",
    "print(esNumeroPrimo_Raiz(492366585))\n",
    "print(esNumeroPrimo_Raiz(2))\n",
    "\n",
    "# La diferencia de ejecución completa es de 17s"
   ]
  },
  {
   "cell_type": "markdown",
   "metadata": {},
   "source": [
    "\n",
    "c) En el cálculo de la función anterior, una vez se ha encontrado un número que es divisible dentro del rango ya no tiene sentido comprobar el resto de números del rango. Por ejemplo si 10 ya es divisble entre 2, ya no hace falta probar de 3 en adelante pues ya sabemos que el número no es primo. \n",
    "\n",
    "Modifica la función anterior de la siguiente forma: \n",
    "- Una vez se encuentra el divisor, la iteración se interrumpe para no probar el resto de enteros. \n",
    "- La función devuelve\n",
    "    - **Si es primo**: True\n",
    "    - **Si no es primo**, el primer divisor mayor que 1.\n",
    "    \n",
    "Puedes hacer uso del comando *break* dentro de un bucle para interrumpir este, puedes consultar más información sobre break en la documentación de python [aquí](https://docs.python.org/2/tutorial/controlflow.html).\n",
    "\n",
    "Comprueba tu función con los valores 492366585, 492366587, 48947 y 2,\n",
    "\n",
    "<span style=\"font-family: Courier New; background-color: #82b74b; color: #000000; padding: 2px; \">NM</span>"
   ]
  },
  {
   "cell_type": "code",
   "execution_count": 5,
   "metadata": {},
   "outputs": [
    {
     "name": "stdout",
     "output_type": "stream",
     "text": [
      "True\n",
      "3\n",
      "True\n"
     ]
    }
   ],
   "source": [
    "# Respuesta\n",
    "def esNumeroPrimo2 (comprobar:int):\n",
    "    \n",
    "    for i in range(2,int(comprobar/2)):\n",
    "        if comprobar%i == 0:\n",
    "            return i\n",
    "        \n",
    "    return True\n",
    "\n",
    "print(esNumeroPrimo2(492366587))\n",
    "print(esNumeroPrimo2(492366585))\n",
    "print(esNumeroPrimo2(2))"
   ]
  },
  {
   "cell_type": "markdown",
   "metadata": {},
   "source": [
    "### Ejercicio 2\n",
    "\n",
    "La Covid-19 es una enfermedad producida por la infección del virus SARS-CoV-2. La infección es transmisible de persona a persona y su contagiosidad depende de la cantidad del virus en las vías respiratorias. Si cada persona contagiada transmite la enfermedad a $\\beta$ contactos en promedio por periodo de tiempo $t$, es posible estimar la evolución del contagio con un modelo matemático sencillo.\n",
    "\n",
    "Para $t=1$día, las transmisiones en España se han estimado a partir de su histórico de las semanas de Febrero y Marzo del 2020 una $\\beta = 0.35$ transmissiones por día por infectado.\n",
    "\n",
    "Durante un periodo de tiempo (por ejempo un día $d$) la tasa de nuevos contagios se puede estimar como  una proporción al número de contagiados del periodo anterior $N$: \n",
    "\n",
    "$ \\Delta N = N_{1} - N = \\beta \\cdot N$ (1)\n",
    "\n",
    "Por tanto, podemos proyectar el número futuro de afectados como \n",
    "\n",
    "$ N_{1} = N + \\beta \\cdot N = (1+\\beta) \\cdot N$ (2) \n",
    "\n",
    "En dos días:\n",
    "\n",
    "$ N_{2} = (1+\\beta) \\cdot N_{1} = (1+\\beta)^2 \\cdot N$  (3)\n",
    "\n",
    "Y en general en D días tendremos \n",
    "\n",
    "$N_{D} = (1+\\beta)^D \\cdot N$  (4)\n",
    " \n",
    "Asumiendo este sencillo modelo: \n",
    "\n",
    "a) Implementa una función de dos parámetros (N: población infectada inicial, D: número de días), que devuelva el cálculo de afectados para D días siguiendo la ecuación (4). Suponiendo una población afectada de 4250 (población afectada en españa a día 13 de Marzo de 2020), usa la función para calcular la población estimada en 1, 2, 7 y 30 días. \n",
    "\n",
    "<span style=\"font-family: Courier New; background-color: #82b74b; color: #000000; padding: 2px; \">NM</span>"
   ]
  },
  {
   "cell_type": "code",
   "execution_count": 9,
   "metadata": {},
   "outputs": [
    {
     "name": "stdout",
     "output_type": "stream",
     "text": [
      "5737.5\n",
      "7745.625000000001\n",
      "34731.64149433595\n",
      "34546335.38087164\n"
     ]
    }
   ],
   "source": [
    "# Respuesta\n",
    "def evolucionCOVID (N:int, D:int):\n",
    "    return ((1+0.35)**D)*N\n",
    "\n",
    "print(evolucionCOVID(4250,1))\n",
    "print(evolucionCOVID(4250,2))\n",
    "print(evolucionCOVID(4250,7))\n",
    "print(evolucionCOVID(4250,30))\n",
    "                    "
   ]
  },
  {
   "cell_type": "markdown",
   "metadata": {},
   "source": [
    "\n",
    "b) Sabiendo que los Servicios de Medicina Intensiva (SMI) disponen de 3363 camas para enfermos graves, y suponiendo que un 10% de los afectados por el covid-19 requerirán de SMI y una supervivencia del 2,5% (Exitus), escribe un código que calcule:\n",
    "- El día en curso (Día)\n",
    "- El total de afectados por el virus para cada día d (Afectados)\n",
    "- El total de ingresados en SMI por el virus para cada día d (Críticos)\n",
    "- El total de Exitus por el virus para cada día d (Exitus)\n",
    "- Si los servicios de SMI no pueden aceptar los ingresados para cada día $d$ (Estado: indicando Saturación/No Saturación)\n",
    "\n",
    "Imprime en pantalla la información de cada día durante una simulación de tres semanas, suponiendo que no hay recuperaciones, con una población afectada inicial 4250 y una $\\beta = 0.35$ constante. \n",
    "\n",
    "\n",
    "<span style=\"font-family: Courier New; background-color: #82b74b; color: #000000; padding: 2px; \">NM</span>"
   ]
  },
  {
   "cell_type": "code",
   "execution_count": 18,
   "metadata": {},
   "outputs": [
    {
     "name": "stdout",
     "output_type": "stream",
     "text": [
      "Día  1 \n",
      " Afectados en dia:  5737.5 \n",
      " Afectados totales:  9973.15625 \n",
      " Críticos en dia:  573.75 \n",
      " Críticos totales:  559.40625 \n",
      " Exitus en día:  14.34375 \n",
      " Exitus totales:  14.34375 \n",
      " Estado:  No Saturación \n",
      " ************\n",
      "Día  2 \n",
      " Afectados en dia:  13463.760937500001 \n",
      " Afectados totales:  23403.257785156253 \n",
      " Críticos en dia:  1346.37609375 \n",
      " Críticos totales:  1872.12294140625 \n",
      " Exitus en día:  33.65940234375 \n",
      " Exitus totales:  48.00315234375 \n",
      " Estado:  No Saturación \n",
      " ************\n",
      "Día  3 \n",
      " Afectados en dia:  31594.398009960943 \n",
      " Afectados totales:  54918.6698000923 \n",
      " Críticos en dia:  3159.4398009960946 \n",
      " Críticos totales:  4952.576747377442 \n",
      " Exitus en día:  78.98599502490237 \n",
      " Exitus totales:  126.98914736865237 \n",
      " Estado:  Saturación \n",
      " ************\n",
      "Día  4 \n",
      " Afectados en dia:  74140.20423012461 \n",
      " Afectados totales:  128873.5235196416 \n",
      " Críticos en dia:  7414.020423012462 \n",
      " Críticos totales:  12181.246659814593 \n",
      " Exitus en día:  185.35051057531155 \n",
      " Exitus totales:  312.3396579439639 \n",
      " Estado:  Saturación \n",
      " ************\n",
      "Día  5 \n",
      " Afectados en dia:  173979.25675151616 \n",
      " Afectados totales:  302417.832129279 \n",
      " Críticos en dia:  17397.92567515162 \n",
      " Críticos totales:  29144.224193087422 \n",
      " Exitus en día:  434.94814187879047 \n",
      " Exitus totales:  747.2877998227543 \n",
      " Estado:  Saturación \n",
      " ************\n",
      "Día  6 \n",
      " Afectados en dia:  408264.07337452663 \n",
      " Afectados totales:  709661.2453203693 \n",
      " Críticos en dia:  40826.40733745266 \n",
      " Críticos totales:  68949.97134710378 \n",
      " Exitus en día:  1020.6601834363166 \n",
      " Exitus totales:  1767.947983259071 \n",
      " Estado:  Saturación \n",
      " ************\n",
      "Día  7 \n",
      " Afectados en dia:  958042.6811824986 \n",
      " Afectados totales:  1665308.8197999117 \n",
      " Críticos en dia:  95804.26811824986 \n",
      " Críticos totales:  162359.1327623974 \n",
      " Exitus en día:  2395.106702956247 \n",
      " Exitus totales:  4163.054686215318 \n",
      " Estado:  Saturación \n",
      " ************\n",
      "Día  8 \n",
      " Afectados en dia:  2248166.9067298807 \n",
      " Afectados totales:  3907855.3092629677 \n",
      " Críticos en dia:  224816.69067298807 \n",
      " Críticos totales:  381555.4061685608 \n",
      " Exitus en día:  5620.417266824702 \n",
      " Exitus totales:  9783.47195304002 \n",
      " Estado:  Saturación \n",
      " ************\n",
      "Día  9 \n",
      " Afectados en dia:  5275604.667505006 \n",
      " Afectados totales:  9170270.965099212 \n",
      " Críticos en dia:  527560.4667505006 \n",
      " Críticos totales:  895926.8612502989 \n",
      " Exitus en día:  13189.011668762516 \n",
      " Exitus totales:  22972.483621802538 \n",
      " Estado:  Saturación \n",
      " ************\n",
      "Día  10 \n",
      " Afectados en dia:  12379865.802883936 \n",
      " Afectados totales:  21519187.103475936 \n",
      " Críticos en dia:  1237986.5802883937 \n",
      " Críticos totales:  2102963.7770314827 \n",
      " Exitus en día:  30949.664507209844 \n",
      " Exitus totales:  53922.14812901238 \n",
      " Estado:  Saturación \n",
      " ************\n",
      "Día  11 \n",
      " Afectados en dia:  29050902.589692514 \n",
      " Afectados totales:  50497462.43669421 \n",
      " Críticos en dia:  2905090.2589692515 \n",
      " Críticos totales:  4935426.779526503 \n",
      " Exitus en día:  72627.2564742313 \n",
      " Exitus totales:  126549.40460324367 \n",
      " Estado:  Saturación \n",
      " ************\n",
      "Día  12 \n",
      " Afectados en dia:  68171574.28953719 \n",
      " Afectados totales:  118498607.79050756 \n",
      " Críticos en dia:  6817157.428953719 \n",
      " Críticos totales:  11582155.27275638 \n",
      " Exitus en día:  170428.935723843 \n",
      " Exitus totales:  296978.3403270867 \n",
      " Estado:  Saturación \n",
      " ************\n",
      "Día  13 \n",
      " Afectados en dia:  159973120.5171852 \n",
      " Afectados totales:  278071795.5063998 \n",
      " Críticos en dia:  15997312.051718522 \n",
      " Críticos totales:  27179534.523181938 \n",
      " Exitus en día:  399932.8012929631 \n",
      " Exitus totales:  696911.1416200497 \n",
      " Estado:  Saturación \n",
      " ************\n",
      "Día  14 \n",
      " Afectados en dia:  375396923.93363976 \n",
      " Afectados totales:  652530227.1302055 \n",
      " Críticos en dia:  37539692.393363975 \n",
      " Críticos totales:  63780734.60671181 \n",
      " Exitus en día:  938492.3098340994 \n",
      " Exitus totales:  1635403.451454149 \n",
      " Estado:  Saturación \n",
      " ************\n",
      "Día  15 \n",
      " Afectados en dia:  880915806.6257775 \n",
      " Afectados totales:  1531243744.2394185 \n",
      " Críticos en dia:  88091580.66257775 \n",
      " Críticos totales:  149670025.75272512 \n",
      " Exitus en día:  2202289.5165644437 \n",
      " Exitus totales:  3837692.968018593 \n",
      " Estado:  Saturación \n",
      " ************\n",
      "Día  16 \n",
      " Afectados en dia:  2067179054.723215 \n",
      " Afectados totales:  3593254851.3258257 \n",
      " Críticos en dia:  206717905.4723215 \n",
      " Críticos totales:  351219983.5882386 \n",
      " Exitus en día:  5167947.636808038 \n",
      " Exitus totales:  9005640.604826631 \n",
      " Estado:  Saturación \n",
      " ************\n",
      "Día  17 \n",
      " Afectados en dia:  4850894049.289865 \n",
      " Afectados totales:  8432021665.492466 \n",
      " Críticos en dia:  485089404.9289865 \n",
      " Críticos totales:  824182153.3940004 \n",
      " Exitus en día:  12127235.123224663 \n",
      " Exitus totales:  21132875.728051294 \n",
      " Estado:  Saturación \n",
      " ************\n",
      "Día  18 \n",
      " Afectados en dia:  11383229248.41483 \n",
      " Afectados totales:  19786792840.78626 \n",
      " Críticos en dia:  1138322924.8414829 \n",
      " Críticos totales:  1934047005.1144462 \n",
      " Exitus en día:  28458073.121037073 \n",
      " Exitus totales:  49590948.84908837 \n",
      " Estado:  Saturación \n",
      " ************\n",
      "Día  19 \n",
      " Afectados en dia:  26712170335.06145 \n",
      " Afectados totales:  46432182750.010056 \n",
      " Críticos en dia:  2671217033.5061455 \n",
      " Críticos totales:  4538483612.782938 \n",
      " Exitus en día:  66780425.83765364 \n",
      " Exitus totales:  116371374.68674201 \n",
      " Estado:  Saturación \n",
      " ************\n",
      "Día  20 \n",
      " Afectados en dia:  62683446712.51358 \n",
      " Afectados totales:  108958920845.74236 \n",
      " Críticos en dia:  6268344671.251358 \n",
      " Críticos totales:  10650119667.253012 \n",
      " Exitus en día:  156708616.78128394 \n",
      " Exitus totales:  273079991.4680259 \n",
      " Estado:  Saturación \n",
      " ************\n",
      "Día  21 \n",
      " Afectados en dia:  147094543141.7522 \n",
      " Afectados totales:  255685727629.6402 \n",
      " Críticos en dia:  14709454314.17522 \n",
      " Críticos totales:  24991837623.57385 \n",
      " Exitus en día:  367736357.85438055 \n",
      " Exitus totales:  640816349.3224065 \n",
      " Estado:  Saturación \n",
      " ************\n"
     ]
    }
   ],
   "source": [
    "# Respuesta\n",
    "\n",
    "def calculoDiario(dias:int):\n",
    "    dia = 0\n",
    "    afectados = 4250\n",
    "    criticosTotales = 0\n",
    "    exitusTotales = 0\n",
    "    serviciosSMI = 3363\n",
    "    estado = \"No Saturacion\"\n",
    "     \n",
    "    for i in range(dias):\n",
    "        dia = i+1\n",
    "        \n",
    "        nuevosAfectados = evolucionCOVID(afectados, 1) # Aumento de afectados en 24h\n",
    "        nuevosCriticos = nuevosAfectados*0.1 # Aumento de criticos en 24h       \n",
    "        nuevosExitus = nuevosCriticos*0.025 # Aumento de exitus en 24h de los nuevos pacientes críticos.\n",
    "        # El dato de exitus es dudoso, dado que no hay mucha concreción en el enunciado acerca de si afecta al total de críticos\n",
    "        # o solo a los nuevos pacientes en estado crítico.\n",
    "        \n",
    "        exitusTotales += nuevosExitus # Acumulativo de exitus\n",
    "        criticosTotales = criticosTotales + nuevosCriticos - nuevosExitus # Acumulativo de críticos\n",
    "        afectados = afectados + nuevosAfectados - nuevosExitus # Nuevo nº de afectados = Contagiados - muertos\n",
    "        \n",
    "        if criticosTotales >= serviciosSMI:\n",
    "            estado = \"Saturación\"\n",
    "        else:\n",
    "            estado = \"No Saturación\"\n",
    "        print(\"Día \", dia, \"\\r\\n\",\n",
    "              \"Afectados en dia: \", nuevosAfectados,  \"\\r\\n\",\n",
    "              \"Afectados totales: \", afectados, \"\\r\\n\",\n",
    "              \"Críticos en dia: \", nuevosCriticos, \"\\r\\n\",\n",
    "              \"Críticos totales: \", criticosTotales, \"\\r\\n\",\n",
    "              \"Exitus en día: \", nuevosExitus, \"\\r\\n\",\n",
    "              \"Exitus totales: \", exitusTotales,  \"\\r\\n\",\n",
    "              \"Estado: \", estado, \"\\r\\n\",\n",
    "              \"************\")\n",
    "    \n",
    "calculoDiario(21)\n"
   ]
  },
  {
   "cell_type": "markdown",
   "metadata": {},
   "source": [
    "\n",
    "c) Convierte el código anterior en una función que genere un archivo de texto con nombre `output.txt`, siguiendo este formato: \n",
    "```\n",
    "Dia, Afectados, Críticos, Exitus, Estado\n",
    "0, 4250, 425,  106, No Saturación\n",
    "1, 5737, 573,  143, No Saturación\n",
    "2, 7745, 774,  193, No Saturación\n",
    "...\n",
    "```\n",
    "Con los parámetros de entrada $N$, $D$, $\\beta$, camas SMI.\n",
    "\n",
    "<span style=\"font-family: Courier New; background-color: #82b74b; color: #000000; padding: 2px; \">NM</span>"
   ]
  },
  {
   "cell_type": "code",
   "execution_count": 21,
   "metadata": {},
   "outputs": [],
   "source": [
    "# Respuesta\n",
    "import os\n",
    " \n",
    "def calculoDiario(dias:int):\n",
    "    dia = 0\n",
    "    afectados = 4250\n",
    "    criticosTotales = 0\n",
    "    exitusTotales = 0\n",
    "    serviciosSMI = 3363\n",
    "    estado = \"No Saturacion\"\n",
    "    \n",
    "    out = open('output2.txt', 'w')\n",
    "    out.write(\"Dia, Afectados, Criticos, Exitus, Estado\" + \"\\n\")\n",
    "     \n",
    "    for i in range(dias):\n",
    "        dia = i+1\n",
    "        nuevosAfectados = evolucionCOVID(afectados, 1) # Aumento de afectados en 24h\n",
    "        \n",
    "        nuevosCriticos = nuevosAfectados*0.1 # Aumento de criticos en 24h\n",
    "        criticosTotales += nuevosCriticos # Acumulativo de críticos\n",
    "        \n",
    "        nuevosExitus = nuevosAfectados*0.025 # Aumento de exitus en 24h\n",
    "        exitusTotales += nuevosExitus # Acumulativo de exitus\n",
    "        \n",
    "        afectados = nuevosAfectados - nuevosExitus # Nuevo nº de afectados = Contagiados - muertos\n",
    "        if criticosTotales >= serviciosSMI:\n",
    "            estado = \"Saturación\"\n",
    "        else:\n",
    "            estado = \"No Saturación\"\n",
    "        out.write(str(dia)+\",\"+str(afectados)+\",\"+str(criticosTotales)+\n",
    "                  \",\"+str(exitusTotales)+\",\"+str(estado)+\"\\n\")\n",
    "    out.close()\n",
    "    \n",
    "calculoDiario(21)\n"
   ]
  },
  {
   "cell_type": "markdown",
   "metadata": {},
   "source": [
    "### Ejercicio 3\n",
    "\n",
    "Dado el siguiente diccionario:"
   ]
  },
  {
   "cell_type": "code",
   "execution_count": null,
   "metadata": {},
   "outputs": [],
   "source": [
    "d = {\"Alex\":344334443, \"Eva\":5533443, \"Cristina\":443355, \"Jonas\":33223324}"
   ]
  },
  {
   "cell_type": "markdown",
   "metadata": {},
   "source": [
    "Escribid una función que pregunte al usuario que introduzca el nombre de una persona y muestre por pantalla el nombre de la persona y su teléfono. \n",
    "\n",
    "Tened en cuenta que:\n",
    "\n",
    "- La función debe controlar que el valor introducido por el usuario es un nombre que existe en el diccionario. En caso contrario, mostrará un mensaje de error (\"El nombre introducido no corresponde a ninguna persona\") y devolverá el valor False.\n",
    "- Debéis tener en cuenta que el nombre de las personas que nos pasan por parámetro puede ser en minúsculas, mayúsculas o una combinación de ambas, y que debemos encontrar el número de teléfono aunque la capitalización de la cadena entrada por el usuario no sea exactamente la misma que hemos almacenado en el diccionario.\n",
    "- Suponed que  no hay acentos en los nombres.\n",
    "\n",
    "Nota 1: Para realizar la actividad, tendréis que capturar un texto que entrará el usuario. Consultad la [documentación oficial de la función input](https://docs.python.org/3/library/functions.html#input) para ver cómo hacerlo.\n",
    "\n",
    "Nota 2: También tendréis que pensar cómo tratar el hecho de que el usuario pueda utilizar mayúsculas y minúsculas en la escritura del nombre en el diccionario. ¡Os animamos a usar un buscador para intentar encontrar alguna alternativa para resolver este subproblema! ¡Recordad citar las referencias que hayáis usado para resolverlo!\n",
    "\n",
    "<span style=\"font-family: Courier New; background-color: #ffcc5c; color: #000000; padding: 3px; \">EG</span>"
   ]
  },
  {
   "cell_type": "code",
   "execution_count": 1,
   "metadata": {},
   "outputs": [
    {
     "name": "stdout",
     "output_type": "stream",
     "text": [
      "344334443\n"
     ]
    }
   ],
   "source": [
    "d = {\"Alex\":344334443, \"Eva\":5533443, \"Cristina\":443355, \"Jonas\":33223324}\n",
    "\n",
    "# Respuesta\n",
    "def listinTelefonico (listin:dict):\n",
    "    nombre = input(\"Introduzca nombre: \")\n",
    "    \n",
    "    # Crea un diccionario temporal con las claves en minúscula para compararlo\n",
    "    # con la palabra introducida y en minúsculas\n",
    "    if nombre.lower() not in {clave.lower():valor for clave,valor in listin.items()}: \n",
    "        print(\"El nombre no corresponde a ninguna persona\")\n",
    "        return False\n",
    "    else:\n",
    "        # Muestra el valor del teléfono para la clave introducida y \"normalizada\" para\n",
    "        # coincidir con el formato de nombres del diccionario\n",
    "        print(listin[nombre.lower().capitalize()])\n",
    "\n",
    "listinTelefonico(d)"
   ]
  },
  {
   "cell_type": "code",
   "execution_count": 8,
   "metadata": {},
   "outputs": [
    {
     "name": "stdout",
     "output_type": "stream",
     "text": [
      "344334443\n"
     ]
    }
   ],
   "source": [
    "d2 = {\"AleX\":344334443, \"EVA\":5533443, \"CrisTIna\":443355, \"jonas\":33223324}\n",
    "\n",
    "# Respuesta para diccionario con claves en mayusculas y minusculas\n",
    "def listinTelefonico (listin:dict):\n",
    "    nombre = input(\"Introduzca nombre: \")\n",
    "    \n",
    "    # Crea un diccionario temporal con las claves en minúscula para compararlo\n",
    "    # con la palabra introducida y en minúsculas\n",
    "    if nombre.lower() not in {clave.lower():valor for clave,valor in listin.items()}: \n",
    "        print(\"El nombre no corresponde a ninguna persona\")\n",
    "        return False\n",
    "    else:\n",
    "        # Muestra el valor del teléfono para la clave introducida y \"normalizada\" para\n",
    "        # coincidir con el formato de nombres del diccionario\n",
    "        print({clave.lower():valor for clave,valor in listin.items()}[nombre.lower()])\n",
    "\n",
    "listinTelefonico(d2)"
   ]
  },
  {
   "cell_type": "markdown",
   "metadata": {},
   "source": [
    "Referencias consultadas:\n",
    "\n",
    "*Incluir aquí las referencias*"
   ]
  },
  {
   "cell_type": "markdown",
   "metadata": {},
   "source": [
    "###  Ejercicio 4\n",
    "\n",
    "Python dispone de un **idiom** muy útil conocido como `list comprehension`. Utilizando este **idiom**, proporcionad una expresión que devuelva las listas siguientes.\n",
    "\n",
    "Nota: Para realizar esta actividad necesitaréis investigar qué son las `list comprehension` y qué sintaxis utilizan. Para ello, se recomienda en primer lugar que utilicéis un buscador para encontrar información genérica sobre esta construcción. Después, os recomendamos que consultéis stackoverflow para ver algunos ejemplos de problemas que se pueden resolver con esta construcción.\n",
    "\n",
    "\n",
    "[stackoverflow](https://stackoverflow.com/) es un sitio de preguntas-y-respuestas muy popular entre programadores. Veréis que para la gran mayoría de las dudas que tengáis, habrá alguien que ya les habrá tenido (y consultado) anteriormente! Así pues, más allá de preguntar vosotros mismos las dudas allí (nosotros ya tenemos el foro del aula para ello!), consultar esta web os permitirá ver qué soluciones proponen otros programadores a estas dudas. A menudo habrá más de una solución a un mismo problema, y podréis valorar cuál es la más adecuada para vuestro problema.\n",
    "\n",
    "Para ver ejemplos de problemas que son adecuados para resolver con **list comprehensions**, os recomendamos leer las siguientes páginas:\n",
    "* https://stackoverflow.com/questions/12555443/squaring-all-elements-in-a-list\n",
    "* https://stackoverflow.com/questions/18551458/how-to-frame-two-for-loops-in-list-comprehension-python\n",
    "* https://stackoverflow.com/questions/24442091/list-comprehension-with-condition\n",
    "* https://stackoverflow.com/questions/41676212/i-want-to-return-only-the-odd-numbers-in-a-list\n",
    "* https://stackoverflow.com/questions/4260280/if-else-in-a-list-comprehension\n",
    "\n",
    "<span style=\"font-family: Courier New; background-color: #ffcc5c; color: #000000; padding: 3px; \">EG</span>\n"
   ]
  },
  {
   "cell_type": "markdown",
   "metadata": {},
   "source": [
    "a) Una lista con los valores $4 x^2$ donde $x$ es cada uno de los números de la lista `list_1`:"
   ]
  },
  {
   "cell_type": "code",
   "execution_count": 34,
   "metadata": {},
   "outputs": [
    {
     "name": "stdout",
     "output_type": "stream",
     "text": [
      "[4, 16, 36, 64, 100, 144, 196, 256, 324]\n"
     ]
    }
   ],
   "source": [
    "list_1 = [1, 2, 3, 4, 5, 6, 7, 8, 9]\n",
    "\n",
    "# Respuesta\n",
    "list_r = [4*i**2 for i in list_1]\n",
    "print(list_r)"
   ]
  },
  {
   "cell_type": "markdown",
   "metadata": {},
   "source": [
    "b) Una lista con los valores $x/(x+1)$ donde $x$ es cada uno de los números de la lista `list_1`:"
   ]
  },
  {
   "cell_type": "code",
   "execution_count": 35,
   "metadata": {},
   "outputs": [
    {
     "name": "stdout",
     "output_type": "stream",
     "text": [
      "[0.5, 0.6666666666666666, 0.75, 0.8, 0.8333333333333334, 0.8571428571428571, 0.875, 0.8888888888888888, 0.9]\n"
     ]
    }
   ],
   "source": [
    "list_1 = [1, 2, 3, 4, 5, 6, 7, 8, 9]\n",
    "\n",
    "# Respuesta\n",
    "list_r = [i/(i+1) for i in list_1]\n",
    "print(list_r)"
   ]
  },
  {
   "cell_type": "markdown",
   "metadata": {},
   "source": [
    "c) Una lista con los valores $4x^2/(4x^2-1)$ donde $x$ es cada uno de los números de la lista `list_1`:"
   ]
  },
  {
   "cell_type": "code",
   "execution_count": 36,
   "metadata": {},
   "outputs": [
    {
     "name": "stdout",
     "output_type": "stream",
     "text": [
      "[1.3333333333333333, 1.0666666666666667, 1.0285714285714285, 1.0158730158730158, 1.0101010101010102, 1.006993006993007, 1.005128205128205, 1.003921568627451, 1.0030959752321982]\n"
     ]
    }
   ],
   "source": [
    "list_1 = [1, 2, 3, 4, 5, 6, 7, 8, 9]\n",
    "\n",
    "# Respuesta\n",
    "list_r = [4*i**2 / (4*i**2 - 1) for i in list_1]\n",
    "print(list_r)"
   ]
  },
  {
   "cell_type": "markdown",
   "metadata": {},
   "source": [
    "### Ejercicio 5\n",
    "\n",
    "Las funciones `lambda` son formas de expresar y definir funciones pequeñas sin necesidad de usar el constructor `def funcion():`.\n",
    "\n",
    "Lee sobre las funciones lambda, por ejemplo [aquí](https://www.w3schools.com/python/python_lambda.asp) o [aquí](https://realpython.com/python-lambda/)\n",
    "\n",
    "Escribe una función $f$ con argumento $n$, $f(n)$, que **devuelva una función** lambda, que esta a su vez devuelva $n$ copias de una cadena de caracteres en su argumento: \n",
    "\n",
    "<span style=\"font-family: Courier New; background-color: #f2ae72; color: #000000; padding: 3px; \">EI</span>"
   ]
  },
  {
   "cell_type": "code",
   "execution_count": 37,
   "metadata": {
    "jupyter": {
     "source_hidden": true
    }
   },
   "outputs": [
    {
     "ename": "TypeError",
     "evalue": "'tuple' object is not callable",
     "output_type": "error",
     "traceback": [
      "\u001b[1;31m---------------------------------------------------------------------------\u001b[0m",
      "\u001b[1;31mTypeError\u001b[0m                                 Traceback (most recent call last)",
      "\u001b[1;32md:\\TheBridge_DataScience_PT_ALUMNI_sep22\\01_RAMP_UP\\week02\\practices\\pra_python_w02_2.ipynb Celda 29\u001b[0m in \u001b[0;36m<cell line: 8>\u001b[1;34m()\u001b[0m\n\u001b[0;32m      <a href='vscode-notebook-cell:/d%3A/TheBridge_DataScience_PT_ALUMNI_sep22/01_RAMP_UP/week02/practices/pra_python_w02_2.ipynb#X36sZmlsZQ%3D%3D?line=5'>6</a>\u001b[0m     \u001b[39mreturn\u001b[39;00m()\n\u001b[0;32m      <a href='vscode-notebook-cell:/d%3A/TheBridge_DataScience_PT_ALUMNI_sep22/01_RAMP_UP/week02/practices/pra_python_w02_2.ipynb#X36sZmlsZQ%3D%3D?line=6'>7</a>\u001b[0m r \u001b[39m=\u001b[39m f(\u001b[39m5\u001b[39m)\n\u001b[1;32m----> <a href='vscode-notebook-cell:/d%3A/TheBridge_DataScience_PT_ALUMNI_sep22/01_RAMP_UP/week02/practices/pra_python_w02_2.ipynb#X36sZmlsZQ%3D%3D?line=7'>8</a>\u001b[0m r(\u001b[39m\"\u001b[39;49m\u001b[39mhola\u001b[39;49m\u001b[39m\"\u001b[39;49m)\n",
      "\u001b[1;31mTypeError\u001b[0m: 'tuple' object is not callable"
     ]
    }
   ],
   "source": [
    "# Respuesta\n",
    "\n",
    "def f(n): \n",
    "    # Definir de la función usando una método lambda\n",
    "    #func = lambda arg1 : accion\n",
    "    return()\n",
    "r = f(5)\n",
    "r(\"hola\")  # Donde deberíamos ver 5 copias del literal \"Hola \""
   ]
  },
  {
   "cell_type": "markdown",
   "metadata": {},
   "source": [
    "### Ejercicio Opcional\n",
    "\n",
    "Existe una expresión atribuida a John Wallis (1616) para la estimación del valor de $\\pi$, consistente en: \n",
    "\n",
    "$$\n",
    "\\frac{\\pi}{2} = \\prod_{n=1}^{N} (\\frac{4n^2}{4n^2 - 1})\n",
    "$$\n",
    "si $N$ es suficientemente grande  $N \\to \\infty$. \n",
    "\n",
    "Escribe una función que, dado una aproximación N, calcule una estimación de $\\pi$ siguiendo la fórmula de Wallis. \n",
    "\n",
    "\n",
    "\n",
    "**Consideraciones:**\n",
    "\n",
    "- Investigad las funciones map, reduce\n",
    "- También podéis usar una list comprehension\n",
    "- Las funciones lambda os pueden ser útiles\n",
    "\n",
    "<span style=\"font-family: Courier New; background-color: #f2ae72; color: #000000; padding: 3px; \">EI</span>"
   ]
  },
  {
   "cell_type": "code",
   "execution_count": 25,
   "metadata": {
    "attributes": {
     "classes": [
      "sourceCode"
     ],
     "id": ""
    }
   },
   "outputs": [
    {
     "name": "stdout",
     "output_type": "stream",
     "text": [
      "3.1408069608284657\n",
      "3.1408069608284657\n"
     ]
    }
   ],
   "source": [
    "# Respuesta\n",
    "def johnWallisPi(N:int):\n",
    "    pi = 0.0\n",
    "    for i in range(1,N):\n",
    "        division = (4*(i**2))/((4*(i**2))-1)\n",
    "        if i == 1:\n",
    "            pi = division\n",
    "        else:\n",
    "            pi = pi * division\n",
    "    pi *=2\n",
    "    return pi\n",
    "\n",
    "print(johnWallisPi(1000))\n",
    "\n",
    "\n",
    "## Refactorizado con reduce, list y lambda\n",
    "from functools import reduce\n",
    "\n",
    "def johnWallisPiRefactor(N:int):\n",
    "    return 2 * reduce(lambda x, y: x*y, [(4.0*(i**2))/(4.0*(i**2)-1) for i in range (1, N)])\n",
    "\n",
    "print(johnWallisPiRefactor(1000))"
   ]
  }
 ],
 "metadata": {
  "kernelspec": {
   "display_name": "Python 3.9.13 ('rampup_py39')",
   "language": "python",
   "name": "python3"
  },
  "language_info": {
   "codemirror_mode": {
    "name": "ipython",
    "version": 3
   },
   "file_extension": ".py",
   "mimetype": "text/x-python",
   "name": "python",
   "nbconvert_exporter": "python",
   "pygments_lexer": "ipython3",
   "version": "3.9.13"
  },
  "vscode": {
   "interpreter": {
    "hash": "6a099939abd9aeb901add972a81dd3ff5591506d46c99cdd12b2bd4f66ef287c"
   }
  }
 },
 "nbformat": 4,
 "nbformat_minor": 4
}
