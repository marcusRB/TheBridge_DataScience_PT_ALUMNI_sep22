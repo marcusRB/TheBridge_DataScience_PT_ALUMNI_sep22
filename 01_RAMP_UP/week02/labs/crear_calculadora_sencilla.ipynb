{
  "cells": [
    {
      "cell_type": "markdown",
      "metadata": {
        "id": "MJFXpot9_MLX"
      },
      "source": [
        "***\n",
        "## Vamos con el laboratorio 3\n",
        "\n",
        "Crear una calculadora sencilla sin definir funciones - parte 1\n",
        "\n",
        "***\n",
        "### lab 3 - Crear una calculadora **sencilla** sin definir funciones - parte 1\n",
        "\n",
        "Cree una calculadora sencilla que acepte un primer número, una operación y un segundo número.\n",
        "\n",
        "Este es un resultado de ejemplo, en el que un usuario ha escrito *4*, *** y *5* en los cuadros de entrada:\n",
        "\n",
        "\n",
        "```output\n",
        "Simple calculator!\n",
        "First number? 4\n",
        "Operation? *\n",
        "Second number? 5\n",
        "product of 4 * 5 equals 20\n",
        "```\n",
        "\n",
        "El programa debe aceptar un símbolo, como el símbolo de asterisco (*), para realizar una multiplicación y generar un producto. Asegúrese de implementar lógica para estos resultados:\n",
        "\n",
        "- Suma (+)\n",
        "- Resta (-)\n",
        "- Multiplicación (*)\n",
        "- Cociente (/)\n",
        "- Exponente (//)\n",
        "- Módulo (%)\n",
        "\n",
        "Si el usuario no escribe un valor numérico, muestre este mensaje:\n",
        "\n",
        "\n",
        "```output\n",
        "Please input a number.\n",
        "```\n",
        "\n",
        "Si el usuario escribe una operación que no se reconoce, muestre este mensaje:\n",
        "\n",
        "\n",
        "```output\n",
        "Operation not recognized.\n",
        "```\n",
        "\n",
        "Tanto si tiene dificultades y necesita echar un vistazo a la solución como si finaliza el ejercicio correctamente, continúe para ver una solución a este desafío."
      ]
    },
    {
      "cell_type": "markdown",
      "metadata": {
        "id": "y3c76u0D_Qho"
      },
      "source": [
        "#### PSEUDOCODIGO\n",
        "\n",
        "Declaramos dos valores de entrada\n",
        "```\n",
        "a (input)\n",
        "b (input)\n",
        "```\n",
        "\n",
        "Declarar el tipo de operación a realizar\n",
        "```\n",
        "operacion (input)\n",
        "```\n",
        "\n",
        "Creamos una variable con una lista de operadores\n",
        "```\n",
        "operadores = [\"+\", \"-\", \"*\", \"/\", \"//\", \"%\" ]\n",
        "```\n",
        "\n",
        "Declaramos la condición de evaluación\n",
        "SI el operador no se encuentra en la lista de Operadores\n",
        "`` \n",
        "print (Operación no reconocida)\n",
        "```\n",
        "\n",
        "ELSE\n",
        "\n",
        "SI el operacion es \"+\"\n",
        "ELSE RESULTADO a+b\n",
        "\n",
        "SI EL operacion es \"-\"\n",
        "ELSE RESULTADO a-b\n",
        "\n",
        "\n",
        "... así para el resto de operadores\n",
        "\n",
        "print(resultado)\n",
        "```"
      ]
    },
    {
      "cell_type": "code",
      "execution_count": null,
      "metadata": {
        "id": "KpL-j1GI_RWm"
      },
      "outputs": [],
      "source": [
        "#Lista de operadores\n",
        "operadores = [\"+\", \"-\", \"*\", \"/\", \"//\", \"%\"]\n",
        "\n",
        "# Variables de entrada\n",
        "\n",
        "# Recogemos el primer numero\n",
        "primerNum = input(\"Introduzca el primer valor: \")\n",
        "isNumero = primerNum.isnumeric() # Comprobamos si es un número\n",
        "while isNumero == False: # Si no es un número, volvemos a pedirlo.\n",
        "    primerNum = input(\"Valor erróneo. Introduzca el primer valor: \")\n",
        "    isNumero = primerNum.isnumeric()\n",
        "primerNum = int(primerNum) # Al estar seguros de que es un número, realizamos el cast\n",
        "\n",
        "# Recogemos la operación.\n",
        "operacion = input(\"Introduzca operación (+ - * / // %): \")\n",
        "isOperacion = operacion in operadores\n",
        "while isOperacion == False: #Si no es una operación correcta, volvemos a pedirla.\n",
        "    operacion = input(\"Operacion erronea. Introduzca operación (+ - * / // %): \")\n",
        "    isOperacion = operacion in operadores\n",
        "\n",
        "# Recogemos el segundo numero\n",
        "segundoNum = input(\"Introduzca el segundo valor: \")\n",
        "isNumero = segundoNum.isnumeric() # Comprobamos si es un número\n",
        "while isNumero == False: #Si no es un número, volvemos a pedirlo.\n",
        "    segundoNum = input(\"Valor erróneo. Introduzca el segundo valor: \")\n",
        "    isNumero = segundoNum.isnumeric()\n",
        "segundoNum = int(segundoNum) # Al estar seguros de que es un número, realizamos el cast\n",
        "\n",
        "# Realizamos los cálculos.\n",
        "if operacion == \"+\":\n",
        "    print(primerNum+segundoNum)\n",
        "elif operacion == \"-\":\n",
        "    print(primerNum-segundoNum)\n",
        "elif operacion == \"*\":\n",
        "    print(primerNum*segundoNum)\n",
        "elif operacion == \"/\":\n",
        "    print(primerNum/segundoNum)\n",
        "elif operacion == \"//\":\n",
        "    print(primerNum**segundoNum)\n",
        "elif operacion == \"%\":\n",
        "    print(primerNum%segundoNum)\n"
      ]
    },
    {
      "cell_type": "code",
      "execution_count": null,
      "metadata": {
        "id": "tIRIoLmu_O2E"
      },
      "outputs": [],
      "source": []
    },
    {
      "cell_type": "code",
      "execution_count": null,
      "metadata": {
        "id": "nSo-pS8uedZ5"
      },
      "outputs": [],
      "source": []
    }
  ],
  "metadata": {
    "colab": {
      "name": "Lab03 - Calculadora sencilla",
      "provenance": []
    },
    "kernelspec": {
      "display_name": "Python 3.9.13 ('rampup_py39')",
      "language": "python",
      "name": "python3"
    },
    "language_info": {
      "name": "python",
      "version": "3.9.13"
    },
    "vscode": {
      "interpreter": {
        "hash": "6a099939abd9aeb901add972a81dd3ff5591506d46c99cdd12b2bd4f66ef287c"
      }
    }
  },
  "nbformat": 4,
  "nbformat_minor": 0
}
