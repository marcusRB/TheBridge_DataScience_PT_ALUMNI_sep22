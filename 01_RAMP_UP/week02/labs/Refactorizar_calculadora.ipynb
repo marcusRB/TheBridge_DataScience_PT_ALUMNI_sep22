{
  "cells": [
    {
      "cell_type": "markdown",
      "metadata": {
        "id": "MJFXpot9_MLX"
      },
      "source": [
        "***\n",
        "## Vamos con el laboratorio 3\n",
        "\n",
        "Crear una calculadora sencilla sin definir funciones - parte 1\n",
        "\n",
        "***\n",
        "### lab 3 - Crear una calculadora **sencilla** sin definir funciones - parte 1\n",
        "\n",
        "Cree una calculadora sencilla que acepte un primer número, una operación y un segundo número.\n",
        "\n",
        "Este es un resultado de ejemplo, en el que un usuario ha escrito *4*, *** y *5* en los cuadros de entrada:\n",
        "\n",
        "\n",
        "```output\n",
        "Simple calculator!\n",
        "First number? 4\n",
        "Operation? *\n",
        "Second number? 5\n",
        "product of 4 * 5 equals 20\n",
        "```\n",
        "\n",
        "El programa debe aceptar un símbolo, como el símbolo de asterisco (*), para realizar una multiplicación y generar un producto. Asegúrese de implementar lógica para estos resultados:\n",
        "\n",
        "- Suma (+)\n",
        "- Resta (-)\n",
        "- Multiplicación (*)\n",
        "- Cociente (/)\n",
        "- Exponente (//)\n",
        "- Módulo (%)\n",
        "\n",
        "Si el usuario no escribe un valor numérico, muestre este mensaje:\n",
        "\n",
        "\n",
        "```output\n",
        "Please input a number.\n",
        "```\n",
        "\n",
        "Si el usuario escribe una operación que no se reconoce, muestre este mensaje:\n",
        "\n",
        "\n",
        "```output\n",
        "Operation not recognized.\n",
        "```\n",
        "\n",
        "Tanto si tiene dificultades y necesita echar un vistazo a la solución como si finaliza el ejercicio correctamente, continúe para ver una solución a este desafío."
      ]
    },
    {
      "cell_type": "markdown",
      "metadata": {
        "id": "y3c76u0D_Qho"
      },
      "source": [
        "#### PSEUDOCODIGO\n",
        "\n",
        "Declaramos dos valores de entrada\n",
        "```\n",
        "a (input)\n",
        "b (input)\n",
        "```\n",
        "\n",
        "Declarar el tipo de operación a realizar\n",
        "```\n",
        "operacion (input)\n",
        "```\n",
        "\n",
        "Creamos una variable con una lista de operadores\n",
        "```\n",
        "operadores = [\"+\", \"-\", \"*\", \"/\", \"//\", \"%\" ]\n",
        "```\n",
        "\n",
        "Declaramos la condición de evaluación\n",
        "SI el operador no se encuentra en la lista de Operadores\n",
        "`` \n",
        "print (Operación no reconocida)\n",
        "```\n",
        "\n",
        "ELSE\n",
        "\n",
        "SI el operacion es \"+\"\n",
        "ELSE RESULTADO a+b\n",
        "\n",
        "SI EL operacion es \"-\"\n",
        "ELSE RESULTADO a-b\n",
        "\n",
        "\n",
        "... así para el resto de operadores\n",
        "\n",
        "print(resultado)\n",
        "```"
      ]
    },
    {
      "cell_type": "markdown",
      "metadata": {},
      "source": [
        "##### Refactorización 1\n",
        "Creada una función para cada operación a la que llamamos en función de la operación introducida"
      ]
    },
    {
      "cell_type": "code",
      "execution_count": 2,
      "metadata": {
        "id": "KpL-j1GI_RWm"
      },
      "outputs": [
        {
          "name": "stdout",
          "output_type": "stream",
          "text": [
            "1.05\n"
          ]
        }
      ],
      "source": [
        "# OPCION 1\n",
        "\n",
        "# Funciones custom\n",
        "def suma (a, b):\n",
        "    return a+b\n",
        "\n",
        "def resta (a,b):\n",
        "    return a-b\n",
        "\n",
        "def multip (a, b):\n",
        "    return a*b\n",
        "\n",
        "def division (a,b):\n",
        "    return a/b\n",
        "\n",
        "def exponente (a,b):\n",
        "    return a**b\n",
        "\n",
        "def resto (a,b):\n",
        "    return a%b\n",
        "\n",
        "def compruebaNumero (num):\n",
        "    while True:\n",
        "        try:\n",
        "            valor = float(num)\n",
        "            break\n",
        "        except ValueError:\n",
        "            num = input(\"Valor erróneo. Introduzca el primer valor: \")\n",
        "    return valor\n",
        "            \n",
        "def compruebaOperador (op):\n",
        "    isOperacion = op in operadores\n",
        "    while isOperacion == False: #Si no es una operación correcta, volvemos a pedirla.\n",
        "        op = input(\"Operacion erronea. Introduzca operación (+ - * / // %): \")\n",
        "        isOperacion = op in operadores\n",
        "    return op\n",
        "    \n",
        "\n",
        "#Lista de operadores\n",
        "operadores = [\"+\", \"-\", \"*\", \"/\", \"//\", \"%\"]\n",
        "\n",
        "# Variables de entrada\n",
        "\n",
        "# Recogemos el primer numero\n",
        "pNum = compruebaNumero(input(\"Introduzca el primer valor: \"))\n",
        "\n",
        "# Recogemos la operación.\n",
        "operacion = compruebaOperador(input(\"Introduzca operación (+ - * / // %): \"))\n",
        "\n",
        "# Recogemos el segundo numero\n",
        "sNum = compruebaNumero(input(\"Introduzca el segundo valor: \"))\n",
        "\n",
        "# Realizamos los cálculos.\n",
        "if operacion == \"+\":\n",
        "    print(suma(pNum, sNum))\n",
        "elif operacion == \"-\":\n",
        "    print(resta(pNum, sNum))\n",
        "elif operacion == \"*\":\n",
        "    print(multip(pNum, sNum))\n",
        "elif operacion == \"/\":\n",
        "    print(division(pNum, sNum))\n",
        "elif operacion == \"//\":\n",
        "    print(exponente(pNum, sNum))\n",
        "elif operacion == \"%\":\n",
        "    print(resto(pNum, sNum))\n",
        "    \n",
        "    \n",
        "    \n"
      ]
    },
    {
      "cell_type": "markdown",
      "metadata": {},
      "source": [
        "##### Refactorización 2\n",
        "En vez de crear una función para cada operación a la que llamamos en función de la operación introducida, se crea una única función que recibe por parámetro los valores introducidos y la operación y devuelve el resultado."
      ]
    },
    {
      "cell_type": "code",
      "execution_count": 6,
      "metadata": {
        "id": "tIRIoLmu_O2E"
      },
      "outputs": [
        {
          "name": "stdout",
          "output_type": "stream",
          "text": [
            "Las operaciones válidas son:  ['+', '-', '*', '/', '//', '%']\n",
            "10.0 + 5.236987  =  15.236987\n"
          ]
        }
      ],
      "source": [
        "# OPCION 2\n",
        "\n",
        "# Funciones custom\n",
        "def operar (a:float,b:float,oper:str):\n",
        "    if oper == \"+\":\n",
        "        return a+b\n",
        "    elif oper == \"-\":\n",
        "        return a-b\n",
        "    elif oper == \"*\":\n",
        "        return a*b\n",
        "    elif oper == \"/\":\n",
        "        return a/b\n",
        "    elif oper == \"//\":\n",
        "        return a**b\n",
        "    elif oper == \"%\":\n",
        "        return a%b\n",
        "    else:\n",
        "        print(\"Operación de cálculo no reconocida.\")\n",
        "\n",
        "def compruebaNumero (num):\n",
        "    \"\"\"\n",
        "    Comprueba que el parámtro introducido puede transformarse en un flotante.\n",
        "    En caso negativo, solicita una nueva entrada.\n",
        "    En caso positivo, devuelve la entrada transformada en flotante.\n",
        "    \"\"\"\n",
        "    while True: # Inicia el bucle de comprobaciones\n",
        "        try:\n",
        "            valor = float(num) # Intenta el cast del valor introducido\n",
        "            break\n",
        "        except ValueError: # En caso de que la operación de cast no pueda realizarse por ser valor incorrecto, vuelve a pedirlo\n",
        "            num = input(\"Valor erróneo. Introduzca el primer valor: \")\n",
        "    return valor\n",
        "            \n",
        "def compruebaOperador (op):\n",
        "    operadores = [\"+\", \"-\", \"*\", \"/\", \"//\", \"%\"] #Lista de operadores válidos\n",
        "    isOperacion = op in operadores\n",
        "    while isOperacion == False: #Si no es una operación correcta, volvemos a pedirla.\n",
        "        op = input(\"Operacion erronea. Introduzca operación (+ - * / // %): \")\n",
        "        isOperacion = op in operadores\n",
        "    return op\n",
        "\n",
        "# Recogemos el primer numero\n",
        "pNum = compruebaNumero(input(\"Introduzca el primer valor: \"))\n",
        "\n",
        "# Recogemos la operación.\n",
        "print(\"Las operaciones válidas son: \", operadores)\n",
        "operacion = compruebaOperador(input(\"Introduzca operación: \"))\n",
        "\n",
        "# Recogemos el segundo numero\n",
        "sNum = compruebaNumero(input(\"Introduzca el segundo valor: \"))\n",
        "\n",
        "# Realizamos los cálculos\n",
        "resultado = operar(pNum, sNum, operacion)\n",
        "print(pNum, operacion, sNum, \" = \", resultado)"
      ]
    },
    {
      "cell_type": "code",
      "execution_count": null,
      "metadata": {
        "id": "nSo-pS8uedZ5"
      },
      "outputs": [],
      "source": []
    }
  ],
  "metadata": {
    "colab": {
      "name": "Lab03 - Calculadora sencilla",
      "provenance": []
    },
    "kernelspec": {
      "display_name": "Python 3.9.13 ('rampup_py39')",
      "language": "python",
      "name": "python3"
    },
    "language_info": {
      "codemirror_mode": {
        "name": "ipython",
        "version": 3
      },
      "file_extension": ".py",
      "mimetype": "text/x-python",
      "name": "python",
      "nbconvert_exporter": "python",
      "pygments_lexer": "ipython3",
      "version": "3.9.13"
    },
    "vscode": {
      "interpreter": {
        "hash": "6a099939abd9aeb901add972a81dd3ff5591506d46c99cdd12b2bd4f66ef287c"
      }
    }
  },
  "nbformat": 4,
  "nbformat_minor": 0
}
