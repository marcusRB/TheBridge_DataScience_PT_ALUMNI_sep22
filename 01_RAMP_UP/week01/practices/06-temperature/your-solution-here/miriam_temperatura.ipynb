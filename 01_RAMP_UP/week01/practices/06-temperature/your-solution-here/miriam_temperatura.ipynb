{
 "cells": [
  {
   "cell_type": "code",
   "execution_count": 1,
   "metadata": {},
   "outputs": [
    {
     "name": "stdout",
     "output_type": "stream",
     "text": [
      "La mínima temperatura del día es:  0\n",
      "La máxima temperatura del día es:  90\n",
      "Hay 7 horas con temperatura mayor a 70º\n",
      "La media de temperatura a lo largo del día es de  60.25\n",
      "Error estimado =  12.094355604991943\n"
     ]
    },
    {
     "data": {
      "text/plain": [
       "[91.4,\n",
       " 150.8,\n",
       " 149.0,\n",
       " 53.7698400889855,\n",
       " 138.2,\n",
       " 140.0,\n",
       " 143.60000000000002,\n",
       " 147.2,\n",
       " 158.0,\n",
       " 168.8,\n",
       " 176.0,\n",
       " 177.8,\n",
       " 176.0,\n",
       " 181.4,\n",
       " 194.0,\n",
       " 174.20000000000002,\n",
       " 141.8,\n",
       " 127.4,\n",
       " 122.0,\n",
       " 120.2,\n",
       " 127.4,\n",
       " 118.4,\n",
       " 113.0,\n",
       " 102.2]"
      ]
     },
     "execution_count": 1,
     "metadata": {},
     "output_type": "execute_result"
    }
   ],
   "source": [
    "# asigna a una variable la lista de temperaturas\n",
    "temperaturas_C = [33,66,65,0,59,60,62,64,70,76,80,81,80,83,90,79,61,53,50,49,53,48,45,39]\n",
    "\n",
    "# 1. Calcula el minimo de la lista e imprime el valor con print()\n",
    "print('La mínima temperatura del día es: ',min(temperaturas_C))\n",
    "\n",
    "# 2. Calcula el máximo de la lista e imprime el valor con print()\n",
    "print('La máxima temperatura del día es: ',max(temperaturas_C))\n",
    "\n",
    "# 3. Elementos de la lista que son mayores que 70ºC e imprime el resultado\n",
    "cont70 = 0\n",
    "for temperatura in temperaturas_C:\n",
    "    if temperatura > 70:\n",
    "        cont70+=1\n",
    "print(f'Hay {cont70} horas con temperatura mayor a 70º')\n",
    "\n",
    "# 4. cálculo de la media de temperaturas a lo largo del día e imprime resultado\n",
    "suma=0\n",
    "for temperatura in temperaturas_C:\n",
    "    suma+=temperatura\n",
    "\n",
    "print('La media de temperatura a lo largo del día es de ', suma/len(temperaturas_C))\n",
    "\n",
    "# 5.1 Soluciona el fallo en el sensor estimando un valor\n",
    "aux=0\n",
    "for temperatura in temperaturas_C:\n",
    "    aux += (1-suma/len(temperaturas_C))**2\n",
    "\n",
    "desvtipica = (aux/len(temperaturas_C))**0.5\n",
    "\n",
    "error = desvtipica/len(temperaturas_C)**0.5\n",
    "print('Error estimado = ',error)\n",
    "\n",
    "# 5.2 Actualización del valor estimado a las 03:00 en la lista\n",
    "temperaturas_C[temperaturas_C.index(min(temperaturas_C))] = error\n",
    "\n",
    "# Bonus: pasar la lista de ºC a grados Farenheit\n",
    "\n",
    "temperaturas_F =[]\n",
    "\n",
    "for temperatura in temperaturas_C:\n",
    "    temperaturas_F.append(1.8*temperatura+32)\n",
    "\n",
    "temperaturas_F"
   ]
  }
 ],
 "metadata": {
  "kernelspec": {
   "display_name": "Python 3.7.4 64-bit",
   "language": "python",
   "name": "python3"
  },
  "language_info": {
   "codemirror_mode": {
    "name": "ipython",
    "version": 3
   },
   "file_extension": ".py",
   "mimetype": "text/x-python",
   "name": "python",
   "nbconvert_exporter": "python",
   "pygments_lexer": "ipython3",
   "version": "3.7.4"
  },
  "orig_nbformat": 4,
  "vscode": {
   "interpreter": {
    "hash": "7682d959f96fb9367c46b176cd1f656e12807f396a3654d65069e2236242975c"
   }
  }
 },
 "nbformat": 4,
 "nbformat_minor": 2
}
