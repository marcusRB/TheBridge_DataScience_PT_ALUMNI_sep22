{
 "cells": [
  {
   "cell_type": "markdown",
   "metadata": {},
   "source": [
    "# 01 - Caracol y el pozo\n",
    "\n",
    "Un caracol cae en el fondo de un pozo de 125 cm. Cada día el caracol sube 30 cm. pero por la noche, mientras duerme, resbala 20 cm debido a que las paredes son húmedas. ¿Cuantos días tarda en escapar del pozo?\n",
    "\n",
    "TIP: https://www.vix.com/es/btg/curiosidades/59215/acertijos-matematicos-el-caracol-en-el-pozo-facil\n",
    "\n",
    "TIP: http://puzzles.nigelcoldwell.co.uk/sixtytwo.htm"
   ]
  },
  {
   "cell_type": "markdown",
   "metadata": {},
   "source": [
    "## Solución"
    
    dia = 0
contador_cm = 0
alturapozo = 125
subidas =  30
bajadas =  20


while contador_cm < alturapozo:
  contador_cm += subidas
  contador_cm -= bajadas
  dia += 1
  print('El dia', dia, 'el caracol ha recorrido', contador_cm, 'cm')
  
  if (contador_cm + subidas)>= alturapozo:
   dia += 1
   print ('El dia', dia,'El caracol ha salido del pozo')
   break;
   ]
  },
  {
   "cell_type": "code",
   "execution_count": 1,
   "metadata": {},
   "outputs": [],
   "source": [
    "# Asigna los datos del problema a variables con nombres representativos\n",
    "# altura del pozo, avance diario, retroceso nocturno, distancia acumulada\n",
    "\n",
    "\n",
    "# Asigna 0 a la variable que representa la solución\n",
    "\n",
    "\n",
    "# Escribe el código que soluciona el problema\n",
    "\n",
    "\n",
    "# Imprime el resultado con print('Dias =', dias)\n",
    "\n"
   ]
  },
  {
   "cell_type": "markdown",
   "metadata": {},
   "source": [
    "## Objetivos\n",
    "\n",
    "1. Tratamiento de variables\n",
    "2. Uso de bucle **while**\n",
    "3. Uso de condicionales **if-else**\n",
    "4. Imprimir por consola"
   ]
  },
  {
   "cell_type": "markdown",
   "metadata": {},
   "source": [
    "## Bonus\n",
    "La distancia recorrida por el caracol viene ahora definida por una lista. \n",
    "```\n",
    "avance_cm = [30, 21, 33, 77, 44, 45, 23, 45, 12, 34, 55]\n",
    "```\n",
    "¿Cuánto tarda en subir el pozo?\n",
    
    dia = 0
alturapozo = 125
suma = 0
lista = [30, 21, 33, 77, 44, 45, 23, 45, 12, 34, 55]

for i in lista:
  suma = suma+i
  dia +=1
  print( "Dia",dia, ":Total de cm avanzados acumulados:", suma)
  if suma>= alturapozo:
   dia +=1
   print ("Dia",dia,':En este dia el caracol ha salido del pozo')
   break;

    "¿Cuál es su máximo de desplazamiento en un día? ¿Y su mínimo?\n",

lista = [30, 21, 33, 77, 44, 45, 23, 45, 12, 34, 55]

print("lo maximo que ha avanzado:",max(lista),"cm")
print("lo minimo que ha avanzado:",min(lista),"cm")

    "¿Cuál es su media de velocidad durante el día?\n",

#calculo con Numpy
import numpy as np
lista = [30, 21, 33, 77, 44, 45, 23, 45, 12, 34, 55]
print("media: ", np.mean(lista))

#calculo manual:
sum(lista) / len(lista)
    "¿Cuál es la desviación típica de su desplazamiento durante el día?"

#calculo con Numpy
import numpy as np
lista = [30, 21, 33, 77, 44, 45, 23, 45, 12, 34, 55]
print("media: ", np.mean(lista))

#calculo manual:
sum(lista) / len(lista)
   ]
  },
  {
   "cell_type": "code",
   "execution_count": 2,
   "metadata": {},
   "outputs": [],
   "source": [
    "# Asigna los datos del problema a variables con nombres representativos\n",
    "# altura del pozo, avance diario, retroceso nocturno, distancia acumulada\n",
    "\n",
    "\n",
    "# Asigna 0 a la variable que representa la solución\n",
    "\n",
    "\n",
    "# Escribe el código que soluciona el problema\n",
    "\n",
    "\n",
    "# Imprime el resultado con print('Dias =', dias)\n",
    "\n",
    "\n",
    "# ¿Cuál es su máximo de desplazamiento en un día? ¿Y su mínimo?\n",
    "\n",
    "\n",
    "# ¿Cuál es su media de avance?\n",
    "\n",
    "\n",
    "# ¿Cuál es la desviación típica de su desplazamiento durante el día?\n",
    "\n"
   ]
  },
  {
   "cell_type": "code",
   "execution_count": null,
   "metadata": {},
   "outputs": [],
   "source": []
  }
 ],
 "metadata": {
  "kernelspec": {
   "display_name": "Python 3",
   "language": "python",
   "name": "python3"
  },
  "language_info": {
   "codemirror_mode": {
    "name": "ipython",
    "version": 3
   },
   "file_extension": ".py",
   "mimetype": "text/x-python",
   "name": "python",
   "nbconvert_exporter": "python",
   "pygments_lexer": "ipython3",
   "version": "3.8.6"
  }
 },
 "nbformat": 4,
 "nbformat_minor": 4
}
