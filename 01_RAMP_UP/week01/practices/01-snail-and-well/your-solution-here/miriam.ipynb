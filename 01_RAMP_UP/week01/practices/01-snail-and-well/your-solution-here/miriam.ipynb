{
 "cells": [
  {
   "cell_type": "code",
   "execution_count": 2,
   "metadata": {},
   "outputs": [
    {
     "name": "stdout",
     "output_type": "stream",
     "text": [
      "Días =  13\n"
     ]
    }
   ],
   "source": [
    "# Asigna los datos del problema a variables con nombres representativos\n",
    "# altura del pozo, avance diario, retroceso nocturno, distancia acumulada\n",
    "\n",
    "alturapozo = 125\n",
    "avancediario = 30\n",
    "retrocesonocturno = 20\n",
    "distanciadiaria = 0\n",
    "\n",
    "# Asigna 0 a la variable que representa la solución\n",
    "dias = 0\n",
    "\n",
    "# Escribe el código que soluciona el problema\n",
    "while distanciadiaria <= alturapozo:\n",
    "    distanciadiaria += avancediario - retrocesonocturno\n",
    "    dias += 1\n",
    "\n",
    "# Imprime el resultado con print('Dias =', dias)\n",
    "print('Días = ', dias)\n"
   ]
  },
  {
   "cell_type": "code",
   "execution_count": 13,
   "metadata": {},
   "outputs": [
    {
     "name": "stdout",
     "output_type": "stream",
     "text": [
      "77  Es el máximo desplazamiento en un día\n",
      "12  Es el mínimo desplazamiento en un día\n",
      "38.09090909090909  Es la media de avance\n",
      "37.09090909090909  Es la desviaciçon típica\n"
     ]
    }
   ],
   "source": [
    "#### BONUS #####\n",
    "\n",
    "# Asigna los datos del problema a variables con nombres representativos\n",
    "# altura del pozo, avance diario, retroceso nocturno, distancia acumulada\n",
    "avance_cm = [30, 21, 33, 77, 44, 45, 23, 45, 12, 34, 55]\n",
    "\n",
    "# ¿Cuál es su máximo de desplazamiento en un día? ¿Y su mínimo?\n",
    "\n",
    "print(max(avance_cm),\" Es el máximo desplazamiento en un día\")\n",
    "print(min(avance_cm),\" Es el mínimo desplazamiento en un día\")\n",
    "\n",
    "# ¿Cuál es su media de avance?\n",
    "suma = 0\n",
    "\n",
    "for avance in avance_cm:\n",
    "    suma += avance\n",
    "\n",
    "longlista = len(avance_cm)\n",
    "media = suma/longlista\n",
    "print(media,\" Es la media de avance\")\n",
    "\n",
    "# ¿Cuál es la desviación típica de su desplazamiento durante el día?\n",
    "aux=0\n",
    "for avance in avance_cm:\n",
    "    aux += (1-media)**2\n",
    "\n",
    "desvtipica = (aux/longlista)**0.5\n",
    "\n",
    "print(desvtipica, ' Es la desviaciçon típica')"
   ]
  }
 ],
 "metadata": {
  "kernelspec": {
   "display_name": "Python 3.7.4 64-bit",
   "language": "python",
   "name": "python3"
  },
  "language_info": {
   "codemirror_mode": {
    "name": "ipython",
    "version": 3
   },
   "file_extension": ".py",
   "mimetype": "text/x-python",
   "name": "python",
   "nbconvert_exporter": "python",
   "pygments_lexer": "ipython3",
   "version": "3.7.4"
  },
  "orig_nbformat": 4,
  "vscode": {
   "interpreter": {
    "hash": "7682d959f96fb9367c46b176cd1f656e12807f396a3654d65069e2236242975c"
   }
  }
 },
 "nbformat": 4,
 "nbformat_minor": 2
}
