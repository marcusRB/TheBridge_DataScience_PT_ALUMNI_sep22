{
 "cells": [
  {
   "cell_type": "markdown",
   "metadata": {},
   "source": [
    "# 01 - Caracol y el pozo\n",
    "\n",
    "Un caracol cae en el fondo de un pozo de 125 cm. Cada día el caracol sube 30 cm. pero por la noche, mientras duerme, resbala 20 cm debido a que las paredes son húmedas. ¿Cuantos días tarda en escapar del pozo?\n",
    "\n",
    "TIP: https://www.vix.com/es/btg/curiosidades/59215/acertijos-matematicos-el-caracol-en-el-pozo-facil\n",
    "\n",
    "TIP: http://puzzles.nigelcoldwell.co.uk/sixtytwo.htm"
   ]
  },
  {
   "cell_type": "markdown",
   "metadata": {},
   "source": [
    "## Solución"
   ]
  },
  {
   "cell_type": "code",
   "execution_count": 5,
   "metadata": {},
   "outputs": [
    {
     "name": "stdout",
     "output_type": "stream",
     "text": [
      "El dia 1 el caracol ha recorrido 10 cm\n",
      "El dia 2 el caracol ha recorrido 20 cm\n",
      "El dia 3 el caracol ha recorrido 30 cm\n",
      "El dia 4 el caracol ha recorrido 40 cm\n",
      "El dia 5 el caracol ha recorrido 50 cm\n",
      "El dia 6 el caracol ha recorrido 60 cm\n",
      "El dia 7 el caracol ha recorrido 70 cm\n",
      "El dia 8 el caracol ha recorrido 80 cm\n",
      "El dia 9 el caracol ha recorrido 90 cm\n",
      "El dia 10 el caracol ha recorrido 100 cm\n",
      "El dia 11 El caracol ha salido del pozo\n"
     ]
    }
   ],
   "source": [
    "# Asigna los datos del problema a variables con nombres representativos\n",
    "# altura del pozo, avance diario, retroceso nocturno, distancia acumulada\n",
    "# Asigna 0 a la variable que representa la solución\n",
    "# Escribe el código que soluciona el problema\n",
    "# Imprime el resultado con print('Dias =', dias)\n",
    "\n",
    "dia = 0\n",
    "contador_cm = 0\n",
    "alturapozo = 125\n",
    "subidas =  30\n",
    "bajadas =  20\n",
    "\n",
    "\n",
    "while contador_cm < alturapozo:\n",
    "  contador_cm += subidas\n",
    "  contador_cm -= bajadas\n",
    "  dia += 1\n",
    "  print('El dia', dia, 'el caracol ha recorrido', contador_cm, 'cm')\n",
    "  \n",
    "  if (contador_cm + subidas)>= alturapozo:\n",
    "   dia += 1\n",
    "   print ('El dia', dia,'El caracol ha salido del pozo')\n",
    "   break;"
   ]
  },
  {
   "cell_type": "code",
   "execution_count": 4,
   "metadata": {},
   "outputs": [
    {
     "name": "stdout",
     "output_type": "stream",
     "text": [
      "Dia 1 :Total de cm avanzados acumulados: 30\n",
      "Dia 2 :Total de cm avanzados acumulados: 51\n",
      "Dia 3 :Total de cm avanzados acumulados: 84\n",
      "Dia 4 :Total de cm avanzados acumulados: 161\n",
      "Dia 5 :En este dia el caracol ha salido del pozo\n"
     ]
    }
   ],
   "source": [
    "dia = 0\n",
    "alturapozo = 125\n",
    "suma = 0\n",
    "lista = [30, 21, 33, 77, 44, 45, 23, 45, 12, 34, 55]\n",
    "\n",
    "for i in lista:\n",
    "  suma = suma+i\n",
    "  dia +=1\n",
    "  print( \"Dia\",dia, \":Total de cm avanzados acumulados:\", suma)\n",
    "  if suma>= alturapozo:\n",
    "   dia +=1\n",
    "   print (\"Dia\",dia,':En este dia el caracol ha salido del pozo')\n",
    "   break;"
   ]
  },
  {
   "cell_type": "code",
   "execution_count": 3,
   "metadata": {},
   "outputs": [
    {
     "name": "stdout",
     "output_type": "stream",
     "text": [
      "lo maximo que ha avanzado: 77 cm\n",
      "lo minimo que ha avanzado: 12 cm\n"
     ]
    }
   ],
   "source": [
    "lista = [30, 21, 33, 77, 44, 45, 23, 45, 12, 34, 55]\n",
    "\n",
    "print(\"lo maximo que ha avanzado:\",max(lista),\"cm\")\n",
    "print(\"lo minimo que ha avanzado:\",min(lista),\"cm\")"
   ]
  },
  {
   "cell_type": "code",
   "execution_count": 2,
   "metadata": {},
   "outputs": [
    {
     "name": "stdout",
     "output_type": "stream",
     "text": [
      "media:  38.09090909090909\n"
     ]
    },
    {
     "data": {
      "text/plain": [
       "38.09090909090909"
      ]
     },
     "execution_count": 2,
     "metadata": {},
     "output_type": "execute_result"
    }
   ],
   "source": [
    "#calculo con Numpy\n",
    "import numpy as np\n",
    "lista = [30, 21, 33, 77, 44, 45, 23, 45, 12, 34, 55]\n",
    "print(\"media: \", np.mean(lista))\n",
    "\n",
    "#calculo manual:\n",
    "sum(lista) / len(lista)"
   ]
  },
  {
   "cell_type": "code",
   "execution_count": 1,
   "metadata": {},
   "outputs": [
    {
     "name": "stdout",
     "output_type": "stream",
     "text": [
      "Desviacion tipica:  17.159437082600803\n"
     ]
    }
   ],
   "source": [
    "import numpy as np\n",
    "lista = [30, 21, 33, 77, 44, 45, 23, 45, 12, 34, 55]\n",
    "print(\"Desviacion tipica: \", np.std(lista))"
   ]
  },
  {
   "cell_type": "markdown",
   "metadata": {},
   "source": [
    "## Objetivos\n",
    "\n",
    "1. Tratamiento de variables\n",
    "2. Uso de bucle **while**\n",
    "3. Uso de condicionales **if-else**\n",
    "4. Imprimir por consola"
   ]
  },
  {
   "cell_type": "markdown",
   "metadata": {},
   "source": [
    "## Bonus\n",
    "La distancia recorrida por el caracol viene ahora definida por una lista. \n",
    "```\n",
    "avance_cm = [30, 21, 33, 77, 44, 45, 23, 45, 12, 34, 55]\n",
    "```\n",
    "¿Cuánto tarda en subir el pozo?\n",
    "¿Cuál es su máximo de desplazamiento en un día? ¿Y su mínimo?\n",
    "¿Cuál es su media de velocidad durante el día?\n",
    "¿Cuál es la desviación típica de su desplazamiento durante el día?"
   ]
  },
  {
   "cell_type": "code",
   "execution_count": 2,
   "metadata": {},
   "outputs": [],
   "source": [
    "# Asigna los datos del problema a variables con nombres representativos\n",
    "# altura del pozo, avance diario, retroceso nocturno, distancia acumulada\n",
    "\n",
    "\n",
    "# Asigna 0 a la variable que representa la solución\n",
    "\n",
    "\n",
    "# Escribe el código que soluciona el problema\n",
    "\n",
    "\n",
    "# Imprime el resultado con print('Dias =', dias)\n",
    "\n",
    "\n",
    "# ¿Cuál es su máximo de desplazamiento en un día? ¿Y su mínimo?\n",
    "\n",
    "\n",
    "# ¿Cuál es su media de avance?\n",
    "\n",
    "\n",
    "# ¿Cuál es la desviación típica de su desplazamiento durante el día?\n",
    "\n"
   ]
  },
  {
   "cell_type": "code",
   "execution_count": null,
   "metadata": {},
   "outputs": [],
   "source": []
  }
 ],
 "metadata": {
  "kernelspec": {
   "display_name": "Python 3.9.13 ('rampup_py39')",
   "language": "python",
   "name": "python3"
  },
  "language_info": {
   "codemirror_mode": {
    "name": "ipython",
    "version": 3
   },
   "file_extension": ".py",
   "mimetype": "text/x-python",
   "name": "python",
   "nbconvert_exporter": "python",
   "pygments_lexer": "ipython3",
   "version": "3.9.13"
  },
  "vscode": {
   "interpreter": {
    "hash": "914dc59a7cb5e2d8d8e0ce79beeae980b8b1ad28adada279c9c9b69c8eb07285"
   }
  }
 },
 "nbformat": 4,
 "nbformat_minor": 4
}
