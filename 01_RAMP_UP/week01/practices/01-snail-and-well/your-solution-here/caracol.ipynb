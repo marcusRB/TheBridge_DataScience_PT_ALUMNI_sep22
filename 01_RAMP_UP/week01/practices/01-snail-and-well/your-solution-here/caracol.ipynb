{
 "cells": [
  {
   "cell_type": "markdown",
   "metadata": {},
   "source": [
    "# 01 - Caracol y el pozo\n",
    "\n",
    "Un caracol cae en el fondo de un pozo de 125 cm. Cada día el caracol sube 30 cm. pero por la noche, mientras duerme, resbala 20 cm debido a que las paredes son húmedas. ¿Cuantos días tarda en escapar del pozo?\n",
    "\n",
    "TIP: https://www.vix.com/es/btg/curiosidades/59215/acertijos-matematicos-el-caracol-en-el-pozo-facil\n",
    "\n",
    "TIP: http://puzzles.nigelcoldwell.co.uk/sixtytwo.htm"
   ]
  },
  {
   "cell_type": "markdown",
   "metadata": {},
   "source": [
    "## Solución"
   ]
  },
  {
   "cell_type": "code",
   "execution_count": 14,
   "metadata": {},
   "outputs": [
    {
     "name": "stdout",
     "output_type": "stream",
     "text": [
      "Dias = 13\n"
     ]
    }
   ],
   "source": [
    "# Asigna los datos del problema a variables con nombres representativos\n",
    "# altura del pozo, avance diario, retroceso nocturno, distancia acumulada\n",
    "from math import dist\n",
    "\n",
    "\n",
    "altoPozo = 125\n",
    "avanceDiario = 30\n",
    "retrocNoct = 20\n",
    "distanciaAcumulada = 0\n",
    "\n",
    "# Asigna 0 a la variable que representa la solución\n",
    "numDias = 0\n",
    "\n",
    "# Escribe el código que soluciona el problema\n",
    "\n",
    "while distanciaAcumulada < altoPozo:\n",
    "    numDias +=1\n",
    "    distanciaAcumulada = distanciaAcumulada + avanceDiario - retrocNoct\n",
    "    #print(\"El dia {0} ha acumulado {1} cms\".format(numDias, distanciaAcumulada)) --> Código de comprobación.\n",
    "\n",
    "    \n",
    "\n",
    "# Imprime el resultado con print('Dias =', dias)\n",
    "print('Dias =', numDias)"
   ]
  },
  {
   "cell_type": "markdown",
   "metadata": {},
   "source": [
    "## Objetivos\n",
    "\n",
    "1. Tratamiento de variables\n",
    "2. Uso de bucle **while**\n",
    "3. Uso de condicionales **if-else**\n",
    "4. Imprimir por consola"
   ]
  },
  {
   "cell_type": "markdown",
   "metadata": {},
   "source": [
    "## Bonus\n",
    "La distancia recorrida por el caracol viene ahora definida por una lista. \n",
    "```\n",
    "avance_cm = [30, 21, 33, 77, 44, 45, 23, 45, 12, 34, 55]\n",
    "```\n",
    "¿Cuánto tarda en subir el pozo?\n",
    "¿Cuál es su máximo de desplazamiento en un día? ¿Y su mínimo?\n",
    "¿Cuál es su media de velocidad durante el día?\n",
    "¿Cuál es la desviación típica de su desplazamiento durante el día?"
   ]
  },
  {
   "cell_type": "code",
   "execution_count": 15,
   "metadata": {},
   "outputs": [
    {
     "name": "stdout",
     "output_type": "stream",
     "text": [
      "Dias = 4\n",
      "El máximo desplazamiento en un día es:  77\n",
      "El mínimo desplazamiento en un día es:  12\n",
      "Avanza a una media (redondeada) de 38 cms diarios\n",
      "El desplazamiento presenta una desviación típica (redondeada) de 18 \n"
     ]
    }
   ],
   "source": [
    "# Asigna los datos del problema a variables con nombres representativos\n",
    "# altura del pozo, avance diario, retroceso nocturno, distancia acumulada\n",
    "\n",
    "from statistics import mean\n",
    "from statistics import stdev #Necesario para el cálculo de la desviación típica\n",
    "\n",
    "avance_cm = [30, 21, 33, 77, 44, 45, 23, 45, 12, 34, 55]\n",
    "\n",
    "altPozo = 125\n",
    "avanDiario = 30\n",
    "retrNoct = 20\n",
    "distAcumulada = 0\n",
    "\n",
    "# Asigna 0 a la variable que representa la solución\n",
    "numeroDias = 0\n",
    "\n",
    "# Escribe el código que soluciona el problema\n",
    "for avance in avance_cm:\n",
    "    numeroDias += 1\n",
    "    distAcumulada = distAcumulada + avance\n",
    "    #print(\"El dia {0} ha acumulado {1} cms\".format(numeroDias, distAcumulada)) --> Código de comprobación\n",
    "    if distAcumulada>=altPozo:\n",
    "        break\n",
    "    \n",
    "    \n",
    "\n",
    "# Imprime el resultado con print('Dias =', dias)\n",
    "print('Dias =', numeroDias)\n",
    "\n",
    "# ¿Cuál es su máximo de desplazamiento en un día? ¿Y su mínimo?\n",
    "print(\"El máximo desplazamiento en un día es: \", max(avance_cm))\n",
    "print(\"El mínimo desplazamiento en un día es: \", min(avance_cm))\n",
    "\n",
    "# ¿Cuál es su media de avance?\n",
    "print(\"Avanza a una media (redondeada) de {0} cms diarios\".format(round(mean(avance_cm)),2))\n",
    "\n",
    "# ¿Cuál es la desviación típica de su desplazamiento durante el día?\n",
    "print(\"El desplazamiento presenta una desviación típica (redondeada) de {0} \".format(round(stdev(avance_cm)),2))\n"
   ]
  },
  {
   "cell_type": "code",
   "execution_count": null,
   "metadata": {},
   "outputs": [],
   "source": []
  }
 ],
 "metadata": {
  "kernelspec": {
   "display_name": "Python 3.9.13 ('rampup_py39')",
   "language": "python",
   "name": "python3"
  },
  "language_info": {
   "codemirror_mode": {
    "name": "ipython",
    "version": 3
   },
   "file_extension": ".py",
   "mimetype": "text/x-python",
   "name": "python",
   "nbconvert_exporter": "python",
   "pygments_lexer": "ipython3",
   "version": "3.9.13"
  },
  "vscode": {
   "interpreter": {
    "hash": "6a099939abd9aeb901add972a81dd3ff5591506d46c99cdd12b2bd4f66ef287c"
   }
  }
 },
 "nbformat": 4,
 "nbformat_minor": 4
}
