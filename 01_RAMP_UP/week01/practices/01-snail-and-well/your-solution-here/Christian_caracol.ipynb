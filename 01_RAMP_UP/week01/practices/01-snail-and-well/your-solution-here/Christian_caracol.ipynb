{
 "cells": [
  {
   "cell_type": "markdown",
   "metadata": {},
   "source": [
    "# 01 - Caracol y el pozo\n",
    "\n",
    "Un caracol cae en el fondo de un pozo de 125 cm. Cada día el caracol sube 30 cm. pero por la noche, mientras duerme, resbala 20 cm debido a que las paredes son húmedas. ¿Cuantos días tarda en escapar del pozo?\n",
    "\n",
    "TIP: https://www.vix.com/es/btg/curiosidades/59215/acertijos-matematicos-el-caracol-en-el-pozo-facil\n",
    "\n",
    "TIP: http://puzzles.nigelcoldwell.co.uk/sixtytwo.htm"
   ]
  },
  {
   "cell_type": "markdown",
   "metadata": {},
   "source": [
    "## Solución 1"
   ]
  },
  {
   "cell_type": "code",
   "execution_count": 8,
   "metadata": {},
   "outputs": [
    {
     "name": "stdout",
     "output_type": "stream",
     "text": [
      "El caracol tarde  13 Días\n"
     ]
    }
   ],
   "source": [
    "# Asigna los datos del problema a variables con nombres representativos\n",
    "# altura del pozo, avance diario, retroceso nocturno, distancia acumulada\n",
    "total_distance=125\n",
    "recorrido=0\n",
    "daytime=30\n",
    "nighttime=20\n",
    "distanceday=daytime-nighttime\n",
    "# Asigna 0 a la variable que representa la solución\n",
    "dias=0\n",
    "# Escribe el código que soluciona el problema\n",
    "while (recorrido<125):\n",
    "    recorrido=recorrido+distanceday\n",
    "    dias+=1\n",
    "# Imprime el resultado con print('Dias =', dias)\n",
    "print(\"El caracol tarde \",dias,\"Días\")"
   ]
  },
  {
   "cell_type": "markdown",
   "metadata": {},
   "source": [
    "## Solución 2"
   ]
  },
  {
   "cell_type": "code",
   "execution_count": 9,
   "metadata": {},
   "outputs": [
    {
     "name": "stdout",
     "output_type": "stream",
     "text": [
      "El caracol tarde  13 Días\n"
     ]
    }
   ],
   "source": [
    "total_distance=125\n",
    "dias=0\n",
    "recorrido=0\n",
    "daytime=30\n",
    "nighttime=20\n",
    "distanceday=daytime-nighttime\n",
    "while (1):\n",
    "    if recorrido<total_distance:\n",
    "        recorrido=recorrido+distanceday\n",
    "        dias=dias+1\n",
    "    else: \n",
    "        break\n",
    "\n",
    "print(\"El caracol tarde \",dias,\"Días\")"
   ]
  },
  {
   "cell_type": "markdown",
   "metadata": {},
   "source": [
    "## Objetivos\n",
    "\n",
    "1. Tratamiento de variables\n",
    "2. Uso de bucle **while**\n",
    "3. Uso de condicionales **if-else**\n",
    "4. Imprimir por consola"
   ]
  },
  {
   "cell_type": "markdown",
   "metadata": {},
   "source": [
    "## Bonus\n",
    "La distancia recorrida por el caracol viene ahora definida por una lista. \n",
    "```\n",
    "avance_cm = [30, 21, 33, 77, 44, 45, 23, 45, 12, 34, 55]\n",
    "```\n",
    "¿Cuánto tarda en subir el pozo?\n",
    "¿Cuál es su máximo de desplazamiento en un día? ¿Y su mínimo?\n",
    "¿Cuál es su media de velocidad durante el día?\n",
    "¿Cuál es la desviación típica de su desplazamiento durante el día?"
   ]
  },
  {
   "cell_type": "code",
   "execution_count": 17,
   "metadata": {},
   "outputs": [
    {
     "name": "stdout",
     "output_type": "stream",
     "text": [
      "El caracol tarde  11 Días\n",
      "El máximo de desplazamiento en un día ha sido de: 57 cm\n",
      "El mínimo de desplazamiento en un día ha sido de: -8 cm\n",
      "La media de avance por días es de: 18.09090909090909 cm\n"
     ]
    }
   ],
   "source": [
    "# Asigna los datos del problema a variables con nombres representativos\n",
    "# altura del pozo, avance diario, retroceso nocturno, distancia acumulada\n",
    "avance_cm = [30, 21, 33, 77, 44, 45, 23, 45, 12, 34, 55]\n",
    "avancedia = [n-20 for n in avance_cm] #Aquí le voy a restar directamente, 20cm a cada posición de la lista para calcular el avance por día\n",
    "recorridoacumulado=0\n",
    "# Asigna 0 a la variable que representa la solución\n",
    "dias=0\n",
    "# Escribe el código que soluciona el problema\n",
    "for num in range(len(avancedia)):\n",
    "    if avancedia[num]<125:\n",
    "        recorridoacumulado=recorridoacumulado+avancedia[num]\n",
    "    dias+=1\n",
    "\n",
    "# Imprime el resultado con print('Dias =', dias)\n",
    "print(\"El caracol tarde \",dias,\"Días\")\n",
    "\n",
    "# ¿Cuál es su máximo de desplazamiento en un día? ¿Y su mínimo?\n",
    "import statistics\n",
    "min_value = min(avancedia)\n",
    "print('El máximo de desplazamiento en un día ha sido de:', max_value, \"cm\")\n",
    "print('El mínimo de desplazamiento en un día ha sido de:', min_value, \"cm\")\n",
    "# ¿Cuál es su media de avance?\n",
    "import statistics\n",
    "media = statistics.mean(avancedia)\n",
    "print(\"La media de avance por días es de:\",media, \"cm\")\n",
    "# ¿Cuál es la desviación típica de su desplazamiento durante el día?\n",
    "import statistics\n"
   ]
  }
 ],
 "metadata": {
  "kernelspec": {
   "display_name": "Python 3.7.4 64-bit",
   "language": "python",
   "name": "python3"
  },
  "language_info": {
   "codemirror_mode": {
    "name": "ipython",
    "version": 3
   },
   "file_extension": ".py",
   "mimetype": "text/x-python",
   "name": "python",
   "nbconvert_exporter": "python",
   "pygments_lexer": "ipython3",
   "version": "3.7.4"
  },
  "vscode": {
   "interpreter": {
    "hash": "e447912bd1abc126f1a1b02664d51750c99209b93aa0b1eb72bb880925256d69"
   }
  }
 },
 "nbformat": 4,
 "nbformat_minor": 4
}
