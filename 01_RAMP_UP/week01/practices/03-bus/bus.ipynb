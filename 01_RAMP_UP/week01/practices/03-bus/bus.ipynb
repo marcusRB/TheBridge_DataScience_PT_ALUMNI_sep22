{
 "cells": [
  {
   "cell_type": "markdown",
   "metadata": {},
   "source": [
    "# Bus\n",
    "\n",
    "Este bus tiene un sistema de control de subida y bajada de pasajeros para monitorizar el número de ocupantes que lleva y así detectar cuando hay un aforo demasiado alto. \n",
    "\n",
    "En cada parada la subida y bajada de pasajeros se representa por una tupla compuesta por dos números enteros. \n",
    "```\n",
    "bus_stop = (in, out)\n",
    "```\n",
    "La sucesión de paradas se representa con una lista estas tuplas.\n",
    "```\n",
    "stops = [(in1, out1), (in2, out2), (in3, out3), (in4, out4)]\n",
    "```\n",
    "\n",
    "## Objetivos: \n",
    "* listas, tuplas\n",
    "* bucles while/for\n",
    "* mínimo, máximo, longitud\n",
    "* media, desviación estandard\n",
    "\n",
    "## Tareas\n",
    "1. Calcula el número de paradas. \n",
    "2. Asigna a una variable una lista cuyos elementos sean el número de pasajeros en cada parada (in-out), \n",
    "3. Halla el máximo de ocupación del autobús. \n",
    "4. Calcula la media de la ocupación. Y la desviación estandard. \n"
   ]
  },
  {
   "cell_type": "code",
   "execution_count": 15,
   "metadata": {},
   "outputs": [
    {
     "name": "stdout",
     "output_type": "stream",
     "text": [
      "The total number of stops is 9\n",
      "[10]\n",
      "[10, 3]\n",
      "[10, 3, -2]\n",
      "[10, 3, -2, -1]\n",
      "[10, 3, -2, -1, 4]\n",
      "[10, 3, -2, -1, 4, -4]\n",
      "[10, 3, -2, -1, 4, -4, -3]\n",
      "[10, 3, -2, -1, 4, -4, -3, -2]\n",
      "[10, 3, -2, -1, 4, -4, -3, -2, -1]\n",
      "The maximum occupation in the bus is 14 persons\n",
      "The average occupation is 9.33 persons\n",
      "The standard deviation of the occupation is 3.39\n"
     ]
    }
   ],
   "source": [
    "stops = [(10, 0), (4, 1), (3, 5), (3, 4), (5, 1), (1, 5), (5, 8), (4, 6), (2, 3)]\n",
    "movement = []\n",
    "occupation = []\n",
    "# 1. Calcula el número de paradas. \n",
    "total_stops=len(stops)\n",
    "print (\"The total number of stops is\",total_stops)\n",
    "# 2. Asigna a una variable una lista cuyos elementos sean el número de pasajeros en \n",
    "# cada parada: Cada elemento depende del elemento previo en la lista + in - out.  \n",
    "for up,down in stops:\n",
    "    movement.append(up - down)\n",
    "    print(movement)\n",
    "# 3. Halla el máximo de ocupación del autobús. \n",
    "for i in range(total_stops):\n",
    "    occupation.append(sum(movement[0:i+1]))\n",
    "print(\"The maximum occupation in the bus is\", max(occupation), \"persons\")\n",
    "\n",
    "# 4. Calcula la media de la ocupación. Y la desviación estandard. \n",
    "print(\"The average occupation is\", round((sum(occupation)/total_stops), 2),\"persons\")\n",
    "import statistics\n",
    "print(\"The standard deviation of the occupation is\", round(statistics.stdev(occupation), 2))\n"
   ]
  },
  {
   "cell_type": "code",
   "execution_count": null,
   "metadata": {},
   "outputs": [],
   "source": []
  }
 ],
 "metadata": {
  "kernelspec": {
   "display_name": "Python 3",
   "language": "python",
   "name": "python3"
  },
  "language_info": {
   "codemirror_mode": {
    "name": "ipython",
    "version": 3
   },
   "file_extension": ".py",
   "mimetype": "text/x-python",
   "name": "python",
   "nbconvert_exporter": "python",
   "pygments_lexer": "ipython3",
   "version": "3.6.7"
  }
 },
 "nbformat": 4,
 "nbformat_minor": 2
}
