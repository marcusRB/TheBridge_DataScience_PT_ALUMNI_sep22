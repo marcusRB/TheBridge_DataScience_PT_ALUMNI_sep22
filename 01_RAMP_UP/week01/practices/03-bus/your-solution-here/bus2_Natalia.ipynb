{
 "cells": [
  {
   "cell_type": "markdown",
   "metadata": {},
   "source": [
    "# Bus\n",
    "\n",
    "Este bus tiene un sistema de control de subida y bajada de pasajeros para monitorizar el número de ocupantes que lleva y así detectar cuando hay un aforo demasiado alto. \n",
    "\n",
    "En cada parada la subida y bajada de pasajeros se representa por una tupla compuesta por dos números enteros. \n",
    "```\n",
    "bus_stop = (in, out)\n",
    "```\n",
    "La sucesión de paradas se representa con una lista estas tuplas.\n",
    "```\n",
    "stops = [(in1, out1), (in2, out2), (in3, out3), (in4, out4)]\n",
    "```\n",
    "\n",
    "## Objetivos: \n",
    "* listas, tuplas\n",
    "* bucles while/for\n",
    "* mínimo, máximo, longitud\n",
    "* media, desviación estandard\n",
    "\n",
    "## Tareas\n",
    "1. Calcula el número de paradas. \n",
    "2. Asigna a una variable una lista cuyos elementos sean el número de pasajeros en cada parada (in-out), \n",
    "3. Halla el máximo de ocupación del autobús. \n",
    "4. Calcula la media de la ocupación. Y la desviación estandard. \n"
   ]
  },
  {
   "cell_type": "code",
   "execution_count": 115,
   "metadata": {},
   "outputs": [
    {
     "name": "stdout",
     "output_type": "stream",
     "text": [
      "En la parada 1 la ocupacion fue de 10 pasajeros\n",
      "En la parada 2 la ocupacion fue de 13 pasajeros\n",
      "En la parada 3 la ocupacion fue de 11 pasajeros\n",
      "En la parada 4 la ocupacion fue de 10 pasajeros\n",
      "En la parada 5 la ocupacion fue de 14 pasajeros\n",
      "En la parada 6 la ocupacion fue de 10 pasajeros\n",
      "En la parada 7 la ocupacion fue de 7 pasajeros\n",
      "En la parada 8 la ocupacion fue de 5 pasajeros\n",
      "En la parada 9 la ocupacion fue de 4 pasajeros\n",
      "Maximo de ocupacion del autobus: 14\n",
      "9.333333333333334\n",
      "media: 9.333333333333334\n",
      "Desviacion estandar: 3.197221015541813\n"
     ]
    }
   ],
   "source": [
    "stops=[(10, 0), (4, 1), (3, 5), (3, 4), (5, 1), (1, 5), (5, 8), (4, 6), (2, 3)]\n",
    "entradas, salidas = zip(*stops)\n",
    "total__pasajeros = tuple(map(lambda x,y: x-y, entradas,salidas))\n",
    "contador_pasajeros =0\n",
    "contador_stop =0\n",
    "lista2_totalpasajeros = []\n",
    "\n",
    "\n",
    "for i in range(len(entradas)):\n",
    "    contador_pasajeros= contador_pasajeros + (entradas [i] - salidas[i])\n",
    "    contador_stop = contador_stop + 1\n",
    "    lista2_totalpasajeros.append(contador_pasajeros)\n",
    "    print(\"En la parada\",contador_stop,\"la ocupacion fue de\", contador_pasajeros,\"pasajeros\")\n",
    "\n",
    "print(\"Maximo de ocupacion del autobus:\", max(lista2_totalpasajeros))\n",
    "\n",
    "#Calcula de la media\n",
    "print(sum(lista2_totalpasajeros)/len(lista2_totalpasajeros))\n",
    "import numpy as np\n",
    "print(\"media:\", np.mean(lista2_totalpasajeros))    \n",
    "\n",
    " #calculo desviacion tipica\n",
    "print(\"Desviacion estandar:\", np.std(lista2_totalpasajeros))   \n",
    "    \n",
    "    \n",
    "\n",
    "    \n",
    "\n",
    "    \n"
   ]
  }
 ],
 "metadata": {
  "kernelspec": {
   "display_name": "Python 3.9.13 ('rampup_py39')",
   "language": "python",
   "name": "python3"
  },
  "language_info": {
   "codemirror_mode": {
    "name": "ipython",
    "version": 3
   },
   "file_extension": ".py",
   "mimetype": "text/x-python",
   "name": "python",
   "nbconvert_exporter": "python",
   "pygments_lexer": "ipython3",
   "version": "3.9.13"
  },
  "vscode": {
   "interpreter": {
    "hash": "914dc59a7cb5e2d8d8e0ce79beeae980b8b1ad28adada279c9c9b69c8eb07285"
   }
  }
 },
 "nbformat": 4,
 "nbformat_minor": 2
}
