{
 "cells": [
  {
   "cell_type": "markdown",
   "metadata": {},
   "source": [
    "# Bus\n",
    "\n",
    "Este bus tiene un sistema de control de subida y bajada de pasajeros para monitorizar el número de ocupantes que lleva y así detectar cuando hay un aforo demasiado alto. \n",
    "\n",
    "En cada parada la subida y bajada de pasajeros se representa por una tupla compuesta por dos números enteros. \n",
    "```\n",
    "bus_stop = (in, out)\n",
    "```\n",
    "La sucesión de paradas se representa con una lista estas tuplas.\n",
    "```\n",
    "stops = [(in1, out1), (in2, out2), (in3, out3), (in4, out4)]\n",
    "```\n",
    "\n",
    "## Objetivos: \n",
    "* listas, tuplas\n",
    "* bucles while/for\n",
    "* mínimo, máximo, longitud\n",
    "* media, desviación estandard\n",
    "\n",
    "## Tareas\n",
    "1. Calcula el número de paradas. \n",
    "2. Asigna a una variable una lista cuyos elementos sean el número de pasajeros en cada parada (in-out), \n",
    "3. Halla el máximo de ocupación del autobús. \n",
    "4. Calcula la media de la ocupación. Y la desviación estandard. \n"
   ]
  },
  {
   "cell_type": "code",
   "execution_count": 11,
   "metadata": {},
   "outputs": [
    {
     "name": "stdout",
     "output_type": "stream",
     "text": [
      "Tiene un total de  9  paradas\n",
      "La ocupación máxima durante el recorrido es de:  14\n",
      "La ocupación media durante el recorrido es de:  9.33\n",
      "La desviación media durante el recorrido es de:  3.39\n"
     ]
    }
   ],
   "source": [
    "from audioop import avg\n",
    "from statistics import mean, stdev\n",
    "\n",
    "\n",
    "stops = [(10, 0), (4, 1), (3, 5), (3, 4), (5, 1), (1, 5), (5, 8), (4, 6), (2, 3)]\n",
    "\n",
    "# 1. Calcula el número de paradas. \n",
    "\n",
    "numParadas = len(stops)\n",
    "print(\"Tiene un total de \", numParadas, \" paradas\")\n",
    "\n",
    "# 2. Asigna a una variable una lista cuyos elementos sean el número de pasajeros en \n",
    "# cada parada: Cada elemento depende del elemento previo en la lista + in - out.  \n",
    "pasajeros = 0\n",
    "pasajerosParadas = []\n",
    "\n",
    "for x in stops:\n",
    "    pasajeros = pasajeros + x[0] - x[1]\n",
    "    pasajerosParadas.append(pasajeros)  \n",
    "\n",
    "# 3. Halla el máximo de ocupación del autobús. \n",
    "print(\"La ocupación máxima durante el recorrido es de: \", max(pasajerosParadas))\n",
    "\n",
    "# 4. Calcula la media de la ocupación. Y la desviación estandard. \n",
    "print(\"La ocupación media durante el recorrido es de: \", round(mean(pasajerosParadas),2))\n",
    "print(\"La desviación media durante el recorrido es de: \", round(stdev(pasajerosParadas),2))\n",
    "\n"
   ]
  },
  {
   "cell_type": "code",
   "execution_count": null,
   "metadata": {},
   "outputs": [],
   "source": []
  }
 ],
 "metadata": {
  "kernelspec": {
   "display_name": "Python 3.9.13 ('rampup_py39')",
   "language": "python",
   "name": "python3"
  },
  "language_info": {
   "codemirror_mode": {
    "name": "ipython",
    "version": 3
   },
   "file_extension": ".py",
   "mimetype": "text/x-python",
   "name": "python",
   "nbconvert_exporter": "python",
   "pygments_lexer": "ipython3",
   "version": "3.9.13"
  },
  "vscode": {
   "interpreter": {
    "hash": "6a099939abd9aeb901add972a81dd3ff5591506d46c99cdd12b2bd4f66ef287c"
   }
  }
 },
 "nbformat": 4,
 "nbformat_minor": 2
}
