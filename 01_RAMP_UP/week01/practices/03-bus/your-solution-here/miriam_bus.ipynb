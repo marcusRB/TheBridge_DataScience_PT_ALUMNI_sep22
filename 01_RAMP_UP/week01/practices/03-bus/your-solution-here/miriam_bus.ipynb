{
 "cells": [
  {
   "cell_type": "markdown",
   "metadata": {},
   "source": [
    "# Bus\n",
    "\n",
    "Este bus tiene un sistema de control de subida y bajada de pasajeros para monitorizar el número de ocupantes que lleva y así detectar cuando hay un aforo demasiado alto. \n",
    "\n",
    "En cada parada la subida y bajada de pasajeros se representa por una tupla compuesta por dos números enteros. \n",
    "```\n",
    "bus_stop = (in, out)\n",
    "```\n",
    "La sucesión de paradas se representa con una lista estas tuplas.\n",
    "```\n",
    "stops = [(in1, out1), (in2, out2), (in3, out3), (in4, out4)]\n",
    "```\n",
    "\n",
    "## Objetivos: \n",
    "* listas, tuplas\n",
    "* bucles while/for\n",
    "* mínimo, máximo, longitud\n",
    "* media, desviación estandard\n",
    "\n",
    "## Tareas\n",
    "1. Calcula el número de paradas. \n",
    "2. Asigna a una variable una lista cuyos elementos sean el número de pasajeros en cada parada (in-out), \n",
    "3. Halla el máximo de ocupación del autobús. \n",
    "4. Calcula la media de la ocupación. Y la desviación estandard. \n"
   ]
  },
  {
   "cell_type": "code",
   "execution_count": 32,
   "metadata": {},
   "outputs": [
    {
     "name": "stdout",
     "output_type": "stream",
     "text": [
      "Total paradas:  9\n",
      "Lista de pasajeros en todo el recorrido, segun parada:  [10, 13, 11, 10, 14, 10, 7, 5, 4]\n",
      "El máximo de ocupación del autobús es de 14 pasajeros en la parada 5\n",
      "9.333333333333334  Es la media de ocupación\n",
      "8.333333333333334  Es la desviación típica\n"
     ]
    }
   ],
   "source": [
    "stops = [(10, 0), (4, 1), (3, 5), (3, 4), (5, 1), (1, 5), (5, 8), (4, 6), (2, 3)]\n",
    "\n",
    "# 1. Calcula el número de paradas. \n",
    "paradas = len(stops)\n",
    "print('Total paradas: ',paradas)\n",
    "\n",
    "# 2. Asigna a una variable una lista cuyos elementos sean el número de pasajeros en \n",
    "# cada parada: Cada elemento depende del elemento previo en la lista + in - out.  \n",
    "\n",
    "pasajerosparada = []\n",
    "aux = 0\n",
    "# para calcular la dimension de cada tupla:\n",
    "# dimensiontupla = []\n",
    "# for stop in stops:\n",
    "#   dimensiontupla.append(len(stop))\n",
    "\n",
    "# supongo que partimos de la primera parada donde entran 10 pasajeros y en las paradas consecutivas se suman/restan a partir de esos 10\n",
    "for i in range(0,paradas):\n",
    "    aux += stops[i][0]-stops[i][1]\n",
    "    pasajerosparada.append(aux)\n",
    "\n",
    "print('Lista de pasajeros en todo el recorrido, segun parada: ',pasajerosparada)\n",
    "\n",
    "# 3. Halla el máximo de ocupación del autobús. \n",
    "print('El máximo de ocupación del autobús es de {} pasajeros en la parada {}'.format(max(pasajerosparada),pasajerosparada.index(max(pasajerosparada))+1))\n",
    "\n",
    "# 4. Calcula la media de la ocupación. Y la desviación estandard. \n",
    "\n",
    "suma = 0\n",
    "\n",
    "for pasajeros in pasajerosparada:\n",
    "    suma += pasajeros\n",
    "\n",
    "media = suma/len(pasajerosparada)\n",
    "print(media,\" Es la media de ocupación\")\n",
    "\n",
    "aux2=0\n",
    "for pasajeros in pasajerosparada:\n",
    "    aux2 += (1-media)**2\n",
    "\n",
    "desvtipica = (aux2/len(pasajerosparada))**0.5\n",
    "\n",
    "print(desvtipica, ' Es la desviación típica')"
   ]
  },
  {
   "cell_type": "code",
   "execution_count": null,
   "metadata": {},
   "outputs": [],
   "source": []
  }
 ],
 "metadata": {
  "kernelspec": {
   "display_name": "Python 3.9.13 ('rampup_py39')",
   "language": "python",
   "name": "python3"
  },
  "language_info": {
   "codemirror_mode": {
    "name": "ipython",
    "version": 3
   },
   "file_extension": ".py",
   "mimetype": "text/x-python",
   "name": "python",
   "nbconvert_exporter": "python",
   "pygments_lexer": "ipython3",
   "version": "3.9.13"
  },
  "vscode": {
   "interpreter": {
    "hash": "eaaea08649847d1cf7de1c352d4531d9c9dcf06d1d28c4a1fbe7a87a200e4d41"
   }
  }
 },
 "nbformat": 4,
 "nbformat_minor": 2
}
