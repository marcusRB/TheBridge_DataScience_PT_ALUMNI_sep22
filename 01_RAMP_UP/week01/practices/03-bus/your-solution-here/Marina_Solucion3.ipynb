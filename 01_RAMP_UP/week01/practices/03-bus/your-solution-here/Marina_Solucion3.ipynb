{
 "cells": [
  {
   "cell_type": "markdown",
   "metadata": {},
   "source": [
    "# Bus\n",
    "\n",
    "Este bus tiene un sistema de control de subida y bajada de pasajeros para monitorizar el número de ocupantes que lleva y así detectar cuando hay un aforo demasiado alto. \n",
    "\n",
    "En cada parada la subida y bajada de pasajeros se representa por una tupla compuesta por dos números enteros. \n",
    "```\n",
    "bus_stop = (in, out)\n",
    "```\n",
    "La sucesión de paradas se representa con una lista estas tuplas.\n",
    "```\n",
    "stops = [(in1, out1), (in2, out2), (in3, out3), (in4, out4)]\n",
    "```\n",
    "\n",
    "## Objetivos: \n",
    "* listas, tuplas\n",
    "* bucles while/for\n",
    "* mínimo, máximo, longitud\n",
    "* media, desviación estandard\n",
    "\n",
    "## Tareas\n",
    "1. Calcula el número de paradas. \n",
    "2. Asigna a una variable una lista cuyos elementos sean el número de pasajeros en cada parada (in-out), \n",
    "3. Halla el máximo de ocupación del autobús. \n",
    "4. Calcula la media de la ocupación. Y la desviación estandard. \n"
   ]
  },
  {
   "cell_type": "code",
   "execution_count": 30,
   "metadata": {},
   "outputs": [
    {
     "name": "stdout",
     "output_type": "stream",
     "text": [
      "9\n",
      "[10, 13, 11, 10, 14, 10, 7, 5, 4]\n",
      "14\n",
      "9.333333333333334 es la media de pasajeros\n",
      "8.333333333333334 es la desviacion estandar\n"
     ]
    }
   ],
   "source": [
    "stops = [(10, 0), (4, 1), (3, 5), (3, 4), (5, 1), (1, 5), (5, 8), (4, 6), (2, 3)]\n",
    "\n",
    "# 1. Calcula el número de paradas. \n",
    "numParadas=(len(stops))\n",
    "print(numParadas)\n",
    "\n",
    "# 2. Asigna a una variable una lista cuyos elementos sean el número de pasajeros en \n",
    "# cada parada: Cada elemento depende del elemento previo en la lista + in - out.\n",
    "pasajeros=0\n",
    "pasajeroparadas=[]\n",
    "\n",
    "for x in stops:\n",
    "    pasajeros=pasajeros + x[0]-x[1]\n",
    "    pasajeroparadas.append(pasajeros)\n",
    "\n",
    "print(pasajeroparadas)\n",
    "\n",
    "# 3. Halla el máximo de ocupación del autobús. 13\n",
    "print(max(pasajeroparadas))\n",
    "\n",
    "# 4. Calcula la media de la ocupación. Y la desviación estandard. \n",
    "media=sum(pasajeroparadas)/len(pasajeroparadas)\n",
    "print(media, \"es la media de pasajeros\")\n",
    "\n",
    "var=sum((1-media)**2 for l in pasajeroparadas)/len(pasajeroparadas)\n",
    "desvest=var**0.5\n",
    "print(desvest, \"es la desviacion estandar\")\n",
    "\n",
    "# ¿como se acorta los decimales?"
   ]
  },
  {
   "cell_type": "code",
   "execution_count": null,
   "metadata": {},
   "outputs": [],
   "source": []
  }
 ],
 "metadata": {
  "kernelspec": {
   "display_name": "Python 3.9.13 ('rumpup_py39')",
   "language": "python",
   "name": "python3"
  },
  "language_info": {
   "codemirror_mode": {
    "name": "ipython",
    "version": 3
   },
   "file_extension": ".py",
   "mimetype": "text/x-python",
   "name": "python",
   "nbconvert_exporter": "python",
   "pygments_lexer": "ipython3",
   "version": "3.9.13"
  },
  "vscode": {
   "interpreter": {
    "hash": "0b7ff2697a00a2a5e3da6c7165035c5ec7bbab9dfa9d13d2dd067d69dac00012"
   }
  }
 },
 "nbformat": 4,
 "nbformat_minor": 2
}
