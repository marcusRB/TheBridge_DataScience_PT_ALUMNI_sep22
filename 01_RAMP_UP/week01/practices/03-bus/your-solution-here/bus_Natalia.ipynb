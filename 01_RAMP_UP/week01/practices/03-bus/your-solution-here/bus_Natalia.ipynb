{
 "cells": [
  {
   "cell_type": "markdown",
   "metadata": {},
   "source": [
    "# Bus\n",
    "\n",
    "Este bus tiene un sistema de control de subida y bajada de pasajeros para monitorizar el número de ocupantes que lleva y así detectar cuando hay un aforo demasiado alto. \n",
    "\n",
    "En cada parada la subida y bajada de pasajeros se representa por una tupla compuesta por dos números enteros. \n",
    "```\n",
    "bus_stop = (in, out)\n",
    "```\n",
    "La sucesión de paradas se representa con una lista estas tuplas.\n",
    "```\n",
    "stops = [(in1, out1), (in2, out2), (in3, out3), (in4, out4)]\n",
    "```\n",
    "\n",
    "## Objetivos: \n",
    "* listas, tuplas\n",
    "* bucles while/for\n",
    "* mínimo, máximo, longitud\n",
    "* media, desviación estandard\n",
    "\n",
    "## Tareas\n",
    "1. Calcula el número de paradas. \n",
    "2. Asigna a una variable una lista cuyos elementos sean el número de pasajeros en cada parada (in-out), \n",
    "3. Halla el máximo de ocupación del autobús. \n",
    "4. Calcula la media de la ocupación. Y la desviación estandard. \n"
   ]
  },
  {
   "cell_type": "code",
   "execution_count": 2,
   "metadata": {},
   "outputs": [
    {
     "name": "stdout",
     "output_type": "stream",
     "text": [
      "Numero de paradas: 9\n"
     ]
    }
   ],
   "source": [
    "stops = [(10, 0), (4, 1), (3, 5), (3, 4), (5, 1), (1, 5), (5, 8), (4, 6), (2, 3)]\n",
    "\n",
    "# 1. Calcula el número de paradas. \n",
    "# 2. Asigna a una variable una lista cuyos elementos sean el número de pasajeros en \n",
    "# cada parada: Cada elemento depende del elemento previo en la lista + in - out.  \n",
    "# 3. Halla el máximo de ocupación del autobús. \n",
    "# 4. Calcula la media de la ocupación. Y la desviación estandard. \n",
    "\n",
    "print(\"Numero de paradas:\",len(stops))"
   ]
  },
  {
   "cell_type": "code",
   "execution_count": 8,
   "metadata": {},
   "outputs": [
    {
     "name": "stdout",
     "output_type": "stream",
     "text": [
      "En la parada 1 , el total de pasajeros dentro del bus es de 10\n",
      "En la parada 2 , el total de pasajeros dentro del bus es de 13\n",
      "En la parada 3 , el total de pasajeros dentro del bus es de 11\n",
      "En la parada 4 , el total de pasajeros dentro del bus es de 10\n",
      "En la parada 5 , el total de pasajeros dentro del bus es de 14\n",
      "En la parada 6 , el total de pasajeros dentro del bus es de 10\n",
      "En la parada 7 , el total de pasajeros dentro del bus es de 7\n",
      "En la parada 8 , el total de pasajeros dentro del bus es de 5\n",
      "En la parada 9 , el total de pasajeros dentro del bus es de 4\n"
     ]
    }
   ],
   "source": [
    "stops=[(10, 0), (4, 1), (3, 5), (3, 4), (5, 1), (1, 5), (5, 8), (4, 6), (2, 3)]\n",
    "entradas, salidas = zip(*stops)\n",
    "total__pasajeros = tuple(map(lambda x,y: x-y, entradas,salidas))\n",
    "contador_pasajeros =0\n",
    "contador_stop=0\n",
    "\n",
    "for i in total__pasajeros:\n",
    "    contador_pasajeros = contador_pasajeros+i\n",
    "    contador_stop +=1\n",
    "    print (\"En la parada\", contador_stop, \", el total de pasajeros dentro del bus es de\", contador_pasajeros)"
   ]
  }
 ],
 "metadata": {
  "kernelspec": {
   "display_name": "Python 3.9.13 ('rampup_py39')",
   "language": "python",
   "name": "python3"
  },
  "language_info": {
   "codemirror_mode": {
    "name": "ipython",
    "version": 3
   },
   "file_extension": ".py",
   "mimetype": "text/x-python",
   "name": "python",
   "nbconvert_exporter": "python",
   "pygments_lexer": "ipython3",
   "version": "3.9.13"
  },
  "vscode": {
   "interpreter": {
    "hash": "914dc59a7cb5e2d8d8e0ce79beeae980b8b1ad28adada279c9c9b69c8eb07285"
   }
  }
 },
 "nbformat": 4,
 "nbformat_minor": 2
}
