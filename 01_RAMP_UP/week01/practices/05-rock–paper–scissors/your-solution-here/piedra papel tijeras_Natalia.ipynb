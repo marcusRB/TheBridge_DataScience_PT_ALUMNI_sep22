{
 "cells": [
  {
   "cell_type": "markdown",
   "metadata": {},
   "source": [
    "# Piedra, papel, tijeras\n",
    "\n",
    "Vamos jugar contra nuestro ordenador al famoso juego. \n",
    "\n",
    "https://es.wikipedia.org/wiki/Piedra,_papel_o_tijera\n",
    "\n",
    "Se aconseja el uso de funciones"
   ]
  },
  {
   "cell_type": "code",
   "execution_count": null,
   "metadata": {},
   "outputs": [],
   "source": [
    "# Importa la función choice del módulo random\n",
    "# https://stackoverflow.com/questions/306400/how-to-randomly-select-an-item-from-a-list\n",
    "\n",
    "\n",
    "# Asigna a una lista las 3 posibles opciones: 'piedra', 'papel' o 'tijeras'. \n",
    "\n",
    "\n",
    "# Asigna una variable al número de partidas máxima: 1, 3, 5, etc...\n",
    "\n",
    "\n",
    "# Asigna una variable al número de partidas que debe ganar un jugador para ganar. \n",
    "# Preferiblemente el valor será en función de el número de partidas máximas\n",
    "\n",
    "\n",
    "# Define una función que devuelva aleatoriamente una de las 3 opciones. \n",
    "# Esto corresponderá a la jugada de la máquina. Totalmente aleatoria. \n",
    "\n",
    "\n",
    "# Define una función que pregunte tu elección: 'piedra', 'papel' o 'tijeras'\n",
    "# sólo debe permitir una de las 3 opciones. Esto es programación defensiva. \n",
    "# Si no es piedra, papel o tijeras sigue preguntando hasta que lo sea. \n",
    "\n",
    "\n",
    "# Define una función que resuelva un combate. \n",
    "# Devuelve 0 si hay empate, 1 si gana la máquina, 2 si gana el jugador humano \n",
    "\n",
    "    \n",
    "# Define una función que muestre la elección de cada jugador y el estado de la partida\n",
    "# Esta función debe utilizarse cada vez que se actualicen los puntos acumulados\n",
    "\n",
    "    \n",
    "# Crea dos variables que acumulen las partidas ganadas de cada participante\n",
    "\n",
    "\n",
    "# Crea un bucle que itere mientras ningún jugador alcance el mínimo de victorias\n",
    "# necesarias para ganar. Dentro del bucle resuelve la jugada de la\n",
    "# máquina y pregunta la del jugador. Comparalas y actualiza el valor de las variables\n",
    "# que acumulen las partidas ganadas de cada participante. \n",
    "\n",
    "    \n",
    "# Anuncia por consola el ganador del juego en función de quién tiene más victorias \n",
    "# aculumadas\n",
    "\n",
    "    "
   ]
  },
  {
   "cell_type": "markdown",
   "metadata": {},
   "source": [
    "# Bonus: Piedra, papel, tijeras, lagarto, spock\n",
    "\n",
    "Ahora vienen las mejoras. \n",
    "\n",
    "http://www.samkass.com/theories/RPSSL.html\n",
    "\n",
    "Se te pide que implimentes unas mejoras con respecto al simple juego previo. Además el número de partidas (que deberá ser IMPAR) se pedirá por consola hasta que se introduzca un número válido. \n",
    "\n",
    "Mejoras: \n",
    "* 5 opciones: piedra, papel, tijeras, lagarto, spock\n",
    "* El número de partidas se pide por consola\n",
    "Consejo: Reutiliza código que ya hagas utilizado"
   ]
  },
  {
   "cell_type": "code",
   "execution_count": null,
   "metadata": {},
   "outputs": [],
   "source": [
    "# Importa la función choice del módulo random\n",
    "# Define una función que pide por teclado un número impar, hasta que no sea válido\n",
    "# seguirá pidiendo\n",
    "# Asigna a una lista las 5 posibles opciones. \n",
    "# Asigna una variable al número de partidas máxima: 1, 3, 5, etc...\n",
    "# Esta vez se usa la función definida previamente\n",
    "# Asigna una variable al número de partidas que debe ganar un jugador para ganar. \n",
    "# Preferiblemente el valor será en función de el número de partidas máxima\n",
    "# Define una función que devuelva aleatoriamente una de las 5 opciones. \n",
    "# Esto corresponderá a la jugada de la máquina. Totalmente aleatoria. \n",
    "# Define una función que pregunte tu elección de entre las 5\n",
    "# sólo debe permitir una de las 5 opciones. Esto es programación defensiva. \n",
    "# Si no es válida sigue preguntando hasta que lo sea. \n",
    "# Define una función que resuelva un combate. \n",
    "# Devuelve 0 si hay empate, 1 si gana la máquina, 2 si gana el jugador humano\n",
    "# Ahora hay más opciones  \n",
    "# Define una función que muestre la elección de cada jugador y el estado de la partida\n",
    "# Esta función debe utilizarse cada vez que se actualicen los puntos acumulados \n",
    "# Crea dos variables que acumulen las partidas ganadas de cada participante\n",
    "# Crea un bucle que itere mientras ningún jugador alcance el mínimo de victorias\n",
    "# necesarias para ganar. Dentro del bucle resuelve la jugada de la\n",
    "# máquina y pregunta la del jugador. Comparalas y actualiza el valor de las variables\n",
    "# que acumulen las partidas ganadas de cada participante. \n",
    "# Anuncia por consola el ganador del juego en función de quién tiene más victorias \n",
    "# aculumadas"
   ]
  },
  {
   "cell_type": "markdown",
   "metadata": {},
   "source": [
    "Si has programado con cabeza, el bonus son simples modificaciones al juego original. "
   ]
  },
  {
   "cell_type": "markdown",
   "metadata": {},
   "source": [
    "## Objetivos\n",
    "1. Uso de bucle\n",
    "2. Captura de datos por consola\n",
    "3. Uso if-elif-else\n",
    "4. Uso de try-except\n",
    "5. Definición de funciones. Programación modular. \n",
    "6. Operadores lógicos. \n",
    "7. Imprimir por consola\n",
    "8. Importación de módulos externos"
   ]
  },
  {
   "cell_type": "code",
   "execution_count": 1,
   "metadata": {},
   "outputs": [],
   "source": [
    "import random\n",
    "\n",
    "contador_impares= int(0);\n",
    "numero = int(input(\"introduzca un numero impar\"));\n",
    "Opciones = [\"piedra\", \"papel\", \"tijeras\", \"lagarto\", \"spock\"]\n",
    "numero_partidas_ganador= 10\n",
    "\n",
    "\n",
    "while (numero % 2 ==0):\n",
    " print (\"Incorrecto, no es un numero impar, vuelva a intentar\")\n",
    " numero = int(input(\"introduzca un numero impar\"))\n",
    "print (\"correcto\")\n",
    "\n"
   ]
  },
  {
   "cell_type": "code",
   "execution_count": 25,
   "metadata": {},
   "outputs": [
    {
     "name": "stdout",
     "output_type": "stream",
     "text": [
      "tijeras\n"
     ]
    }
   ],
   "source": [
    "Opciones = [\"piedra\", \"papel\", \"tijeras\", \"lagarto\", \"spock\"]\n",
    "import random\n",
    "\n",
    "print(random.choice(Opciones))\n"
   ]
  },
  {
   "cell_type": "code",
   "execution_count": 1,
   "metadata": {},
   "outputs": [
    {
     "name": "stdout",
     "output_type": "stream",
     "text": [
      "error, accion no valida para este juego\n"
     ]
    }
   ],
   "source": [
    "\n",
    "accion = input(\"introduzca una accion valida\");\n",
    "opciones = [\"piedra\", \"papel\", \"tijeras\", \"lagarto\", \"spock\"]\n",
    "\n",
    "while accion not in opciones:\n",
    "    print (\"error, accion no valida para este juego\")\n",
    "    accion = input(\"introduzca una accion valida\")\n",
    "print(\"correcto, la accion ha sido procesada\")\n"
   ]
  },
  {
   "cell_type": "code",
   "execution_count": null,
   "metadata": {},
   "outputs": [],
   "source": [
    "import random\n",
    "accion = input(\"Introduce: piedra, papel, tijeras, lagarto o spock\");\n",
    "opciones = [\"piedra\", \"papel\", \"tijeras\", \"lagarto\", \"spock\"]\n",
    "rounds_jugador = 0\n",
    "rounds_pc = 0\n",
    "round = 1\n",
    "\n",
    "\n",
    "while (rounds_pc < 3 and rounds_jugador < 3):\n",
    "    user = input(\"Escoge: piedra, papel, tijera, lagardo o spock\").lower()    #`convierte en minuscula ni lo pones en mayuscula`\n",
    "    if user not in opciones:\n",
    "     print (\" \\n error, accion no valida para este juego\")\n",
    "     continue\n",
    "    pc = random.choice(opciones)\n",
    "    if user == pc:\n",
    "        print(\"\\n EMPATE. Ambos han escogido\", {user})\n",
    "        rounds_jugador +=1\n",
    "        rounds_pc +=1\n",
    "    elif user == \"piedra\" and pc == \"tijeras\":\n",
    "        print(\"\\n Has GANADO, has escogido\" ,{user}, \"y pc\", {pc})\n",
    "        rounds_jugador +=1\n",
    "    elif user == \"piedra\" and pc == \"lagarto\":\n",
    "        print(\"\\n Has GANADO, has escogido\" ,{user}, \"y pc\", {pc})\n",
    "        rounds_jugador +=1\n",
    "    elif user == \"papel\" and pc == \"piedra\":\n",
    "        print(\"\\n Has GANADO, has escogido\",{user}, \"y pc\", {pc})\n",
    "        rounds_jugador +=1\n",
    "    elif user == \"papel\" and pc == \"spock\":\n",
    "        print(\"\\n Has GANADO, has escogido\",{user}, \"y pc\", {pc})\n",
    "        rounds_jugador +=1\n",
    "    elif user == \"tijeras\" and pc == \"papel\":\n",
    "        print(\"\\n Has GANADO, has escogido\",{user}, \"y pc\", {pc})\n",
    "        rounds_jugador +=1\n",
    "    elif user == \"tijeras\" and pc == \"lagarto\":\n",
    "        print(\"\\nH as GANADO, has escogido\",{user}, \"y pc\", {pc})\n",
    "    elif user == \"spock\" and pc == \"tijeras\":\n",
    "        print(\"\\n Has GANADO, has escogido\",{user}, \"y pc\", {pc})\n",
    "        rounds_jugador +=1\n",
    "    elif user == \"spock\" and pc == \"piedra\":\n",
    "        print(\"\\n Has GANADO, has escogido\",{user}, \"y pc\", {pc})\n",
    "        rounds_jugador +=1\n",
    "    elif user == \"lagarto\" and pc == \"spock\":\n",
    "        print(\"\\n Has GANADO, has escogido\",{user}, \"y pc\", {pc})\n",
    "        rounds_jugador +=1\n",
    "    elif user == \"lagarto\" and pc == \"papel\":\n",
    "        print(\"\\n Has GANADO, has escogido\",{user}, \"y pc\", {pc})\n",
    "        rounds_jugador +=1\n",
    "    else:\n",
    "        print (\"\\n Has PERDIDO, has escogido\",{user}, \"y pc\", {pc})\n",
    "        rounds_pc +=1\n",
    "    print (\"Marcador: Jugador\", rounds_jugador, \" , PC:\", rounds_pc)\n",
    "round +=1\n",
    "if rounds_pc > rounds_jugador:\n",
    "    print (\"GAME OVER\")\n",
    "elif rounds_jugador > rounds_pc:\n",
    "    print (\"HAS GANADO\")\n",
    "\n"
   ]
  }
 ],
 "metadata": {
  "kernelspec": {
   "display_name": "Python 3.9.13 ('rampup_py39')",
   "language": "python",
   "name": "python3"
  },
  "language_info": {
   "codemirror_mode": {
    "name": "ipython",
    "version": 3
   },
   "file_extension": ".py",
   "mimetype": "text/x-python",
   "name": "python",
   "nbconvert_exporter": "python",
   "pygments_lexer": "ipython3",
   "version": "3.9.13"
  },
  "vscode": {
   "interpreter": {
    "hash": "914dc59a7cb5e2d8d8e0ce79beeae980b8b1ad28adada279c9c9b69c8eb07285"
   }
  }
 },
 "nbformat": 4,
 "nbformat_minor": 4
}
