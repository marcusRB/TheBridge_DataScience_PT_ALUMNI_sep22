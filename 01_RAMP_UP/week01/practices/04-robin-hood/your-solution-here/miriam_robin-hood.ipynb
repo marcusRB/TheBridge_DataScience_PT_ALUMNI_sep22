{
 "cells": [
  {
   "cell_type": "markdown",
   "metadata": {},
   "source": [
    "# Robin Hood: \n",
    "Estamos en plena competición para ganar el concurso de tiro con arco en Sherwood. Con nuestro arco y flechas disparamos sobre una diana e intentamos acertar lo más cerca posible del centro. \n",
    "\n",
    "El centro de la diana viene representado por los valores (0, 0) en los ejes de coordenadas. \n",
    "\n",
    "## Tareas\n",
    "1. Robin Hood es famoso por acertar a una flecha con otra flecha. ¿Lo ha conseguido? \n",
    "2. Calcula cuántos flechazos han caido en cada cuadrante. \n",
    "3. Halla el punto más cercano al centro. Calcula su distancia al centro\n",
    "4. Si la diana tiene un radio de 9, calcula el número de flechas que hay que recoger al bosque. "
   ]
  },
  {
   "cell_type": "code",
   "execution_count": 22,
   "metadata": {},
   "outputs": [
    {
     "name": "stdout",
     "output_type": "stream",
     "text": [
      "Veces que ha acertado:  6\n",
      "Aciertos en Q1: 10. Aciertos en Q2: 6. Aciertos en Q3: 2. Aciertos en Q4: 4\n",
      "El punto más próximo al 0 es:  (0, 2)\n"
     ]
    }
   ],
   "source": [
    "puntos = [(4,5), (-0,2), (4,7), (1,-3), (3,-2), (4,5), \n",
    "          (3,2), (5,7), (-5,7), (2,2), (-4,5), (0,-2), \n",
    "          (-4,7), (-1,3), (-3,2), (-4,-5), (-3,2), \n",
    "          (5,7), (5,7), (2,2), (9, 9), (-8, -9)]\n",
    "\n",
    "# 1. Robin Hood es famoso por acertar a una flecha con otra flecha. ¿Lo ha conseguido? \n",
    "\n",
    "auxpuntos = []\n",
    "repetidos = 0\n",
    "\n",
    "for i in range(0, len(puntos)):\n",
    "    auxpuntos = puntos[i]\n",
    "    for j in range(i+1, len(puntos)):\n",
    "        if auxpuntos == puntos[j]:\n",
    "            repetidos += 1\n",
    "\n",
    "print('Veces que ha acertado: ',repetidos)\n",
    "\n",
    "\n",
    "# 2. Calcula cuántos flechazos han caido en cada cuadrante. \n",
    "\n",
    "puntosQ1 = 0\n",
    "puntosQ2 = 0\n",
    "puntosQ3 = 0\n",
    "puntosQ4 = 0\n",
    "\n",
    "for i in range(0,len(puntos)):\n",
    "    x,y = puntos[i]\n",
    "    if x>0 and y>0:\n",
    "        puntosQ1 += 1\n",
    "    elif x<0 and y>0:\n",
    "        puntosQ2 += 1\n",
    "    elif x<0 and y<0:\n",
    "        puntosQ3 += 1\n",
    "    else:\n",
    "        puntosQ4 += 1\n",
    "\n",
    "print(\"Aciertos en Q1: {}. Aciertos en Q2: {}. Aciertos en Q3: {}. Aciertos en Q4: {}\"\n",
    ".format(puntosQ1,puntosQ2,puntosQ3,puntosQ4))\n",
    "\n",
    "\n",
    "# 3. Halla el punto más cercano al centro. Calcula su distancia al centro\n",
    "# Definir una función que calcula la distancia al centro puede servir de ayuda. \n",
    "\n",
    "puntosabs = puntos\n",
    "\n",
    "#lo paso a valor abs para sacar el mínimo, que será la posición más próxima a 0\n",
    "for i in range(0,len(puntos)):\n",
    "    x,y = puntos[i]\n",
    "    absx = abs(x)\n",
    "    absy = abs(y)\n",
    "    puntosabs[i] = absx,absy\n",
    "\n",
    "#para saber en qué cuadrante estaría\n",
    "posicionmin = puntosabs.index(min(puntosabs))\n",
    "print('El punto más próximo al 0 es: ', puntos[posicionmin])\n",
    "\n",
    "# 4. Si la diana tiene un radio de 9, calcula el número de flechas que hay que recoger al bosque. \n",
    "\n"
   ]
  }
 ],
 "metadata": {
  "kernelspec": {
   "display_name": "Python 3.9.13 ('rampup_py39')",
   "language": "python",
   "name": "python3"
  },
  "language_info": {
   "codemirror_mode": {
    "name": "ipython",
    "version": 3
   },
   "file_extension": ".py",
   "mimetype": "text/x-python",
   "name": "python",
   "nbconvert_exporter": "python",
   "pygments_lexer": "ipython3",
   "version": "3.9.13"
  },
  "vscode": {
   "interpreter": {
    "hash": "2268c0819e120910e15d6a7ca6dc2f13f8e901a44fa31ae594d3c5c2319b0223"
   }
  }
 },
 "nbformat": 4,
 "nbformat_minor": 2
}
