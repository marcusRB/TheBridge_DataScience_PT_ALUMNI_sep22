{
 "cells": [
  {
   "cell_type": "markdown",
   "metadata": {},
   "source": [
    "# Robin Hood: \n",
    "Estamos en plena competición para ganar el concurso de tiro con arco en Sherwood. Con nuestro arco y flechas disparamos sobre una diana e intentamos acertar lo más cerca posible del centro. \n",
    "\n",
    "El centro de la diana viene representado por los valores (0, 0) en los ejes de coordenadas. \n",
    "\n",
    "## Objetivos: \n",
    "* estructuras de datos: listas, conjuntos, tuplas\n",
    "* operadores lógicos: if-elif-else\n",
    "* bucle: while/for\n",
    "* cálculo de mínimo (sorting opcional)\n",
    "\n",
    "## Descripción: \n",
    "En el espacio de 2 dimensiones un punto se puede definir por un par de valores que corresponden a la coordenada horizontal (x) y a la vertical (y). El espacio puede quedar dividido en 4 zonas (cuadrantes): Q1, Q2, Q3, Q4. Cuyo punto de unión único es el punto (0, 0). \n",
    "\n",
    "Si un punto se encuentra en Q1 tanto su coordenada x como la y son positivas. Te dejo un enlace a wikipedia para que te familiarices con estos cuadrantes. \n",
    "\n",
    "https://es.wikipedia.org/wiki/Coordenadas_cartesianas\n",
    "\n",
    "https://es.wikipedia.org/wiki/Distancia_euclidiana\n",
    "\n",
    "## Tareas\n",
    "1. Robin Hood es famoso por acertar a una flecha con otra flecha. ¿Lo ha conseguido? \n",
    "2. Calcula cuántos flechazos han caido en cada cuadrante. \n",
    "3. Halla el punto más cercano al centro. Calcula su distancia al centro\n",
    "4. Si la diana tiene un radio de 9, calcula el número de flechas que hay que recoger al bosque. "
   ]
  },
  {
   "cell_type": "code",
   "execution_count": 1,
   "metadata": {},
   "outputs": [],
   "source": [
    "puntos = [(4,5), (-0,2), (4,7), (1,-3), (3,-2), (4,5), \n",
    "          (3,2), (5,7), (-5,7), (2,2), (-4,5), (0,-2), \n",
    "          (-4,7), (-1,3), (-3,2), (-4,-5), (-3,2), \n",
    "          (5,7), (5,7), (2,2), (9, 9), (-8, -9)]\n",
    "\n",
    "# 1. Robin Hood es famoso por acertar a una flecha con otra flecha. ¿Lo ha conseguido? \n",
    "\n",
    "\n",
    "# 2. Calcula cuántos flechazos han caido en cada cuadrante. \n",
    "\n",
    "\n",
    "# 3. Halla el punto más cercano al centro. Calcula su distancia al centro\n",
    "# Definir una función que calcula la distancia al centro puede servir de ayuda. \n",
    "\n",
    "\n",
    "# 4. Si la diana tiene un radio de 9, calcula el número de flechas que hay que recoger al bosque. \n",
    "\n"
   ]
  },
  {
   "cell_type": "code",
   "execution_count": 223,
   "metadata": {},
   "outputs": [
    {
     "name": "stdout",
     "output_type": "stream",
     "text": [
      "En el tiro 1 le pega en el Q1\n",
      "En el tiro 2 le pega en el Q1\n",
      "En el tiro 3 le pega en el Q1\n",
      "En el tiro 4 le paga en el Q2\n",
      "En el tiro 5 le paga en el Q2\n",
      "En el tiro 6 le pega en el Q1\n",
      "En el tiro 7 le pega en el Q1\n",
      "En el tiro 8 le pega en el Q1\n",
      "En el tiro 9 le pega en el Q4\n",
      "En el tiro 10 le pega en el Q1\n",
      "En el tiro 11 le pega en el Q4\n",
      "En el tiro 12 le paga en el Q2\n",
      "En el tiro 13 le pega en el Q4\n",
      "En el tiro 14 le pega en el Q4\n",
      "En el tiro 15 le pega en el Q4\n",
      "En el tiro 16 le pega en el Q3\n",
      "En el tiro 17 le pega en el Q4\n",
      "En el tiro 18 le pega en el Q1\n",
      "En el tiro 19 le pega en el Q1\n",
      "En el tiro 20 le pega en el Q1\n",
      "En el tiro 21 le pega en el Q1\n",
      "En el tiro 22 le pega en el Q3\n"
     ]
    },
    {
     "data": {
      "text/plain": [
       "{'Q1': 11, 'Q2': 3, 'Q4': 6, 'Q3': 2}"
      ]
     },
     "execution_count": 223,
     "metadata": {},
     "output_type": "execute_result"
    }
   ],
   "source": [
    "puntos = [(4,5), (0,2), (4,7), (1,-3), (3,-2), (4,5), (3,2), (5,7), (-5,7), (2,2), (-4,5), (0,-2), (-4,7), (-1,3), (-3,2), (-4,-5), (-3,2), \n",
    "          (5,7), (5,7), (2,2), (9, 9), (-8, -9)]\n",
    "\n",
    "x, y = zip(*puntos)\n",
    "contador_tiros= 0\n",
    "contador_cuadrante= []\n",
    "repeticiones = {}\n",
    "\n",
    "indice=0\n",
    "\n",
    "for indice in range(0,len(x)):\n",
    "   contador_tiros = contador_tiros+1\n",
    "   if x[indice]>=0 and y[indice]>=0:\n",
    "    contador_cuadrante.append(\"Q1\")\n",
    "    print (\"En el tiro\",contador_tiros,\"le pega en el Q1\")\n",
    "   if x[indice]>=0 and y[indice]<0:\n",
    "    contador_cuadrante.append(\"Q2\")\n",
    "    print (\"En el tiro\", contador_tiros,\"le paga en el Q2\")\n",
    "   if x[indice]<0 and y[indice]<0:\n",
    "    contador_cuadrante.append(\"Q3\")\n",
    "    print (\"En el tiro\",contador_tiros,\"le pega en el Q3\")\n",
    "   if x[indice]<0 and y[indice]>=0:\n",
    "    contador_cuadrante.append(\"Q4\")\n",
    "    print (\"En el tiro\", contador_tiros,\"le pega en el Q4\")\n",
    "   \n",
    " \n",
    "dict(zip(contador_cuadrante,map(lambda x: contador_cuadrante.count(x), contador_cuadrante)))\n",
    "\n",
    "    \n",
    "\n",
    "\n"
   ]
  }
 ],
 "metadata": {
  "kernelspec": {
   "display_name": "Python 3.9.13 ('rampup_py39')",
   "language": "python",
   "name": "python3"
  },
  "language_info": {
   "codemirror_mode": {
    "name": "ipython",
    "version": 3
   },
   "file_extension": ".py",
   "mimetype": "text/x-python",
   "name": "python",
   "nbconvert_exporter": "python",
   "pygments_lexer": "ipython3",
   "version": "3.9.13"
  },
  "vscode": {
   "interpreter": {
    "hash": "914dc59a7cb5e2d8d8e0ce79beeae980b8b1ad28adada279c9c9b69c8eb07285"
   }
  }
 },
 "nbformat": 4,
 "nbformat_minor": 2
}
