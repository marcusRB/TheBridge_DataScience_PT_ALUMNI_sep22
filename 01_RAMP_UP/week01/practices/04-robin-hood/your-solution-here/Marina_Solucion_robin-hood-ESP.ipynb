{
 "cells": [
  {
   "cell_type": "markdown",
   "metadata": {},
   "source": [
    "# Robin Hood: \n",
    "Estamos en plena competición para ganar el concurso de tiro con arco en Sherwood. Con nuestro arco y flechas disparamos sobre una diana e intentamos acertar lo más cerca posible del centro. \n",
    "\n",
    "El centro de la diana viene representado por los valores (0, 0) en los ejes de coordenadas. \n",
    "\n",
    "## Objetivos: \n",
    "* estructuras de datos: listas, conjuntos, tuplas\n",
    "* operadores lógicos: if-elif-else\n",
    "* bucle: while/for\n",
    "* cálculo de mínimo (sorting opcional)\n",
    "\n",
    "## Descripción: \n",
    "En el espacio de 2 dimensiones un punto se puede definir por un par de valores que corresponden a la coordenada horizontal (x) y a la vertical (y). El espacio puede quedar dividido en 4 zonas (cuadrantes): Q1, Q2, Q3, Q4. Cuyo punto de unión único es el punto (0, 0). \n",
    "\n",
    "Si un punto se encuentra en Q1 tanto su coordenada x como la y son positivas. Te dejo un enlace a wikipedia para que te familiarices con estos cuadrantes. \n",
    "\n",
    "https://es.wikipedia.org/wiki/Coordenadas_cartesianas\n",
    "\n",
    "https://es.wikipedia.org/wiki/Distancia_euclidiana\n",
    "\n",
    "## Tareas\n",
    "1. Robin Hood es famoso por acertar a una flecha con otra flecha. ¿Lo ha conseguido? \n",
    "2. Calcula cuántos flechazos han caido en cada cuadrante. \n",
    "3. Halla el punto más cercano al centro. Calcula su distancia al centro\n",
    "4. Si la diana tiene un radio de 9, calcula el número de flechas que hay que recoger al bosque. "
   ]
  },
  {
   "cell_type": "code",
   "execution_count": 12,
   "metadata": {},
   "outputs": [
    {
     "name": "stdout",
     "output_type": "stream",
     "text": [
      "Robin Hood ha acertado\n",
      "Numero de flechar tiradas 22\n",
      "Flechas en Q1  10\n",
      "flechas en Q2 6\n",
      "Flechas en Q3 2\n",
      "Flechas en Q4 2\n",
      "Han caido  0 flechas al bosque\n"
     ]
    }
   ],
   "source": [
    "puntos = [(4,5), (-0,2), (4,7), (1,-3), (3,-2), (4,5), \n",
    "          (3,2), (5,7), (-5,7), (2,2), (-4,5), (0,-2), \n",
    "          (-4,7), (-1,3), (-3,2), (-4,-5), (-3,2), \n",
    "          (5,7), (5,7), (2,2), (9, 9), (-8, -9)]\n",
    "\n",
    "# 1. Robin Hood es famoso por acertar a una flecha con otra flecha. ¿Lo ha conseguido? \n",
    "\n",
    "# Si hay algun valor repedito significa que Robin Hood ha acertado, para comprobarlo creamos una lista como set y comparamos la longitud de las dos listas\n",
    "\n",
    "if len(puntos)==len(set(puntos)):\n",
    "    print(\"Robin Hood no ha acertado\")\n",
    "else:\n",
    "    print(\"Robin Hood ha acertado\")\n",
    "\n",
    "print(\"Numero de flechar tiradas\", len(puntos))\n",
    "\n",
    "# 2. Calcula cuántos flechazos han caido en cada cuadrante. \n",
    "\n",
    "#Partimos del cuadrante (0,0)\n",
    "# Q1 arriba derecha\n",
    "# Q2 arriba izquierda\n",
    "# Q3 abajo izquierda\n",
    "# Q4 abajo derecha\n",
    "\n",
    "flechasQ1=0\n",
    "flechasQ2=0\n",
    "flechasQ3=0\n",
    "flechasQ4=0\n",
    "\n",
    "for x in puntos:\n",
    "    if x[0]>0 and x[1]>0:\n",
    "        flechasQ1+=1\n",
    "    elif x[0]<0 and x[1]>0:\n",
    "        flechasQ2+=1\n",
    "    elif x[0]<0 and x[1]<0:\n",
    "        flechasQ3+=1\n",
    "    elif x[0]>0 and x[1]<0:\n",
    "        flechasQ4+=1\n",
    "\n",
    "print(\"Flechas en Q1 \" , flechasQ1)\n",
    "print(\"flechas en Q2\", flechasQ2)\n",
    "print(\"Flechas en Q3\", flechasQ3)\n",
    "print(\"Flechas en Q4\", flechasQ4)\n",
    "\n",
    "# 3. Halla el punto más cercano al centro. Calcula su distancia al centro\n",
    "# Definir una función que calcula la distancia al centro puede servir de ayuda. \n",
    "\n",
    "\n",
    "# 4. Si la diana tiene un radio de 9, calcula el número de flechas que hay que recoger al bosque. \n",
    "\n",
    "#para cualquier coordenada mayor que 9, la fecha se va al bosque\n",
    "\n",
    "flechasbosque=0\n",
    "for x in puntos:\n",
    "    if x[0]>9 or x[1]>9:\n",
    "        flechasbosque+=1\n",
    "\n",
    "print(\"Han caido \",flechasbosque, \"flechas al bosque\")\n"
   ]
  },
  {
   "cell_type": "code",
   "execution_count": null,
   "metadata": {},
   "outputs": [],
   "source": []
  }
 ],
 "metadata": {
  "kernelspec": {
   "display_name": "Python 3.7.4 64-bit",
   "language": "python",
   "name": "python3"
  },
  "language_info": {
   "codemirror_mode": {
    "name": "ipython",
    "version": 3
   },
   "file_extension": ".py",
   "mimetype": "text/x-python",
   "name": "python",
   "nbconvert_exporter": "python",
   "pygments_lexer": "ipython3",
   "version": "3.7.4"
  },
  "vscode": {
   "interpreter": {
    "hash": "4a68d6c0066e8dcb68188937774911e93882d11496a351f23b3ed5d4f27effc2"
   }
  }
 },
 "nbformat": 4,
 "nbformat_minor": 2
}
