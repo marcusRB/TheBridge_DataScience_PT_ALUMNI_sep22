{
 "cells": [
  {
   "cell_type": "markdown",
   "metadata": {},
   "source": [
    "# Robin Hood: \n",
    "Estamos en plena competición para ganar el concurso de tiro con arco en Sherwood. Con nuestro arco y flechas disparamos sobre una diana e intentamos acertar lo más cerca posible del centro. \n",
    "\n",
    "El centro de la diana viene representado por los valores (0, 0) en los ejes de coordenadas. \n",
    "\n",
    "## Objetivos: \n",
    "* estructuras de datos: listas, conjuntos, tuplas\n",
    "* operadores lógicos: if-elif-else\n",
    "* bucle: while/for\n",
    "* cálculo de mínimo (sorting opcional)\n",
    "\n",
    "## Descripción: \n",
    "En el espacio de 2 dimensiones un punto se puede definir por un par de valores que corresponden a la coordenada horizontal (x) y a la vertical (y). El espacio puede quedar dividido en 4 zonas (cuadrantes): Q1, Q2, Q3, Q4. Cuyo punto de unión único es el punto (0, 0). \n",
    "\n",
    "Si un punto se encuentra en Q1 tanto su coordenada x como la y son positivas. Te dejo un enlace a wikipedia para que te familiarices con estos cuadrantes. \n",
    "\n",
    "https://es.wikipedia.org/wiki/Coordenadas_cartesianas\n",
    "\n",
    "https://es.wikipedia.org/wiki/Distancia_euclidiana\n",
    "\n",
    "## Tareas\n",
    "1. Robin Hood es famoso por acertar a una flecha con otra flecha. ¿Lo ha conseguido? \n",
    "2. Calcula cuántos flechazos han caido en cada cuadrante. \n",
    "3. Halla el punto más cercano al centro. Calcula su distancia al centro\n",
    "4. Si la diana tiene un radio de 9, calcula el número de flechas que hay que recoger al bosque. "
   ]
  },
  {
   "cell_type": "code",
   "execution_count": 6,
   "metadata": {},
   "outputs": [
    {
     "name": "stdout",
     "output_type": "stream",
     "text": [
      "Ha conseguido acertar más de una flecha con otra.\n",
      "La flecha más cercana al centro está a  2.0  unidades y corresponde al punto:  (0, 2)\n",
      "[6.4031242374328485, 2.0, 8.06225774829855, 3.1622776601683795, 3.605551275463989, 6.4031242374328485, 3.605551275463989, 8.602325267042627, 8.602325267042627, 2.8284271247461903, 6.4031242374328485, 2.0, 8.06225774829855, 3.1622776601683795, 3.605551275463989, 6.4031242374328485, 3.605551275463989, 8.602325267042627, 8.602325267042627, 2.8284271247461903, 12.727922061357855, 12.041594578792296]\n",
      "En una diana redonda de radio 9 hay que ir a buscar  2  flechas.\n",
      "En una diana cuadrada de 9x9 hay que ir a buscar  0  flechas.\n"
     ]
    }
   ],
   "source": [
    "puntos = [(4,5), (-0,2), (4,7), (1,-3), (3,-2), (4,5), \n",
    "          (3,2), (5,7), (-5,7), (2,2), (-4,5), (0,-2), \n",
    "          (-4,7), (-1,3), (-3,2), (-4,-5), (-3,2), \n",
    "          (5,7), (5,7), (2,2), (9, 9), (-8, -9)]\n",
    "\n",
    "# 1. Robin Hood es famoso por acertar a una flecha con otra flecha. ¿Lo ha conseguido?\n",
    "\n",
    "# Dos puntos repetidos suponen el acierto de una flecha sobre otra.\n",
    "# Almacenando la lista de puntos como un SET, eliminamos aquéllos puntos repetidos.\n",
    "# Si la lista tiene el mismo nº de elementos que el SET, no habrá una flecha sobre otra.\n",
    "if len(puntos) == len(set(puntos)):\n",
    "     print(\"Esta vez Robin no ha acertado una flecha con otra.\")\n",
    "else:\n",
    "    print(\"Ha conseguido acertar más de una flecha con otra.\")\n",
    "\n",
    "# 2. Calcula cuántos flechazos han caido en cada cuadrante. \n",
    "flechasQ1 = 0\n",
    "flechasQ2 = 0\n",
    "flechasQ3 = 0\n",
    "flechasQ4 = 0\n",
    "for coord in puntos:\n",
    "    if coord[0] > 0 and coord[1] > 0:\n",
    "        flechasQ1 += 1\n",
    "    elif coord[0] > 0 and coord[1] < 0:\n",
    "        flechasQ2 += 1\n",
    "    elif coord[0] < 0 and coord[1] < 0:\n",
    "        flechasQ3 += 1\n",
    "    elif coord[0] < 0 and coord[1] > 0:\n",
    "        flechasQ3 += 1\n",
    "  \n",
    "\n",
    "# 3. Halla el punto más cercano al centro. Calcula su distancia al centro\n",
    "# Definir una función que calcula la distancia al centro puede servir de ayuda. \n",
    "\n",
    "\n",
    "# La distancia al centro (0,0) la extraigo usando la fórmula de cálculo de la hipotenusa de un triángulo rectángulo,\n",
    "# tomando como catetos los valores absolutos de los puntos. Así, la distancia al 0,0 de cada punto será\n",
    "# la raíz cuadrada del cuadrado del primer elemento, más el cuadrado del segundo.\n",
    "\n",
    "# Suponiendo que no podemos importar librerías, usaré la potencia a 0.5 para simular la raiz cuadrada\n",
    "# Almacenando las distancias en una lista puedo saber con seguridad qué distancia alcanza cada disparo comparando índices.\n",
    "distancias = []\n",
    "for catetos in puntos:\n",
    "    distancias.append(pow((abs(catetos[0])**2 + abs(catetos[1])**2), 0.5))\n",
    "\n",
    "print(\"La flecha más cercana al centro está a \", min(distancias), \" unidades y corresponde al punto: \", puntos[distancias.index(min(distancias))])\n",
    "\n",
    "print(distancias)\n",
    "# 4. Si la diana tiene un radio de 9, calcula el número de flechas que hay que recoger al bosque.\n",
    "\n",
    "# Si cualquiera de las distancias calculadas anteriormente es mayor de 9, se trata de un fallo, pues estamos suponiendo una diana redonda\n",
    "# de radio 9.\n",
    "flechasAlBosque = 0\n",
    "for x in distancias:\n",
    "    if x>9:\n",
    "        flechasAlBosque += 1\n",
    "\n",
    "print(\"En una diana redonda de radio 9 hay que ir a buscar \", flechasAlBosque, \" flechas.\")\n",
    "\n",
    "# Si suponemos una diana cuadrada con una medida de 9 unidades de lado, la comprobación sería como sigue.\n",
    "\n",
    "flechasAlBosque2 = 0\n",
    "for y in distancias:\n",
    "    if y > pow((9**2 + 9**2), 0.5):\n",
    "        flechasAlBosque += 1\n",
    "\n",
    "print(\"En una diana cuadrada de 9x9 hay que ir a buscar \", flechasAlBosque2, \" flechas.\")"
   ]
  },
  {
   "cell_type": "code",
   "execution_count": null,
   "metadata": {},
   "outputs": [],
   "source": []
  }
 ],
 "metadata": {
  "kernelspec": {
   "display_name": "Python 3.9.13 ('rampup_py39')",
   "language": "python",
   "name": "python3"
  },
  "language_info": {
   "codemirror_mode": {
    "name": "ipython",
    "version": 3
   },
   "file_extension": ".py",
   "mimetype": "text/x-python",
   "name": "python",
   "nbconvert_exporter": "python",
   "pygments_lexer": "ipython3",
   "version": "3.9.13"
  },
  "vscode": {
   "interpreter": {
    "hash": "6a099939abd9aeb901add972a81dd3ff5591506d46c99cdd12b2bd4f66ef287c"
   }
  }
 },
 "nbformat": 4,
 "nbformat_minor": 2
}
