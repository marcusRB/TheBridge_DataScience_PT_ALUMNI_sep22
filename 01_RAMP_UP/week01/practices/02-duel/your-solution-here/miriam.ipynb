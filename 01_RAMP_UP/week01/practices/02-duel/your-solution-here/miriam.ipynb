{
 "cells": [
  {
   "cell_type": "code",
   "execution_count": 38,
   "metadata": {},
   "outputs": [
    {
     "name": "stdout",
     "output_type": "stream",
     "text": [
      "Gandalf gana\n"
     ]
    }
   ],
   "source": [
    "# Asignamos las listas de hechizos a variables\n",
    "gandalf = [10, 11, 13, 30, 22, 11, 10, 33, 22, 22]\n",
    "saruman = [23, 66, 12, 43, 12, 10, 44, 23, 12, 17]\n",
    "\n",
    "# Asignamos 0 a cada variable que almacena las victorias\n",
    "gandalfgana = 0\n",
    "sarumangana = 0\n",
    "\n",
    "# Ejecución de los choques de hechizos\n",
    "\n",
    "hechizos = gandalf,saruman\n",
    "\n",
    "#hechizos[0] son los hechizos de Gandalf\n",
    "#hechizos[1] son los hechizos de Saruman\n",
    "\n",
    "for i in range(0, len(gandalf)):\n",
    "    if hechizos[0][i] > hechizos[1][i]:\n",
    "        gandalfgana+=1\n",
    "    elif hechizos[0][i] < hechizos[1][i]:\n",
    "        sarumangana+=1\n",
    "    \n",
    "# Comprobamos quién ha ganado, no olvides la posibilidad de empate. \n",
    "# Imprime el resultado en función del ganador. \n",
    "\n",
    "if gandalfgana > sarumangana:\n",
    "    print('Gandalf gana')\n",
    "elif gandalfgana < sarumangana:\n",
    "    print('Saruman gana')\n",
    "else:\n",
    "    print('Empate')"
   ]
  }
 ],
 "metadata": {
  "kernelspec": {
   "display_name": "Python 3.9.13 ('rampup_py39')",
   "language": "python",
   "name": "python3"
  },
  "language_info": {
   "codemirror_mode": {
    "name": "ipython",
    "version": 3
   },
   "file_extension": ".py",
   "mimetype": "text/x-python",
   "name": "python",
   "nbconvert_exporter": "python",
   "pygments_lexer": "ipython3",
   "version": "3.9.13"
  },
  "orig_nbformat": 4,
  "vscode": {
   "interpreter": {
    "hash": "eaaea08649847d1cf7de1c352d4531d9c9dcf06d1d28c4a1fbe7a87a200e4d41"
   }
  }
 },
 "nbformat": 4,
 "nbformat_minor": 2
}
