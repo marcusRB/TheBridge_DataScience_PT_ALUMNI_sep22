{
 "cells": [
  {
   "cell_type": "markdown",
   "metadata": {},
   "source": [
    "# Duelo de magos\n",
    "Estás presenciando una batalla épica entre dos poderosos magos: Gandalf y Saruman. Cada mago tiene 10 hechizos de potencia variable en su mente y los van a lanzar uno tras otro. El ganador del duelo será el que gane más de esos choques entre hechizos. Los hechizos se representan como una lista de 10 números enteros cuyo valor equivale a la potencia del hechizo. \n",
    "```\n",
    "gandalf = [10, 11, 13, 30, 22, 11, 10, 33, 22, 22]\n",
    "saruman = [23, 66, 12, 43, 12, 10, 44, 23, 12, 17]\n",
    "```\n",
    "Por ejemplo: \n",
    "1. El primer choque lo gana Saruman: 10 contra 23, gana el 23\n",
    "2. El segundo choque gana Saruman: 11 contra 66, gana el 66\n",
    "3. etc.\n",
    "\n",
    "\n",
    "Vas a crear dos variables, una por cada mago, donde se almacenarán la suma de choques de hechizos ganados. En función de qué variable sea mayor al final del duelo, mostrarás por pantalla uno de los tres siguientes resultados: \n",
    "* Gandalf gana\n",
    "* Saruman gana\n",
    "* Empate\n",
    "\n",
    "\n",
    "1. El primer choque lo gana Saruman: 10 contra 23, gana el 23\n",
    "2. El segundo choque gana Saruman: 11 contra 66, gana el 66\n",
    "3. etc."
   ]
  },
  {
   "cell_type": "markdown",
   "metadata": {},
   "source": [
    "## Solución"
   ]
  },
  {
   "cell_type": "code",
   "execution_count": 1,
   "metadata": {},
   "outputs": [],
   "source": [
    "# Asignamos las listas de hechizos a variables\n",
    "gandalf = [10, 11, 13, 30, 22, 11, 10, 33, 22, 22]\n",
    "saruman = [23, 66, 12, 43, 12, 10, 44, 23, 12, 17]\n",
    "\n",
    "# Asignamos 0 a cada variable que almacena las victorias\n",
    "# Ejecución de los choques de hechizos\n",
    "# Comprobamos quién ha ganado, no olvides la posibilidad de empate. \n",
    "# Imprime el resultado en función del ganador. \n",
    "\n"
   ]
  },
  {
   "cell_type": "code",
   "execution_count": 2,
   "metadata": {},
   "outputs": [
    {
     "name": "stdout",
     "output_type": "stream",
     "text": [
      "10 choques Gandalf, 23 choques Saruman. Ha ganado Saruamn\n",
      "11 choques Gandalf, 66 choques Saruman. Ha ganado Saruamn\n",
      "13 choques Gandalf, 12 choques Saruman. Ha ganado Gandalf\n",
      "30 choques Gandalf, 43 choques Saruman. Ha ganado Saruamn\n",
      "22 choques Gandalf, 12 choques Saruman. Ha ganado Gandalf\n",
      "11 choques Gandalf, 10 choques Saruman. Ha ganado Gandalf\n",
      "10 choques Gandalf, 44 choques Saruman. Ha ganado Saruamn\n",
      "33 choques Gandalf, 23 choques Saruman. Ha ganado Gandalf\n",
      "22 choques Gandalf, 12 choques Saruman. Ha ganado Gandalf\n",
      "22 choques Gandalf, 17 choques Saruman. Ha ganado Gandalf\n"
     ]
    }
   ],
   "source": [
    "lista_gandalf = [10, 11, 13, 30, 22, 11, 10, 33, 22, 22]\n",
    "lista_saruman = [23, 66, 12, 43, 12, 10, 44, 23, 12, 17]\n",
    "\n",
    " \n",
    "for i in range(len(lista_gandalf)):\n",
    "    if lista_gandalf[i]<lista_saruman[i]:\n",
    "        i+1\n",
    "        print (lista_gandalf[i], \"choques Gandalf,\", lista_saruman[i], \"choques Saruman. Ha ganado Saruamn\")\n",
    "    if lista_gandalf[i]>lista_saruman[i]:\n",
    "        i+1\n",
    "        print (lista_gandalf[i], \"choques Gandalf,\", lista_saruman[i], \"choques Saruman. Ha ganado Gandalf\")\n",
    "    if lista_gandalf[i]==lista_saruman[i]:\n",
    "        i+1\n",
    "        print (lista_gandalf[i], \"choques Gandalf,\", lista_saruman[i], \"choques Saruman. Empate\")\n",
    "\n"
   ]
  },
  {
   "cell_type": "markdown",
   "metadata": {},
   "source": [
    "## Objetivos\n",
    "\n",
    "1. Tratamiento de listas\n",
    "2. Uso de bucle **for**\n",
    "3. Uso de condicionales **if-elif-else**\n",
    "4. Uso de las funciones **range(), len()**\n",
    "5. Imprimir por consola"
   ]
  },
  {
   "cell_type": "code",
   "execution_count": null,
   "metadata": {},
   "outputs": [],
   "source": []
  }
 ],
 "metadata": {
  "kernelspec": {
   "display_name": "Python 3.9.13 ('rampup_py39')",
   "language": "python",
   "name": "python3"
  },
  "language_info": {
   "codemirror_mode": {
    "name": "ipython",
    "version": 3
   },
   "file_extension": ".py",
   "mimetype": "text/x-python",
   "name": "python",
   "nbconvert_exporter": "python",
   "pygments_lexer": "ipython3",
   "version": "3.9.13"
  },
  "vscode": {
   "interpreter": {
    "hash": "914dc59a7cb5e2d8d8e0ce79beeae980b8b1ad28adada279c9c9b69c8eb07285"
   }
  }
 },
 "nbformat": 4,
 "nbformat_minor": 2
}
